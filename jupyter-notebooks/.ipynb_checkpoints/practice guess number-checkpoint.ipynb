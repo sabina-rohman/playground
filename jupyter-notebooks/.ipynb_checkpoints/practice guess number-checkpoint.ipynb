{
 "cells": [
  {
   "cell_type": "code",
   "execution_count": null,
   "metadata": {},
   "outputs": [],
   "source": [
    "from random import randint\n",
    "def get_random_number():\n",
    "    num = randint(1,3)\n",
    "    return num"
   ]
  },
  {
   "cell_type": "code",
   "execution_count": null,
   "metadata": {},
   "outputs": [],
   "source": [
    "def get_user_number(hint):\n",
    "    result = input('Choose a number(1-3): ' + hint + ':')\n",
    "    return result"
   ]
  },
  {
   "cell_type": "code",
   "execution_count": null,
   "metadata": {},
   "outputs": [],
   "source": [
    "def hint_method(num):\n",
    "    if num == 1:\n",
    "        return 'Run'\n",
    "    elif num == 2:\n",
    "        return 'Shoe'\n",
    "    elif num == 3:\n",
    "        return 'Free'"
   ]
  },
  {
   "cell_type": "code",
   "execution_count": null,
   "metadata": {},
   "outputs": [],
   "source": [
    "def show_result(random_number,user_number):\n",
    "    if random_number == user_number:\n",
    "        print('Hooray you have won!!')\n",
    "    else:\n",
    "        print('Try again!The lucky number was: ' , random_number)"
   ]
  },
  {
   "cell_type": "code",
   "execution_count": null,
   "metadata": {},
   "outputs": [],
   "source": [
    "from IPython.display import clear_output\n",
    "def play_game():\n",
    "    clear_output()\n",
    "    random_number = get_random_number()\n",
    "    hint = hint_method(random_number)\n",
    "    user_number = get_user_number(hint)\n",
    "    show_result(random_number,user_number)"
   ]
  },
  {
   "cell_type": "code",
   "execution_count": null,
   "metadata": {},
   "outputs": [],
   "source": [
    "def main():\n",
    "    keep_playing = True\n",
    "    while keep_playing:\n",
    "        play_game()\n",
    "        keep_playing = input('Do you want to play again?: Y or N: ').upper().startswith('Y')\n",
    "        \n"
   ]
  },
  {
   "cell_type": "code",
   "execution_count": null,
   "metadata": {},
   "outputs": [],
   "source": [
    "main()"
   ]
  },
  {
   "cell_type": "code",
   "execution_count": null,
   "metadata": {},
   "outputs": [],
   "source": []
  }
 ],
 "metadata": {
  "kernelspec": {
   "display_name": "Python 3",
   "language": "python",
   "name": "python3"
  },
  "language_info": {
   "codemirror_mode": {
    "name": "ipython",
    "version": 3
   },
   "file_extension": ".py",
   "mimetype": "text/x-python",
   "name": "python",
   "nbconvert_exporter": "python",
   "pygments_lexer": "ipython3",
   "version": "3.7.1"
  }
 },
 "nbformat": 4,
 "nbformat_minor": 2
}
