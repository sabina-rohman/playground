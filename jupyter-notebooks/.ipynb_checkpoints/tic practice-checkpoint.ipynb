{
 "cells": [
  {
   "cell_type": "code",
   "execution_count": 1,
   "metadata": {},
   "outputs": [],
   "source": [
    "from IPython.display import clear_output\n",
    "def display(board):\n",
    "    clear_output()\n",
    "    print('  |   |  ')\n",
    "    print(board[7] + ' | ' + board[8] + ' | ' + board[9])\n",
    "    print('-----------')\n",
    "    print('  |   |  ')\n",
    "    print(board[4] + ' | ' + board[5] + ' | ' + board[6])\n",
    "    print('-----------')\n",
    "    print('  |   |  ')\n",
    "    print(board[1] + ' | ' + board[2] + ' | ' + board[3])\n"
   ]
  },
  {
   "cell_type": "code",
   "execution_count": 2,
   "metadata": {},
   "outputs": [],
   "source": [
    "def player_input():\n",
    "    marker = ''\n",
    "    while marker != 'X' and marker != 'O':\n",
    "        marker = input('Player 1 choose your marker :  ').upper()\n",
    "        player1_marker = marker\n",
    "        if player1_marker == 'X':\n",
    "            player2_marker = 'O'\n",
    "        else:\n",
    "            player2_marker = 'X'\n",
    "    return (player1_marker,player2_marker)"
   ]
  },
  {
   "cell_type": "code",
   "execution_count": 3,
   "metadata": {},
   "outputs": [],
   "source": [
    "def do_step(board,marker,position):\n",
    "    board[position] = marker\n",
    "    return board"
   ]
  },
  {
   "cell_type": "code",
   "execution_count": 4,
   "metadata": {},
   "outputs": [],
   "source": [
    "import random\n",
    "def choose_first():\n",
    "    flip = random.randint(0,1)\n",
    "    if flip == 0:\n",
    "        return 'Player 1'\n",
    "    else:\n",
    "        return 'Player 2'\n",
    "    "
   ]
  },
  {
   "cell_type": "code",
   "execution_count": 5,
   "metadata": {},
   "outputs": [],
   "source": [
    "def space_check(board,position):\n",
    "    return board[position] == ' '"
   ]
  },
  {
   "cell_type": "code",
   "execution_count": 6,
   "metadata": {},
   "outputs": [],
   "source": [
    "def player_choice(board):\n",
    "    while True:\n",
    "        position = int(input('Choose your position (1-9): '))\n",
    "        is_position_correct = position in [1,2,3,4,5,6,7,8,9] and space_check(board,position)\n",
    "        if is_position_correct:\n",
    "            break\n",
    "    return position   \n",
    "    "
   ]
  },
  {
   "cell_type": "code",
   "execution_count": 7,
   "metadata": {},
   "outputs": [],
   "source": [
    "def full_board_check(board):\n",
    "    for i in range(1,10):\n",
    "        if space_check(board,i):\n",
    "            return False\n",
    "    return True"
   ]
  },
  {
   "cell_type": "code",
   "execution_count": 8,
   "metadata": {},
   "outputs": [],
   "source": [
    "def win_check(board,mark):\n",
    "    return((board[7] == mark and board[8] == mark and board[9] == mark) or  # across the top\n",
    "            (board[4] == mark and board[5] == mark and board[6] == mark) or  # across the middle\n",
    "            (board[1] == mark and board[2] == mark and board[3] == mark) or  # across the bottom\n",
    "            (board[7] == mark and board[4] == mark and board[1] == mark) or  # down the middle\n",
    "            (board[8] == mark and board[5] == mark and board[2] == mark) or  # down the middle\n",
    "            (board[9] == mark and board[6] == mark and board[3] == mark) or  # down the right side\n",
    "            (board[7] == mark and board[5] == mark and board[3] == mark) or  # diagonal\n",
    "            (board[9] == mark and board[5] == mark and board[1] == mark))  # diagonal\n"
   ]
  },
  {
   "cell_type": "code",
   "execution_count": 9,
   "metadata": {},
   "outputs": [],
   "source": [
    "def replay():\n",
    "    return input('Do you want to play again? Yes or No ').upper().startswith('Y')"
   ]
  },
  {
   "cell_type": "code",
   "execution_count": null,
   "metadata": {},
   "outputs": [
    {
     "name": "stdout",
     "output_type": "stream",
     "text": [
      "  |   |  \n",
      "O | X | X\n",
      "-----------\n",
      "  |   |  \n",
      "X | O | O\n",
      "-----------\n",
      "  |   |  \n",
      "X | O | X\n",
      "TIE GAME\n"
     ]
    }
   ],
   "source": [
    "print('WELCOME TO TIC TAC TOE GAME')\n",
    "while True:\n",
    "    the_board = [' ']*10\n",
    "    player1_marker,player2_marker = player_input()\n",
    "    turn = choose_first()\n",
    "    print(turn + '  will go first')\n",
    "    \n",
    "    game_on = input('Are you ready to play? Yes or No').upper().startswith('Y')\n",
    "    \n",
    "    \n",
    "        \n",
    "    while game_on:\n",
    "        if turn == 'Player 1':\n",
    "            display(the_board)\n",
    "            position = player_choice(the_board)\n",
    "            do_step(the_board,player1_marker,position)\n",
    "            \n",
    "            if win_check(the_board,player1_marker):\n",
    "                display(the_board)\n",
    "                print('Player 1 has won!!')\n",
    "                game_on = False\n",
    "            else:\n",
    "                if full_board_check(the_board):\n",
    "                    display(the_board)\n",
    "                    print('TIE GAME')\n",
    "                    game_on = False\n",
    "                    \n",
    "                else:\n",
    "                    turn = 'Player 2'\n",
    "        else:\n",
    "            display(the_board)\n",
    "            position = player_choice(the_board)\n",
    "            do_step(the_board,player2_marker,position)\n",
    "            \n",
    "            if win_check(the_board,player2_marker):\n",
    "                display(the_board)\n",
    "                print('Player 2 has won')\n",
    "                game_on = False\n",
    "            else:\n",
    "                if full_board_check(the_board):\n",
    "                    display(the_board)\n",
    "                    print('TIE GAME')\n",
    "                    game_on = False\n",
    "                    \n",
    "                else:\n",
    "                    turn = 'Player 1'\n",
    "                        \n",
    "    if not replay():\n",
    "        break\n",
    "                    \n",
    "                \n",
    "        "
   ]
  },
  {
   "cell_type": "code",
   "execution_count": null,
   "metadata": {},
   "outputs": [],
   "source": []
  },
  {
   "cell_type": "code",
   "execution_count": null,
   "metadata": {},
   "outputs": [],
   "source": []
  },
  {
   "cell_type": "code",
   "execution_count": null,
   "metadata": {},
   "outputs": [],
   "source": []
  }
 ],
 "metadata": {
  "kernelspec": {
   "display_name": "Python 3",
   "language": "python",
   "name": "python3"
  },
  "language_info": {
   "codemirror_mode": {
    "name": "ipython",
    "version": 3
   },
   "file_extension": ".py",
   "mimetype": "text/x-python",
   "name": "python",
   "nbconvert_exporter": "python",
   "pygments_lexer": "ipython3",
   "version": "3.7.0"
  }
 },
 "nbformat": 4,
 "nbformat_minor": 2
}
