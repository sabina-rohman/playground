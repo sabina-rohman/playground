{
 "cells": [
  {
   "cell_type": "code",
   "execution_count": 1,
   "metadata": {},
   "outputs": [],
   "source": [
    "def count_primes(num):\n",
    " \n",
    " \n",
    "    t=0  #final count\n",
    " \n",
    "    for i in range(3, num): # starting from 3, going up to num\n",
    " \n",
    "        for l in range(3,i): # starting on 3, going up to i\n",
    " \n",
    "            if i%l == 0: # if i is completely divided by l, then, break from the loop, since that's not a prime\n",
    "                break\n",
    " \n",
    "        else: # if the loop doesn't break, then, it means that the number is prime, thus, add 1 to 't'\n",
    " \n",
    "            t=t+1\n",
    " \n",
    "    return t # return t"
   ]
  },
  {
   "cell_type": "code",
   "execution_count": 2,
   "metadata": {},
   "outputs": [],
   "source": [
    "def count_prime(num):\n",
    "    t = 0\n",
    "    \n",
    "    for i in range(3,num):\n",
    "        for l in range(3,i):\n",
    "            if i%l == 0:\n",
    "                break\n",
    "        else:\n",
    "            t+=1\n",
    "    return t"
   ]
  },
  {
   "cell_type": "code",
   "execution_count": 4,
   "metadata": {},
   "outputs": [],
   "source": [
    "#Fizz Buzz - Write a program that prints the numbers from 1 to 100. But for multiples of three print “Fizz” instead of the number and for the multiples of five print “Buzz”. For numbers which are multiples of both three and five print “FizzBuzz”."
   ]
  },
  {
   "cell_type": "code",
   "execution_count": 5,
   "metadata": {},
   "outputs": [],
   "source": [
    "def fizzbuzz(num):\n",
    "    for i in range(num):\n",
    "        if i % 3 == 0 and i % 5 == 0:\n",
    "            print('FizzBuzz')\n",
    "        elif i % 3 == 0:\n",
    "            print('Fizz')\n",
    "        elif i % 5 == 0:\n",
    "            print('Buzz')\n",
    "        \n",
    "            "
   ]
  },
  {
   "cell_type": "code",
   "execution_count": 6,
   "metadata": {},
   "outputs": [
    {
     "name": "stdout",
     "output_type": "stream",
     "text": [
      "FizzBuzz\n",
      "Fizz\n",
      "Buzz\n",
      "Fizz\n",
      "Fizz\n",
      "Buzz\n",
      "Fizz\n",
      "FizzBuzz\n",
      "Fizz\n",
      "Buzz\n",
      "Fizz\n",
      "Fizz\n",
      "Buzz\n",
      "Fizz\n",
      "FizzBuzz\n",
      "Fizz\n",
      "Buzz\n",
      "Fizz\n",
      "Fizz\n",
      "Buzz\n",
      "Fizz\n",
      "FizzBuzz\n",
      "Fizz\n",
      "Buzz\n",
      "Fizz\n",
      "Fizz\n",
      "Buzz\n",
      "Fizz\n",
      "FizzBuzz\n",
      "Fizz\n",
      "Buzz\n",
      "Fizz\n",
      "Fizz\n",
      "Buzz\n",
      "Fizz\n",
      "FizzBuzz\n",
      "Fizz\n",
      "Buzz\n",
      "Fizz\n",
      "Fizz\n",
      "Buzz\n",
      "Fizz\n",
      "FizzBuzz\n",
      "Fizz\n",
      "Buzz\n",
      "Fizz\n",
      "Fizz\n"
     ]
    }
   ],
   "source": [
    "fizzbuzz(100)"
   ]
  },
  {
   "cell_type": "code",
   "execution_count": 7,
   "metadata": {},
   "outputs": [],
   "source": [
    "#Reverse a String - Enter a string and the program will reverse it and print it out."
   ]
  },
  {
   "cell_type": "code",
   "execution_count": 8,
   "metadata": {},
   "outputs": [],
   "source": [
    "def reverse_string(mystring):\n",
    "    return mystring[::-1]"
   ]
  },
  {
   "cell_type": "code",
   "execution_count": 9,
   "metadata": {},
   "outputs": [
    {
     "data": {
      "text/plain": [
       "'anibas'"
      ]
     },
     "execution_count": 9,
     "metadata": {},
     "output_type": "execute_result"
    }
   ],
   "source": [
    "reverse_string(\"sabina\")"
   ]
  },
  {
   "cell_type": "code",
   "execution_count": 10,
   "metadata": {},
   "outputs": [
    {
     "data": {
      "text/plain": [
       "'olleh'"
      ]
     },
     "execution_count": 10,
     "metadata": {},
     "output_type": "execute_result"
    }
   ],
   "source": [
    "reverse_string(\"hello\")"
   ]
  },
  {
   "cell_type": "code",
   "execution_count": 11,
   "metadata": {},
   "outputs": [],
   "source": [
    "#Pig Latin - Pig Latin is a game of alterations played on the English language game. To create the Pig Latin form of an English word the initial consonant sound is transposed to the end of the word and an ay is affixed (Ex.: \"banana\" would yield anana-bay). Read Wikipedia for more information on rules."
   ]
  },
  {
   "cell_type": "code",
   "execution_count": 12,
   "metadata": {},
   "outputs": [],
   "source": [
    "def pig_latin(mystring):\n",
    "    first = mystring[0]\n",
    "    second = mystring[1:]\n",
    "    return second + '-' + first + 'ay'"
   ]
  },
  {
   "cell_type": "code",
   "execution_count": 13,
   "metadata": {},
   "outputs": [
    {
     "data": {
      "text/plain": [
       "'anana-bay'"
      ]
     },
     "execution_count": 13,
     "metadata": {},
     "output_type": "execute_result"
    }
   ],
   "source": [
    "pig_latin('banana')"
   ]
  },
  {
   "cell_type": "code",
   "execution_count": 14,
   "metadata": {},
   "outputs": [
    {
     "data": {
      "text/plain": [
       "'abina-say'"
      ]
     },
     "execution_count": 14,
     "metadata": {},
     "output_type": "execute_result"
    }
   ],
   "source": [
    "pig_latin('sabina')"
   ]
  },
  {
   "cell_type": "code",
   "execution_count": 15,
   "metadata": {},
   "outputs": [],
   "source": [
    "#Count Vowels - Enter a string and the program counts the number of vowels in the text. For added complexity have it report a sum of each vowel found."
   ]
  },
  {
   "cell_type": "code",
   "execution_count": null,
   "metadata": {},
   "outputs": [],
   "source": [
    "\n",
    "\n",
    "     "
   ]
  },
  {
   "cell_type": "code",
   "execution_count": 34,
   "metadata": {},
   "outputs": [
    {
     "name": "stdout",
     "output_type": "stream",
     "text": [
      "1 1 0 0 0\n"
     ]
    }
   ],
   "source": [
    "print(*map(mystr.lower().count, \"aeiou\"))\n"
   ]
  },
  {
   "cell_type": "code",
   "execution_count": 27,
   "metadata": {},
   "outputs": [
    {
     "data": {
      "text/plain": [
       "11"
      ]
     },
     "execution_count": 27,
     "metadata": {},
     "output_type": "execute_result"
    }
   ],
   "source": [
    "vowel_count('Aydin went to school under an umbrella')"
   ]
  },
  {
   "cell_type": "code",
   "execution_count": 28,
   "metadata": {},
   "outputs": [],
   "source": [
    "def palindrome(s):\n",
    "    return s == s[::-1]"
   ]
  },
  {
   "cell_type": "code",
   "execution_count": 29,
   "metadata": {},
   "outputs": [
    {
     "data": {
      "text/plain": [
       "True"
      ]
     },
     "execution_count": 29,
     "metadata": {},
     "output_type": "execute_result"
    }
   ],
   "source": [
    "palindrome('madam')"
   ]
  },
  {
   "cell_type": "code",
   "execution_count": 30,
   "metadata": {},
   "outputs": [
    {
     "data": {
      "text/plain": [
       "True"
      ]
     },
     "execution_count": 30,
     "metadata": {},
     "output_type": "execute_result"
    }
   ],
   "source": [
    "palindrome('kayak')"
   ]
  },
  {
   "cell_type": "code",
   "execution_count": 31,
   "metadata": {},
   "outputs": [
    {
     "data": {
      "text/plain": [
       "True"
      ]
     },
     "execution_count": 31,
     "metadata": {},
     "output_type": "execute_result"
    }
   ],
   "source": [
    "palindrome('redder')"
   ]
  },
  {
   "cell_type": "code",
   "execution_count": 32,
   "metadata": {},
   "outputs": [
    {
     "data": {
      "text/plain": [
       "False"
      ]
     },
     "execution_count": 32,
     "metadata": {},
     "output_type": "execute_result"
    }
   ],
   "source": [
    "palindrome('mummy')"
   ]
  },
  {
   "cell_type": "code",
   "execution_count": null,
   "metadata": {},
   "outputs": [],
   "source": [
    "#Count Words in a String - Counts the number of individual words in a string. For added complexity read these strings in from a text file and generate a summary."
   ]
  },
  {
   "cell_type": "code",
   "execution_count": null,
   "metadata": {},
   "outputs": [],
   "source": [
    "def count_words(mystring):\n",
    "    new_list = mystring.split('')\n",
    "    return len(new_list)"
   ]
  },
  {
   "cell_type": "code",
   "execution_count": null,
   "metadata": {},
   "outputs": [],
   "source": [
    "count_words('Hello everyone')"
   ]
  },
  {
   "cell_type": "code",
   "execution_count": null,
   "metadata": {},
   "outputs": [],
   "source": []
  }
 ],
 "metadata": {
  "kernelspec": {
   "display_name": "Python 3",
   "language": "python",
   "name": "python3"
  },
  "language_info": {
   "codemirror_mode": {
    "name": "ipython",
    "version": 3
   },
   "file_extension": ".py",
   "mimetype": "text/x-python",
   "name": "python",
   "nbconvert_exporter": "python",
   "pygments_lexer": "ipython3",
   "version": "3.7.1"
  }
 },
 "nbformat": 4,
 "nbformat_minor": 2
}
