{
 "cells": [
  {
   "cell_type": "code",
   "execution_count": 5,
   "metadata": {},
   "outputs": [],
   "source": [
    "#1\n",
    "def multi_div(start,end):\n",
    "    new_list = []\n",
    "    for i in range(start,end+1):\n",
    "        if i % 7 == 0 and i % 5 != 0:\n",
    "            new_list.append(str(i))\n",
    "    return ','.join(new_list)"
   ]
  },
  {
   "cell_type": "code",
   "execution_count": 6,
   "metadata": {},
   "outputs": [
    {
     "data": {
      "text/plain": [
       "'14,21,28,42,49'"
      ]
     },
     "execution_count": 6,
     "metadata": {},
     "output_type": "execute_result"
    }
   ],
   "source": [
    "multi_div(10,51)"
   ]
  },
  {
   "cell_type": "code",
   "execution_count": 9,
   "metadata": {},
   "outputs": [],
   "source": [
    "#2\n",
    "def factorial(n):\n",
    "    if n == 0:\n",
    "        return 1\n",
    "    \n",
    "    result = 1\n",
    "    for i in range(1,n+1):\n",
    "        result *= i\n",
    "    return result"
   ]
  },
  {
   "cell_type": "code",
   "execution_count": 10,
   "metadata": {},
   "outputs": [],
   "source": [
    "#3\n",
    "def dict_square(n):\n",
    "    new_dict = {}\n",
    "    for i in range(1,n+1):\n",
    "        new_dict[i] = i*i\n",
    "    return new_dict\n"
   ]
  },
  {
   "cell_type": "code",
   "execution_count": 11,
   "metadata": {},
   "outputs": [
    {
     "data": {
      "text/plain": [
       "{1: 1, 2: 4, 3: 9, 4: 16}"
      ]
     },
     "execution_count": 11,
     "metadata": {},
     "output_type": "execute_result"
    }
   ],
   "source": [
    "dict_square(4)"
   ]
  },
  {
   "cell_type": "code",
   "execution_count": 16,
   "metadata": {},
   "outputs": [],
   "source": [
    "#4\n",
    "def str_conversion(s):\n",
    "    new_list = s.split(',')\n",
    "    print(new_list)\n",
    "    new_tuple = tuple(new_list)\n",
    "    print(new_tuple)"
   ]
  },
  {
   "cell_type": "code",
   "execution_count": 17,
   "metadata": {},
   "outputs": [
    {
     "name": "stdout",
     "output_type": "stream",
     "text": [
      "['34', '67', '55', '33', '12', '98']\n",
      "('34', '67', '55', '33', '12', '98')\n"
     ]
    }
   ],
   "source": [
    "str_conversion('34,67,55,33,12,98')"
   ]
  },
  {
   "cell_type": "code",
   "execution_count": 18,
   "metadata": {},
   "outputs": [],
   "source": [
    "#5\n",
    "#class UpperString:\n",
    "    #def __init__(self):\n",
    "        #self.string = ''\n",
    "        \n",
    "    #def get_string(self):\n",
    "       # self.string = input('Enter a string please: ')\n",
    "        \n",
    "    #def to_upper(self):\n",
    "        #return self.string.upper()\n",
    "    \n",
    "#if __name__ == '__main__':\n",
    "    #item = UpperString()\n",
    "    #item.get_string()\n",
    "   # print(item.to_upper())"
   ]
  },
  {
   "cell_type": "code",
   "execution_count": 22,
   "metadata": {},
   "outputs": [
    {
     "name": "stdout",
     "output_type": "stream",
     "text": [
      "['100', '150', '180']\n",
      "18,22,24\n"
     ]
    }
   ],
   "source": [
    "import math\n",
    "d_str = '100,150,180'\n",
    "d_list = d_str.split(',')\n",
    "c = 50\n",
    "h = 30\n",
    "print(d_list)\n",
    "result = []\n",
    "for d in d_list:\n",
    "    result.append(str(round(math.sqrt((2* c*int(d))/h))))\n",
    "print(','.join(result)) "
   ]
  },
  {
   "cell_type": "code",
   "execution_count": 26,
   "metadata": {},
   "outputs": [],
   "source": [
    "#7\n",
    "def two_dimension(x,y):\n",
    "    x_result = []\n",
    "    for i in range(1,x+1):\n",
    "        y_result = []\n",
    "        for j in range(1,y+1):\n",
    "            y_result.append(i*j)\n",
    "            x_result.append(y_result)\n",
    "    return x_result"
   ]
  },
  {
   "cell_type": "code",
   "execution_count": 27,
   "metadata": {},
   "outputs": [
    {
     "data": {
      "text/plain": [
       "[[1, 2, 3, 4, 5],\n",
       " [1, 2, 3, 4, 5],\n",
       " [1, 2, 3, 4, 5],\n",
       " [1, 2, 3, 4, 5],\n",
       " [1, 2, 3, 4, 5],\n",
       " [2, 4, 6, 8, 10],\n",
       " [2, 4, 6, 8, 10],\n",
       " [2, 4, 6, 8, 10],\n",
       " [2, 4, 6, 8, 10],\n",
       " [2, 4, 6, 8, 10],\n",
       " [3, 6, 9, 12, 15],\n",
       " [3, 6, 9, 12, 15],\n",
       " [3, 6, 9, 12, 15],\n",
       " [3, 6, 9, 12, 15],\n",
       " [3, 6, 9, 12, 15]]"
      ]
     },
     "execution_count": 27,
     "metadata": {},
     "output_type": "execute_result"
    }
   ],
   "source": [
    "two_dimension(3,5)"
   ]
  },
  {
   "cell_type": "code",
   "execution_count": 36,
   "metadata": {},
   "outputs": [
    {
     "name": "stdout",
     "output_type": "stream",
     "text": [
      "bag,hello,without,world\n"
     ]
    }
   ],
   "source": [
    "#8\n",
    "s = 'without,hello,bag,world'\n",
    "new_list = s.split(',')\n",
    "#print(new_list)\n",
    "new_list.sort()\n",
    "#print(new_list)\n",
    "print(','.join(new_list))\n"
   ]
  },
  {
   "cell_type": "code",
   "execution_count": 41,
   "metadata": {},
   "outputs": [
    {
     "name": "stdout",
     "output_type": "stream",
     "text": [
      "HELLO WORLD\n",
      "PRACTICE MAKES PERFECT\n"
     ]
    }
   ],
   "source": [
    "#9\n",
    "s = 'Hello world\\nPractice makes perfect'\n",
    "#print(s)\n",
    "result = [x.upper() for x in s.split('\\n')]\n",
    "print('\\n'.join(result))"
   ]
  },
  {
   "cell_type": "code",
   "execution_count": 48,
   "metadata": {},
   "outputs": [
    {
     "name": "stdout",
     "output_type": "stream",
     "text": [
      "['hello', 'world', 'and', 'practice', 'makes', 'perfect', 'and', 'hello', 'world', 'again']\n",
      "again and hello makes perfect practice world\n"
     ]
    }
   ],
   "source": [
    "#10\n",
    "s = 'hello world and practice makes perfect and hello world again'\n",
    "new_list = s.split()\n",
    "#print(new_list)\n",
    "my_set = set(new_list)\n",
    "l = list(my_set)\n",
    "l.sort()\n",
    "print(' '.join(l))\n"
   ]
  },
  {
   "cell_type": "code",
   "execution_count": 52,
   "metadata": {},
   "outputs": [
    {
     "name": "stdout",
     "output_type": "stream",
     "text": [
      "['0100', '0011', '1010', '1001']\n"
     ]
    },
    {
     "data": {
      "text/plain": [
       "'0100,1010'"
      ]
     },
     "execution_count": 52,
     "metadata": {},
     "output_type": "execute_result"
    }
   ],
   "source": [
    "#11\n",
    "input_string = '0100,0011,1010,1001'\n",
    "input_list = input_string.split(',')\n",
    "print(input_list)\n",
    "result = [x for x in input_list if int(x) % 5 == 0]\n",
    "','.join(result)"
   ]
  },
  {
   "cell_type": "code",
   "execution_count": 53,
   "metadata": {},
   "outputs": [],
   "source": [
    "#12\n",
    "def even_digit(n):\n",
    "    s = str(n)\n",
    "    for i in s:\n",
    "        if int(i) % 2 != 0:\n",
    "            return False\n",
    "    return True\n",
    "            "
   ]
  },
  {
   "cell_type": "code",
   "execution_count": 54,
   "metadata": {},
   "outputs": [],
   "source": [
    "def odd_even(start,end):\n",
    "    result = []\n",
    "    for i in range(start,end+1):\n",
    "        if even_digit(i):\n",
    "            result.append(str(i))\n",
    "    return ','.join(result)"
   ]
  },
  {
   "cell_type": "code",
   "execution_count": 55,
   "metadata": {},
   "outputs": [
    {
     "data": {
      "text/plain": [
       "'2,4,6,8,20,22,24,26,28,40,42,44,46,48,60,62,64,66,68,80,82,84,86,88'"
      ]
     },
     "execution_count": 55,
     "metadata": {},
     "output_type": "execute_result"
    }
   ],
   "source": [
    "odd_even(1,100)"
   ]
  },
  {
   "cell_type": "code",
   "execution_count": 58,
   "metadata": {},
   "outputs": [
    {
     "name": "stdout",
     "output_type": "stream",
     "text": [
      "2000,2002,2004,2006,2008,2020,2022,2024,2026,2028,2040,2042,2044,2046,2048,2060,2062,2064,2066,2068,2080,2082,2084,2086,2088,2200,2202,2204,2206,2208,2220,2222,2224,2226,2228,2240,2242,2244,2246,2248,2260,2262,2264,2266,2268,2280,2282,2284,2286,2288,2400,2402,2404,2406,2408,2420,2422,2424,2426,2428,2440,2442,2444,2446,2448,2460,2462,2464,2466,2468,2480,2482,2484,2486,2488,2600,2602,2604,2606,2608,2620,2622,2624,2626,2628,2640,2642,2644,2646,2648,2660,2662,2664,2666,2668,2680,2682,2684,2686,2688,2800,2802,2804,2806,2808,2820,2822,2824,2826,2828,2840,2842,2844,2846,2848,2860,2862,2864,2866,2868,2880,2882,2884,2886,2888\n"
     ]
    }
   ],
   "source": [
    "result = []\n",
    "for i in range(2000,3001):\n",
    "    s = str(i)\n",
    "    if int(s[0]) % 2 == 0 and int(s[1]) % 2 == 0 and int(s[2]) % 2 == 0 and int(s[3]) % 2 ==0:\n",
    "        result.append(s)\n",
    "print(','.join(result))"
   ]
  },
  {
   "cell_type": "code",
   "execution_count": 62,
   "metadata": {},
   "outputs": [],
   "source": [
    "#13\n",
    "def alpha_digit(s):\n",
    "    count_alpha = 0\n",
    "    count_digit = 0\n",
    "    for i in s:\n",
    "        if i.isalpha():\n",
    "            count_alpha += 1\n",
    "        elif i.isdigit():\n",
    "            count_digit += 1\n",
    "        else:\n",
    "            pass\n",
    "    return(f'LETTERS: {count_alpha}\\nDIGITS: {count_digit}')"
   ]
  },
  {
   "cell_type": "code",
   "execution_count": 64,
   "metadata": {},
   "outputs": [
    {
     "name": "stdout",
     "output_type": "stream",
     "text": [
      "LETTERS: 10\n",
      "DIGITS: 3\n"
     ]
    }
   ],
   "source": [
    "print(alpha_digit('hello world! 123'))"
   ]
  },
  {
   "cell_type": "code",
   "execution_count": 65,
   "metadata": {},
   "outputs": [],
   "source": [
    "#14\n",
    "def upper_lower(s):\n",
    "    count_upper = 0\n",
    "    count_lower = 0\n",
    "    for i in s:\n",
    "        if i.isupper():\n",
    "            count_upper += 1\n",
    "        elif i.islower():\n",
    "            count_lower += 1\n",
    "        else:\n",
    "            pass\n",
    "    return(f'UPPER CASE: {count_upper}\\nLOWER CASE: {count_lower}')"
   ]
  },
  {
   "cell_type": "code",
   "execution_count": 66,
   "metadata": {},
   "outputs": [
    {
     "name": "stdout",
     "output_type": "stream",
     "text": [
      "UPPER CASE: 1\n",
      "LOWER CASE: 9\n"
     ]
    }
   ],
   "source": [
    "print(upper_lower('Hello world!'))"
   ]
  },
  {
   "cell_type": "code",
   "execution_count": 67,
   "metadata": {},
   "outputs": [],
   "source": [
    "#15\n",
    "def add_up(n):\n",
    "    n1 = n\n",
    "    n2 = n1 + (n*10)\n",
    "    n3 = n2 + (n*100)\n",
    "    n4 = n3 +(n*1000)\n",
    "    \n",
    "    return n1+n2+n3+n4"
   ]
  },
  {
   "cell_type": "code",
   "execution_count": 68,
   "metadata": {},
   "outputs": [
    {
     "data": {
      "text/plain": [
       "11106"
      ]
     },
     "execution_count": 68,
     "metadata": {},
     "output_type": "execute_result"
    }
   ],
   "source": [
    "add_up(9)"
   ]
  },
  {
   "cell_type": "code",
   "execution_count": 72,
   "metadata": {},
   "outputs": [
    {
     "name": "stdout",
     "output_type": "stream",
     "text": [
      "['1', '2', '3', '4', '5', '6', '7', '8', '9']\n",
      "[1, 9, 25, 49, 81]\n"
     ]
    }
   ],
   "source": [
    "#16\n",
    "user_input = \"1,2,3,4,5,6,7,8,9\"\n",
    "new_list = user_input.split(',')\n",
    "print(new_list)\n",
    "result = [int(x)**2 for x in new_list if int(x)%2 != 0]\n",
    "print(result)"
   ]
  },
  {
   "cell_type": "code",
   "execution_count": 76,
   "metadata": {},
   "outputs": [],
   "source": [
    "#17\n",
    "def bank_account(mystring):\n",
    "    new_list = mystring.split(',')\n",
    "    other_list = []\n",
    "    for i in new_list:\n",
    "        other_list.append(tuple(i.split()))\n",
    "        \n",
    "    balance = 0\n",
    "    for index,tup in enumerate(other_list):\n",
    "        if len(tup) != 2:\n",
    "            raise Exception(f\"Invalid entry found: {tup}, entry number: {index+1} \")\n",
    "        if tup[0].lower() == 'd':\n",
    "            balance += int(tup[1])\n",
    "        elif tup[0].lower() == 'w':\n",
    "            balance -= int(tup[1])\n",
    "        else:\n",
    "            raise Exception(f\"Undefined value found: {tup[0]}, entry number:{index+1}\")\n",
    "            \n",
    "    return balance\n",
    "    "
   ]
  },
  {
   "cell_type": "code",
   "execution_count": 79,
   "metadata": {},
   "outputs": [
    {
     "ename": "Exception",
     "evalue": "Undefined value found: x, entry number:5",
     "output_type": "error",
     "traceback": [
      "\u001b[1;31m---------------------------------------------------------------------------\u001b[0m",
      "\u001b[1;31mException\u001b[0m                                 Traceback (most recent call last)",
      "\u001b[1;32m<ipython-input-79-c2dcf2f12cd4>\u001b[0m in \u001b[0;36m<module>\u001b[1;34m\u001b[0m\n\u001b[1;32m----> 1\u001b[1;33m \u001b[0mbank_account\u001b[0m\u001b[1;33m(\u001b[0m\u001b[1;34m'D 300, D 300, W 200, D 100, x 20'\u001b[0m\u001b[1;33m)\u001b[0m\u001b[1;33m\u001b[0m\u001b[1;33m\u001b[0m\u001b[0m\n\u001b[0m",
      "\u001b[1;32m<ipython-input-76-8f22911e3eeb>\u001b[0m in \u001b[0;36mbank_account\u001b[1;34m(mystring)\u001b[0m\n\u001b[0;32m     15\u001b[0m             \u001b[0mbalance\u001b[0m \u001b[1;33m-=\u001b[0m \u001b[0mint\u001b[0m\u001b[1;33m(\u001b[0m\u001b[0mtup\u001b[0m\u001b[1;33m[\u001b[0m\u001b[1;36m1\u001b[0m\u001b[1;33m]\u001b[0m\u001b[1;33m)\u001b[0m\u001b[1;33m\u001b[0m\u001b[1;33m\u001b[0m\u001b[0m\n\u001b[0;32m     16\u001b[0m         \u001b[1;32melse\u001b[0m\u001b[1;33m:\u001b[0m\u001b[1;33m\u001b[0m\u001b[1;33m\u001b[0m\u001b[0m\n\u001b[1;32m---> 17\u001b[1;33m             \u001b[1;32mraise\u001b[0m \u001b[0mException\u001b[0m\u001b[1;33m(\u001b[0m\u001b[1;34mf\"Undefined value found: {tup[0]}, entry number:{index+1}\"\u001b[0m\u001b[1;33m)\u001b[0m\u001b[1;33m\u001b[0m\u001b[1;33m\u001b[0m\u001b[0m\n\u001b[0m\u001b[0;32m     18\u001b[0m \u001b[1;33m\u001b[0m\u001b[0m\n\u001b[0;32m     19\u001b[0m     \u001b[1;32mreturn\u001b[0m \u001b[0mbalance\u001b[0m\u001b[1;33m\u001b[0m\u001b[1;33m\u001b[0m\u001b[0m\n",
      "\u001b[1;31mException\u001b[0m: Undefined value found: x, entry number:5"
     ]
    }
   ],
   "source": [
    "bank_account('D 300, D 300, W 200, D 100, x 20')"
   ]
  },
  {
   "cell_type": "code",
   "execution_count": 82,
   "metadata": {},
   "outputs": [],
   "source": [
    "def get_criteria(s):\n",
    "    d = {\n",
    "        'letter between [a-z]': False,\n",
    "        'number between [0-9]': False,\n",
    "        'letter between [A-Z]': False,\n",
    "        'character from [$#@]': False,\n",
    "        'Minimum length of transaction password': False,\n",
    "        'Maximum length of transaction password': False\n",
    "    }\n",
    "    \n",
    "    for i in s:\n",
    "        if i.isalpha() and i.islower():\n",
    "            d['letter between [a-z]'] = True\n",
    "        if i.isdigit():\n",
    "            d['number between [0-9]'] = True\n",
    "        if i.isalpha() and i.isupper():\n",
    "            d['letter between [A-Z]'] = True\n",
    "        if i in '$#@':\n",
    "            d['character from [$#@]'] = True\n",
    "        if len(s) >= 6:\n",
    "            d['Minimum length of transaction password'] = True\n",
    "        if len(s) <= 12:\n",
    "            d['Maximum length of transaction password'] = True\n",
    "            \n",
    "    return d\n",
    "            \n",
    "def check_password(s):\n",
    "    criteria = get_criteria(s)\n",
    "    unmatched_criteria = []\n",
    "    \n",
    "    for key in criteria:\n",
    "        if criteria[key] == False:\n",
    "            unmatched_criteria.append(key)\n",
    "        \n",
    "    if len(unmatched_criteria) == 0:\n",
    "        print('Good Password')\n",
    "    else:\n",
    "        print('Bad password: Reason: ')\n",
    "        print('\\n'.join(unmatched_criteria))\n",
    "        \n",
    "        \n",
    "            "
   ]
  },
  {
   "cell_type": "code",
   "execution_count": 83,
   "metadata": {},
   "outputs": [
    {
     "name": "stdout",
     "output_type": "stream",
     "text": [
      "Bad password: Reason: \n",
      "letter between [a-z]\n",
      "letter between [A-Z]\n",
      "character from [$#@]\n",
      "Minimum length of transaction password\n"
     ]
    }
   ],
   "source": [
    "check_password('123')"
   ]
  },
  {
   "cell_type": "code",
   "execution_count": 92,
   "metadata": {},
   "outputs": [
    {
     "name": "stdout",
     "output_type": "stream",
     "text": [
      "[('Tom', 19, 80), ('John', 20, 90), ('Jony', 17, 91), ('Jony', 17, 93), ('Json', 21, 85)]\n"
     ]
    }
   ],
   "source": [
    "s =[('Tom',19,80),('John',20,90),('Jony',17,91),('Jony',17,93),('Json',21,85)]\n",
    "print(s)"
   ]
  },
  {
   "cell_type": "code",
   "execution_count": 93,
   "metadata": {},
   "outputs": [
    {
     "data": {
      "text/plain": [
       "[('John', 20, 90),\n",
       " ('Jony', 17, 91),\n",
       " ('Jony', 17, 93),\n",
       " ('Json', 21, 85),\n",
       " ('Tom', 19, 80)]"
      ]
     },
     "execution_count": 93,
     "metadata": {},
     "output_type": "execute_result"
    }
   ],
   "source": [
    "from operator import itemgetter, attrgetter\n",
    "\n",
    "sorted(s, key = itemgetter(0,1,2))"
   ]
  },
  {
   "cell_type": "code",
   "execution_count": 99,
   "metadata": {},
   "outputs": [],
   "source": [
    "#20\n",
    "def square(n):\n",
    "    print('Entered generator')\n",
    "    i =0\n",
    "    while i <= n:\n",
    "        print(\"I am inside while loop: \" + str(i))\n",
    "        sq = i * i\n",
    "        i += 1\n",
    "        yield sq"
   ]
  },
  {
   "cell_type": "code",
   "execution_count": 100,
   "metadata": {},
   "outputs": [
    {
     "name": "stdout",
     "output_type": "stream",
     "text": [
      "Entered generator\n",
      "I am inside while loop: 0\n",
      "0\n",
      "I am inside while loop: 1\n",
      "1\n",
      "I am inside while loop: 2\n",
      "4\n",
      "I am inside while loop: 3\n",
      "9\n",
      "I am inside while loop: 4\n",
      "16\n",
      "I am inside while loop: 5\n",
      "25\n",
      "I am inside while loop: 6\n",
      "36\n",
      "I am inside while loop: 7\n",
      "49\n",
      "I am inside while loop: 8\n",
      "64\n",
      "I am inside while loop: 9\n",
      "81\n",
      "I am inside while loop: 10\n",
      "100\n"
     ]
    }
   ],
   "source": [
    "for i in square(10):\n",
    "    print(i)"
   ]
  },
  {
   "cell_type": "code",
   "execution_count": 101,
   "metadata": {},
   "outputs": [
    {
     "name": "stdout",
     "output_type": "stream",
     "text": [
      "(-1, 2)\n"
     ]
    }
   ],
   "source": [
    "#21\n",
    "\n",
    "robot_steps = [('up',5), ('down',3),('left',3),('right',2)]\n",
    "current_location = [0,0]\n",
    "for i in robot_steps:\n",
    "    direction =  i[0]\n",
    "    steps = i[1]\n",
    "    if direction == 'up':\n",
    "        current_location[1] += steps\n",
    "    if direction == 'down':\n",
    "        current_location[1] -= steps\n",
    "    if direction == 'left':\n",
    "        current_location[0] -= steps\n",
    "    if direction == 'right':\n",
    "        current_location[0] += steps\n",
    "        \n",
    "print(tuple(current_location))\n",
    "        "
   ]
  },
  {
   "cell_type": "code",
   "execution_count": 103,
   "metadata": {},
   "outputs": [
    {
     "data": {
      "text/plain": [
       "2.236"
      ]
     },
     "execution_count": 103,
     "metadata": {},
     "output_type": "execute_result"
    }
   ],
   "source": [
    "dist = round((current_location[0]**2 + current_location[1]**2)**0.5,3)\n",
    "dist"
   ]
  },
  {
   "cell_type": "code",
   "execution_count": 110,
   "metadata": {},
   "outputs": [
    {
     "data": {
      "text/plain": [
       "'Hello world'"
      ]
     },
     "execution_count": 110,
     "metadata": {},
     "output_type": "execute_result"
    }
   ],
   "source": [
    "s = \"Hello world\"\n",
    "s"
   ]
  },
  {
   "cell_type": "code",
   "execution_count": 112,
   "metadata": {},
   "outputs": [
    {
     "data": {
      "text/plain": [
       "'\"Hello world\"! How are you?'"
      ]
     },
     "execution_count": 112,
     "metadata": {},
     "output_type": "execute_result"
    }
   ],
   "source": [
    "t = \"\\\"\" + s + \"\\\"\" + \"! How are you?\"\n",
    "t"
   ]
  },
  {
   "cell_type": "code",
   "execution_count": 113,
   "metadata": {},
   "outputs": [
    {
     "data": {
      "text/plain": [
       "['New',\n",
       " 'to',\n",
       " 'Python',\n",
       " 'or',\n",
       " 'choosing',\n",
       " 'between',\n",
       " 'Python',\n",
       " '2',\n",
       " 'and',\n",
       " 'Python',\n",
       " '3?',\n",
       " 'Read',\n",
       " 'Python',\n",
       " '2',\n",
       " 'or',\n",
       " 'Python',\n",
       " '3.']"
      ]
     },
     "execution_count": 113,
     "metadata": {},
     "output_type": "execute_result"
    }
   ],
   "source": [
    "#22\n",
    "s = 'New to Python or choosing between Python 2 and Python 3? Read Python 2 or Python 3.'\n",
    "new_list = s.split()\n",
    "new_list"
   ]
  },
  {
   "cell_type": "code",
   "execution_count": 115,
   "metadata": {},
   "outputs": [
    {
     "name": "stdout",
     "output_type": "stream",
     "text": [
      "{'New': 1, 'to': 1, 'Python': 5, 'or': 2, 'choosing': 1, 'between': 1, '2': 2, 'and': 1, '3?': 1, 'Read': 1, '3.': 1}\n"
     ]
    }
   ],
   "source": [
    "my_dict = {}\n",
    "for word in new_list:\n",
    "    if word not in my_dict:\n",
    "        my_dict[word] = 1\n",
    "    else:\n",
    "        my_dict[word] += 1\n",
    "print(my_dict)\n",
    "    "
   ]
  },
  {
   "cell_type": "code",
   "execution_count": 116,
   "metadata": {},
   "outputs": [],
   "source": [
    "sorted_list = sorted(list(my_dict))"
   ]
  },
  {
   "cell_type": "code",
   "execution_count": 117,
   "metadata": {},
   "outputs": [
    {
     "name": "stdout",
     "output_type": "stream",
     "text": [
      "2: 2\n",
      "3.: 1\n",
      "3?: 1\n",
      "New: 1\n",
      "Python: 5\n",
      "Read: 1\n",
      "and: 1\n",
      "between: 1\n",
      "choosing: 1\n",
      "or: 2\n",
      "to: 1\n"
     ]
    }
   ],
   "source": [
    "for word in sorted_list:\n",
    "    print(f\"{word}: {my_dict[word]}\")"
   ]
  },
  {
   "cell_type": "code",
   "execution_count": 118,
   "metadata": {},
   "outputs": [
    {
     "data": {
      "text/plain": [
       "['New',\n",
       " 'to',\n",
       " 'Python',\n",
       " 'or',\n",
       " 'choosing',\n",
       " 'between',\n",
       " 'Python',\n",
       " '2',\n",
       " 'and',\n",
       " 'Python',\n",
       " '3?',\n",
       " 'Read',\n",
       " 'Python',\n",
       " '2',\n",
       " 'or',\n",
       " 'Python',\n",
       " '3.']"
      ]
     },
     "execution_count": 118,
     "metadata": {},
     "output_type": "execute_result"
    }
   ],
   "source": [
    "s = \"New to Python or choosing between Python 2 and Python 3? Read Python 2 or Python 3.\"\n",
    "new_list = s.split()\n",
    "new_list\n"
   ]
  },
  {
   "cell_type": "code",
   "execution_count": 119,
   "metadata": {},
   "outputs": [
    {
     "name": "stdout",
     "output_type": "stream",
     "text": [
      "{'New': 1, 'to': 1, 'Python': 5, 'or': 2, 'choosing': 1, 'between': 1, '2': 2, 'and': 1, '3?': 1, 'Read': 1, '3.': 1}\n"
     ]
    }
   ],
   "source": [
    "my_dict = {}\n",
    "for word in new_list:\n",
    "    if word not in my_dict:\n",
    "        my_dict[word] = 1\n",
    "    else:\n",
    "        my_dict[word] += 1\n",
    "print(my_dict)"
   ]
  },
  {
   "cell_type": "code",
   "execution_count": 121,
   "metadata": {},
   "outputs": [],
   "source": [
    "sorted_list = sorted(list(my_dict))"
   ]
  },
  {
   "cell_type": "code",
   "execution_count": 123,
   "metadata": {},
   "outputs": [
    {
     "name": "stdout",
     "output_type": "stream",
     "text": [
      "2: 2\n",
      "3.: 1\n",
      "3?: 1\n",
      "New: 1\n",
      "Python: 5\n",
      "Read: 1\n",
      "and: 1\n",
      "between: 1\n",
      "choosing: 1\n",
      "or: 2\n",
      "to: 1\n"
     ]
    }
   ],
   "source": [
    "for word in sorted_list:\n",
    "    print(f\"{word}: {my_dict[word]}\")"
   ]
  },
  {
   "cell_type": "code",
   "execution_count": 124,
   "metadata": {},
   "outputs": [
    {
     "data": {
      "text/plain": [
       "['Hello',\n",
       " 'Aydin!',\n",
       " 'How',\n",
       " 'are',\n",
       " 'you',\n",
       " 'today?',\n",
       " 'How',\n",
       " 'is',\n",
       " 'mum.',\n",
       " 'Bye',\n",
       " 'Aydin',\n",
       " 'today.']"
      ]
     },
     "execution_count": 124,
     "metadata": {},
     "output_type": "execute_result"
    }
   ],
   "source": [
    "s = \"Hello Aydin! How are you today? How is mum. Bye Aydin today.\"\n",
    "new_list = s.split()\n",
    "new_list"
   ]
  },
  {
   "cell_type": "code",
   "execution_count": 128,
   "metadata": {},
   "outputs": [
    {
     "name": "stdout",
     "output_type": "stream",
     "text": [
      "{'Hello': 1, 'Aydin!': 1, 'How': 2, 'are': 1, 'you': 1, 'today?': 1, 'is': 1, 'mum.': 1, 'Bye': 1, 'Aydin': 1, 'today.': 1}\n"
     ]
    }
   ],
   "source": [
    "my_dict = {}\n",
    "for word in new_list:\n",
    "    if word not in my_dict:\n",
    "        my_dict[word] = 1\n",
    "    else:\n",
    "        my_dict[word] += 1\n",
    "print(my_dict)\n",
    "sorted_list = sorted(list(my_dict))"
   ]
  },
  {
   "cell_type": "code",
   "execution_count": 129,
   "metadata": {},
   "outputs": [
    {
     "name": "stdout",
     "output_type": "stream",
     "text": [
      "Aydin: 1\n",
      "Aydin!: 1\n",
      "Bye: 1\n",
      "Hello: 1\n",
      "How: 2\n",
      "are: 1\n",
      "is: 1\n",
      "mum.: 1\n",
      "today.: 1\n",
      "today?: 1\n",
      "you: 1\n"
     ]
    }
   ],
   "source": [
    "for word in sorted_list:\n",
    "    print(f'{word}: {my_dict[word]}')"
   ]
  },
  {
   "cell_type": "code",
   "execution_count": 130,
   "metadata": {},
   "outputs": [],
   "source": [
    "#23\n",
    "def square(n):\n",
    "    return n**2"
   ]
  },
  {
   "cell_type": "code",
   "execution_count": 131,
   "metadata": {},
   "outputs": [
    {
     "name": "stdout",
     "output_type": "stream",
     "text": [
      "Return the absolute value of the argument.\n"
     ]
    }
   ],
   "source": [
    "#24\n",
    "print(abs.__doc__)"
   ]
  },
  {
   "cell_type": "code",
   "execution_count": 132,
   "metadata": {},
   "outputs": [
    {
     "name": "stdout",
     "output_type": "stream",
     "text": [
      "int([x]) -> integer\n",
      "int(x, base=10) -> integer\n",
      "\n",
      "Convert a number or string to an integer, or return 0 if no arguments\n",
      "are given.  If x is a number, return x.__int__().  For floating point\n",
      "numbers, this truncates towards zero.\n",
      "\n",
      "If x is not a number or if base is given, then x must be a string,\n",
      "bytes, or bytearray instance representing an integer literal in the\n",
      "given base.  The literal can be preceded by '+' or '-' and be surrounded\n",
      "by whitespace.  The base defaults to 10.  Valid bases are 0 and 2-36.\n",
      "Base 0 means to interpret the base from the string as an integer literal.\n",
      ">>> int('0b100', base=0)\n",
      "4\n"
     ]
    }
   ],
   "source": [
    "print(int.__doc__)"
   ]
  },
  {
   "cell_type": "code",
   "execution_count": 133,
   "metadata": {},
   "outputs": [
    {
     "name": "stdout",
     "output_type": "stream",
     "text": [
      "Return the number of items in a container.\n"
     ]
    }
   ],
   "source": [
    "print(len.__doc__)"
   ]
  },
  {
   "cell_type": "code",
   "execution_count": 137,
   "metadata": {},
   "outputs": [],
   "source": [
    "#25\n",
    "class Person:\n",
    "    nickname = 'Aydu'\n",
    "    \n",
    "    def __init__(self,name):\n",
    "        self.nickname = name"
   ]
  },
  {
   "cell_type": "code",
   "execution_count": 135,
   "metadata": {},
   "outputs": [],
   "source": [
    "person = Person('Aydin')"
   ]
  },
  {
   "cell_type": "code",
   "execution_count": 139,
   "metadata": {},
   "outputs": [
    {
     "data": {
      "text/plain": [
       "'Aydin'"
      ]
     },
     "execution_count": 139,
     "metadata": {},
     "output_type": "execute_result"
    }
   ],
   "source": [
    "person.nickname"
   ]
  },
  {
   "cell_type": "code",
   "execution_count": 140,
   "metadata": {},
   "outputs": [
    {
     "data": {
      "text/plain": [
       "'Aydu'"
      ]
     },
     "execution_count": 140,
     "metadata": {},
     "output_type": "execute_result"
    }
   ],
   "source": [
    "Person.nickname"
   ]
  },
  {
   "cell_type": "code",
   "execution_count": 153,
   "metadata": {},
   "outputs": [],
   "source": [
    "#1\n",
    "def div_mul7(start,end):\n",
    "    new_list = []\n",
    "    for i in range(start,end+1):\n",
    "        if i % 7 == 0 and i % 5 != 0:\n",
    "            new_list.append(i)\n",
    "        return ','.join(new_list)"
   ]
  },
  {
   "cell_type": "code",
   "execution_count": 154,
   "metadata": {},
   "outputs": [
    {
     "data": {
      "text/plain": [
       "''"
      ]
     },
     "execution_count": 154,
     "metadata": {},
     "output_type": "execute_result"
    }
   ],
   "source": [
    "div_mul7(10,20)"
   ]
  },
  {
   "cell_type": "code",
   "execution_count": 151,
   "metadata": {},
   "outputs": [],
   "source": [
    "#2\n",
    "def factorial(n):\n",
    "    result = 1\n",
    "    for i in range(1,n+1):\n",
    "        result *= i\n",
    "    return result"
   ]
  },
  {
   "cell_type": "code",
   "execution_count": 152,
   "metadata": {},
   "outputs": [
    {
     "data": {
      "text/plain": [
       "24"
      ]
     },
     "execution_count": 152,
     "metadata": {},
     "output_type": "execute_result"
    }
   ],
   "source": [
    "factorial(4)"
   ]
  },
  {
   "cell_type": "code",
   "execution_count": 155,
   "metadata": {},
   "outputs": [],
   "source": [
    "#3\n",
    "def gen_dict(n):\n",
    "    my_dict = {}\n",
    "    for i in range(1,n+1):\n",
    "         my_dict[i] = i*i\n",
    "    return my_dict"
   ]
  },
  {
   "cell_type": "code",
   "execution_count": 156,
   "metadata": {},
   "outputs": [
    {
     "data": {
      "text/plain": [
       "{1: 1, 2: 4, 3: 9, 4: 16, 5: 25, 6: 36, 7: 49, 8: 64}"
      ]
     },
     "execution_count": 156,
     "metadata": {},
     "output_type": "execute_result"
    }
   ],
   "source": [
    "gen_dict(8)"
   ]
  },
  {
   "cell_type": "code",
   "execution_count": 157,
   "metadata": {},
   "outputs": [
    {
     "name": "stdout",
     "output_type": "stream",
     "text": [
      "['34', '67', '55', '33', '12', '98']\n",
      "('34', '67', '55', '33', '12', '98')\n"
     ]
    }
   ],
   "source": [
    "#4\n",
    "s = '34,67,55,33,12,98'\n",
    "new_list = s.split(',')\n",
    "print(new_list)\n",
    "print(tuple(new_list))"
   ]
  },
  {
   "cell_type": "code",
   "execution_count": 158,
   "metadata": {},
   "outputs": [],
   "source": [
    "#5\n",
    "# class InOutString:\n",
    "#     def __init__(self):\n",
    "#         self.result = ''\n",
    "#     def get_string(self):\n",
    "#         self.result = input(\"Enter a string: \")\n",
    "        \n",
    "#     def print_upper(self):\n",
    "#         return self.result.upper()\n",
    "    \n",
    "# if __name__ == '__main__':\n",
    "#     item = InOutString()\n",
    "#     item.get_string()\n",
    "#     print(item.print_upper)"
   ]
  },
  {
   "cell_type": "code",
   "execution_count": 159,
   "metadata": {},
   "outputs": [
    {
     "data": {
      "text/plain": [
       "['100', '150', '180']"
      ]
     },
     "execution_count": 159,
     "metadata": {},
     "output_type": "execute_result"
    }
   ],
   "source": [
    "#6\n",
    "import math\n",
    "C = 50\n",
    "H = 30\n",
    "d = '100,150,180'\n",
    "d_list = d.split(',')\n",
    "for i in d_list:\n",
    "    prin round(math.sqrt(2 * C * int(i)/H)"
   ]
  },
  {
   "cell_type": "code",
   "execution_count": null,
   "metadata": {},
   "outputs": [],
   "source": []
  }
 ],
 "metadata": {
  "kernelspec": {
   "display_name": "Python 3",
   "language": "python",
   "name": "python3"
  },
  "language_info": {
   "codemirror_mode": {
    "name": "ipython",
    "version": 3
   },
   "file_extension": ".py",
   "mimetype": "text/x-python",
   "name": "python",
   "nbconvert_exporter": "python",
   "pygments_lexer": "ipython3",
   "version": "3.7.1"
  }
 },
 "nbformat": 4,
 "nbformat_minor": 2
}
