{
 "cells": [
  {
   "cell_type": "code",
   "execution_count": 1,
   "metadata": {},
   "outputs": [],
   "source": [
    "#1\n",
    "def multi_div(start,end):\n",
    "    new_list = []\n",
    "    for i in range(start,end+1):\n",
    "        if i % 7 == 0 and i % 5 != 0:\n",
    "            new_list.append(str(i))\n",
    "    return ','.join(new_list)"
   ]
  },
  {
   "cell_type": "code",
   "execution_count": 2,
   "metadata": {},
   "outputs": [
    {
     "data": {
      "text/plain": [
       "'14,21,28,42,49'"
      ]
     },
     "execution_count": 2,
     "metadata": {},
     "output_type": "execute_result"
    }
   ],
   "source": [
    "multi_div(10,51)"
   ]
  },
  {
   "cell_type": "code",
   "execution_count": 3,
   "metadata": {},
   "outputs": [],
   "source": [
    "#2\n",
    "def factorial(n):\n",
    "    if n == 0:\n",
    "        return 1\n",
    "    \n",
    "    result = 1\n",
    "    for i in range(1,n+1):\n",
    "        result *= i\n",
    "    return result"
   ]
  },
  {
   "cell_type": "code",
   "execution_count": 4,
   "metadata": {},
   "outputs": [],
   "source": [
    "#3\n",
    "def dict_square(n):\n",
    "    new_dict = {}\n",
    "    for i in range(1,n+1):\n",
    "        new_dict[i] = i*i\n",
    "    return new_dict\n"
   ]
  },
  {
   "cell_type": "code",
   "execution_count": 5,
   "metadata": {},
   "outputs": [
    {
     "data": {
      "text/plain": [
       "{1: 1, 2: 4, 3: 9, 4: 16}"
      ]
     },
     "execution_count": 5,
     "metadata": {},
     "output_type": "execute_result"
    }
   ],
   "source": [
    "dict_square(4)"
   ]
  },
  {
   "cell_type": "code",
   "execution_count": 6,
   "metadata": {},
   "outputs": [],
   "source": [
    "#4\n",
    "def str_conversion(s):\n",
    "    new_list = s.split(',')\n",
    "    print(new_list)\n",
    "    new_tuple = tuple(new_list)\n",
    "    print(new_tuple)"
   ]
  },
  {
   "cell_type": "code",
   "execution_count": 7,
   "metadata": {},
   "outputs": [
    {
     "name": "stdout",
     "output_type": "stream",
     "text": [
      "['34', '67', '55', '33', '12', '98']\n",
      "('34', '67', '55', '33', '12', '98')\n"
     ]
    }
   ],
   "source": [
    "str_conversion('34,67,55,33,12,98')"
   ]
  },
  {
   "cell_type": "code",
   "execution_count": 8,
   "metadata": {},
   "outputs": [],
   "source": [
    "#5\n",
    "#class UpperString:\n",
    "    #def __init__(self):\n",
    "        #self.string = ''\n",
    "        \n",
    "    #def get_string(self):\n",
    "       # self.string = input('Enter a string please: ')\n",
    "        \n",
    "    #def to_upper(self):\n",
    "        #return self.string.upper()\n",
    "    \n",
    "#if __name__ == '__main__':\n",
    "    #item = UpperString()\n",
    "    #item.get_string()\n",
    "   # print(item.to_upper())"
   ]
  },
  {
   "cell_type": "code",
   "execution_count": 9,
   "metadata": {},
   "outputs": [
    {
     "name": "stdout",
     "output_type": "stream",
     "text": [
      "['100', '150', '180']\n",
      "18,22,24\n"
     ]
    }
   ],
   "source": [
    "import math\n",
    "d_str = '100,150,180'\n",
    "d_list = d_str.split(',')\n",
    "c = 50\n",
    "h = 30\n",
    "print(d_list)\n",
    "result = []\n",
    "for d in d_list:\n",
    "    result.append(str(round(math.sqrt((2* c*int(d))/h))))\n",
    "print(','.join(result)) "
   ]
  },
  {
   "cell_type": "code",
   "execution_count": 10,
   "metadata": {},
   "outputs": [],
   "source": [
    "#7\n",
    "def two_dimension(x,y):\n",
    "    x_result = []\n",
    "    for i in range(1,x+1):\n",
    "        y_result = []\n",
    "        for j in range(1,y+1):\n",
    "            y_result.append(i*j)\n",
    "            x_result.append(y_result)\n",
    "    return x_result"
   ]
  },
  {
   "cell_type": "code",
   "execution_count": 11,
   "metadata": {},
   "outputs": [
    {
     "data": {
      "text/plain": [
       "[[1, 2, 3, 4, 5],\n",
       " [1, 2, 3, 4, 5],\n",
       " [1, 2, 3, 4, 5],\n",
       " [1, 2, 3, 4, 5],\n",
       " [1, 2, 3, 4, 5],\n",
       " [2, 4, 6, 8, 10],\n",
       " [2, 4, 6, 8, 10],\n",
       " [2, 4, 6, 8, 10],\n",
       " [2, 4, 6, 8, 10],\n",
       " [2, 4, 6, 8, 10],\n",
       " [3, 6, 9, 12, 15],\n",
       " [3, 6, 9, 12, 15],\n",
       " [3, 6, 9, 12, 15],\n",
       " [3, 6, 9, 12, 15],\n",
       " [3, 6, 9, 12, 15]]"
      ]
     },
     "execution_count": 11,
     "metadata": {},
     "output_type": "execute_result"
    }
   ],
   "source": [
    "two_dimension(3,5)"
   ]
  },
  {
   "cell_type": "code",
   "execution_count": 12,
   "metadata": {},
   "outputs": [
    {
     "name": "stdout",
     "output_type": "stream",
     "text": [
      "bag,hello,without,world\n"
     ]
    }
   ],
   "source": [
    "#8\n",
    "s = 'without,hello,bag,world'\n",
    "new_list = s.split(',')\n",
    "#print(new_list)\n",
    "new_list.sort()\n",
    "#print(new_list)\n",
    "print(','.join(new_list))\n"
   ]
  },
  {
   "cell_type": "code",
   "execution_count": 13,
   "metadata": {},
   "outputs": [
    {
     "name": "stdout",
     "output_type": "stream",
     "text": [
      "HELLO WORLD\n",
      "PRACTICE MAKES PERFECT\n"
     ]
    }
   ],
   "source": [
    "#9\n",
    "s = 'Hello world\\nPractice makes perfect'\n",
    "#print(s)\n",
    "result = [x.upper() for x in s.split('\\n')]\n",
    "print('\\n'.join(result))"
   ]
  },
  {
   "cell_type": "code",
   "execution_count": 14,
   "metadata": {},
   "outputs": [
    {
     "name": "stdout",
     "output_type": "stream",
     "text": [
      "again and hello makes perfect practice world\n"
     ]
    }
   ],
   "source": [
    "#10\n",
    "s = 'hello world and practice makes perfect and hello world again'\n",
    "new_list = s.split()\n",
    "#print(new_list)\n",
    "my_set = set(new_list)\n",
    "l = list(my_set)\n",
    "l.sort()\n",
    "print(' '.join(l))\n"
   ]
  },
  {
   "cell_type": "code",
   "execution_count": 15,
   "metadata": {},
   "outputs": [
    {
     "name": "stdout",
     "output_type": "stream",
     "text": [
      "['0100', '0011', '1010', '1001']\n"
     ]
    },
    {
     "data": {
      "text/plain": [
       "'0100,1010'"
      ]
     },
     "execution_count": 15,
     "metadata": {},
     "output_type": "execute_result"
    }
   ],
   "source": [
    "#11\n",
    "input_string = '0100,0011,1010,1001'\n",
    "input_list = input_string.split(',')\n",
    "print(input_list)\n",
    "result = [x for x in input_list if int(x) % 5 == 0]\n",
    "','.join(result)"
   ]
  },
  {
   "cell_type": "code",
   "execution_count": 16,
   "metadata": {},
   "outputs": [],
   "source": [
    "#12\n",
    "def even_digit(n):\n",
    "    s = str(n)\n",
    "    for i in s:\n",
    "        if int(i) % 2 != 0:\n",
    "            return False\n",
    "    return True\n",
    "            "
   ]
  },
  {
   "cell_type": "code",
   "execution_count": 17,
   "metadata": {},
   "outputs": [],
   "source": [
    "def odd_even(start,end):\n",
    "    result = []\n",
    "    for i in range(start,end+1):\n",
    "        if even_digit(i):\n",
    "            result.append(str(i))\n",
    "    return ','.join(result)"
   ]
  },
  {
   "cell_type": "code",
   "execution_count": 18,
   "metadata": {},
   "outputs": [
    {
     "data": {
      "text/plain": [
       "'2,4,6,8,20,22,24,26,28,40,42,44,46,48,60,62,64,66,68,80,82,84,86,88'"
      ]
     },
     "execution_count": 18,
     "metadata": {},
     "output_type": "execute_result"
    }
   ],
   "source": [
    "odd_even(1,100)"
   ]
  },
  {
   "cell_type": "code",
   "execution_count": 19,
   "metadata": {},
   "outputs": [
    {
     "name": "stdout",
     "output_type": "stream",
     "text": [
      "2000,2002,2004,2006,2008,2020,2022,2024,2026,2028,2040,2042,2044,2046,2048,2060,2062,2064,2066,2068,2080,2082,2084,2086,2088,2200,2202,2204,2206,2208,2220,2222,2224,2226,2228,2240,2242,2244,2246,2248,2260,2262,2264,2266,2268,2280,2282,2284,2286,2288,2400,2402,2404,2406,2408,2420,2422,2424,2426,2428,2440,2442,2444,2446,2448,2460,2462,2464,2466,2468,2480,2482,2484,2486,2488,2600,2602,2604,2606,2608,2620,2622,2624,2626,2628,2640,2642,2644,2646,2648,2660,2662,2664,2666,2668,2680,2682,2684,2686,2688,2800,2802,2804,2806,2808,2820,2822,2824,2826,2828,2840,2842,2844,2846,2848,2860,2862,2864,2866,2868,2880,2882,2884,2886,2888\n"
     ]
    }
   ],
   "source": [
    "result = []\n",
    "for i in range(2000,3001):\n",
    "    s = str(i)\n",
    "    if int(s[0]) % 2 == 0 and int(s[1]) % 2 == 0 and int(s[2]) % 2 == 0 and int(s[3]) % 2 ==0:\n",
    "        result.append(s)\n",
    "print(','.join(result))"
   ]
  },
  {
   "cell_type": "code",
   "execution_count": 20,
   "metadata": {},
   "outputs": [],
   "source": [
    "#13\n",
    "def alpha_digit(s):\n",
    "    count_alpha = 0\n",
    "    count_digit = 0\n",
    "    for i in s:\n",
    "        if i.isalpha():\n",
    "            count_alpha += 1\n",
    "        elif i.isdigit():\n",
    "            count_digit += 1\n",
    "        else:\n",
    "            pass\n",
    "    return(f'LETTERS: {count_alpha}\\nDIGITS: {count_digit}')"
   ]
  },
  {
   "cell_type": "code",
   "execution_count": 21,
   "metadata": {},
   "outputs": [
    {
     "name": "stdout",
     "output_type": "stream",
     "text": [
      "LETTERS: 10\n",
      "DIGITS: 3\n"
     ]
    }
   ],
   "source": [
    "print(alpha_digit('hello world! 123'))"
   ]
  },
  {
   "cell_type": "code",
   "execution_count": 22,
   "metadata": {},
   "outputs": [],
   "source": [
    "#14\n",
    "def upper_lower(s):\n",
    "    count_upper = 0\n",
    "    count_lower = 0\n",
    "    for i in s:\n",
    "        if i.isupper():\n",
    "            count_upper += 1\n",
    "        elif i.islower():\n",
    "            count_lower += 1\n",
    "        else:\n",
    "            pass\n",
    "    return(f'UPPER CASE: {count_upper}\\nLOWER CASE: {count_lower}')"
   ]
  },
  {
   "cell_type": "code",
   "execution_count": 23,
   "metadata": {},
   "outputs": [
    {
     "name": "stdout",
     "output_type": "stream",
     "text": [
      "UPPER CASE: 1\n",
      "LOWER CASE: 9\n"
     ]
    }
   ],
   "source": [
    "print(upper_lower('Hello world!'))"
   ]
  },
  {
   "cell_type": "code",
   "execution_count": 24,
   "metadata": {},
   "outputs": [],
   "source": [
    "#15\n",
    "def add_up(n):\n",
    "    n1 = n\n",
    "    n2 = n1 + (n*10)\n",
    "    n3 = n2 + (n*100)\n",
    "    n4 = n3 +(n*1000)\n",
    "    \n",
    "    return n1+n2+n3+n4"
   ]
  },
  {
   "cell_type": "code",
   "execution_count": 25,
   "metadata": {},
   "outputs": [
    {
     "data": {
      "text/plain": [
       "11106"
      ]
     },
     "execution_count": 25,
     "metadata": {},
     "output_type": "execute_result"
    }
   ],
   "source": [
    "add_up(9)"
   ]
  },
  {
   "cell_type": "code",
   "execution_count": 26,
   "metadata": {},
   "outputs": [
    {
     "name": "stdout",
     "output_type": "stream",
     "text": [
      "['1', '2', '3', '4', '5', '6', '7', '8', '9']\n",
      "[1, 9, 25, 49, 81]\n"
     ]
    }
   ],
   "source": [
    "#16\n",
    "user_input = \"1,2,3,4,5,6,7,8,9\"\n",
    "new_list = user_input.split(',')\n",
    "print(new_list)\n",
    "result = [int(x)**2 for x in new_list if int(x)%2 != 0]\n",
    "print(result)"
   ]
  },
  {
   "cell_type": "code",
   "execution_count": 27,
   "metadata": {},
   "outputs": [],
   "source": [
    "#17\n",
    "def bank_account(mystring):\n",
    "    new_list = mystring.split(',')\n",
    "    other_list = []\n",
    "    for i in new_list:\n",
    "        other_list.append(tuple(i.split()))\n",
    "        \n",
    "    balance = 0\n",
    "    for index,tup in enumerate(other_list):\n",
    "        if len(tup) != 2:\n",
    "            raise Exception(f\"Invalid entry found: {tup}, entry number: {index+1} \")\n",
    "        if tup[0].lower() == 'd':\n",
    "            balance += int(tup[1])\n",
    "        elif tup[0].lower() == 'w':\n",
    "            balance -= int(tup[1])\n",
    "        else:\n",
    "            raise Exception(f\"Undefined value found: {tup[0]}, entry number:{index+1}\")\n",
    "            \n",
    "    return balance\n",
    "    "
   ]
  },
  {
   "cell_type": "code",
   "execution_count": 28,
   "metadata": {},
   "outputs": [
    {
     "ename": "Exception",
     "evalue": "Undefined value found: x, entry number:5",
     "output_type": "error",
     "traceback": [
      "\u001b[1;31m---------------------------------------------------------------------------\u001b[0m",
      "\u001b[1;31mException\u001b[0m                                 Traceback (most recent call last)",
      "\u001b[1;32m<ipython-input-28-c2dcf2f12cd4>\u001b[0m in \u001b[0;36m<module>\u001b[1;34m\u001b[0m\n\u001b[1;32m----> 1\u001b[1;33m \u001b[0mbank_account\u001b[0m\u001b[1;33m(\u001b[0m\u001b[1;34m'D 300, D 300, W 200, D 100, x 20'\u001b[0m\u001b[1;33m)\u001b[0m\u001b[1;33m\u001b[0m\u001b[1;33m\u001b[0m\u001b[0m\n\u001b[0m",
      "\u001b[1;32m<ipython-input-27-8f22911e3eeb>\u001b[0m in \u001b[0;36mbank_account\u001b[1;34m(mystring)\u001b[0m\n\u001b[0;32m     15\u001b[0m             \u001b[0mbalance\u001b[0m \u001b[1;33m-=\u001b[0m \u001b[0mint\u001b[0m\u001b[1;33m(\u001b[0m\u001b[0mtup\u001b[0m\u001b[1;33m[\u001b[0m\u001b[1;36m1\u001b[0m\u001b[1;33m]\u001b[0m\u001b[1;33m)\u001b[0m\u001b[1;33m\u001b[0m\u001b[1;33m\u001b[0m\u001b[0m\n\u001b[0;32m     16\u001b[0m         \u001b[1;32melse\u001b[0m\u001b[1;33m:\u001b[0m\u001b[1;33m\u001b[0m\u001b[1;33m\u001b[0m\u001b[0m\n\u001b[1;32m---> 17\u001b[1;33m             \u001b[1;32mraise\u001b[0m \u001b[0mException\u001b[0m\u001b[1;33m(\u001b[0m\u001b[1;34mf\"Undefined value found: {tup[0]}, entry number:{index+1}\"\u001b[0m\u001b[1;33m)\u001b[0m\u001b[1;33m\u001b[0m\u001b[1;33m\u001b[0m\u001b[0m\n\u001b[0m\u001b[0;32m     18\u001b[0m \u001b[1;33m\u001b[0m\u001b[0m\n\u001b[0;32m     19\u001b[0m     \u001b[1;32mreturn\u001b[0m \u001b[0mbalance\u001b[0m\u001b[1;33m\u001b[0m\u001b[1;33m\u001b[0m\u001b[0m\n",
      "\u001b[1;31mException\u001b[0m: Undefined value found: x, entry number:5"
     ]
    }
   ],
   "source": [
    "bank_account('D 300, D 300, W 200, D 100, x 20')"
   ]
  },
  {
   "cell_type": "code",
   "execution_count": null,
   "metadata": {},
   "outputs": [],
   "source": [
    "def get_criteria(s):\n",
    "    d = {\n",
    "        'letter between [a-z]': False,\n",
    "        'number between [0-9]': False,\n",
    "        'letter between [A-Z]': False,\n",
    "        'character from [$#@]': False,\n",
    "        'Minimum length of transaction password': False,\n",
    "        'Maximum length of transaction password': False\n",
    "    }\n",
    "    \n",
    "    for i in s:\n",
    "        if i.isalpha() and i.islower():\n",
    "            d['letter between [a-z]'] = True\n",
    "        if i.isdigit():\n",
    "            d['number between [0-9]'] = True\n",
    "        if i.isalpha() and i.isupper():\n",
    "            d['letter between [A-Z]'] = True\n",
    "        if i in '$#@':\n",
    "            d['character from [$#@]'] = True\n",
    "        if len(s) >= 6:\n",
    "            d['Minimum length of transaction password'] = True\n",
    "        if len(s) <= 12:\n",
    "            d['Maximum length of transaction password'] = True\n",
    "            \n",
    "    return d\n",
    "            \n",
    "def check_password(s):\n",
    "    criteria = get_criteria(s)\n",
    "    unmatched_criteria = []\n",
    "    \n",
    "    for key in criteria:\n",
    "        if criteria[key] == False:\n",
    "            unmatched_criteria.append(key)\n",
    "        \n",
    "    if len(unmatched_criteria) == 0:\n",
    "        print('Good Password')\n",
    "    else:\n",
    "        print('Bad password: Reason: ')\n",
    "        print('\\n'.join(unmatched_criteria))\n",
    "        \n",
    "        \n",
    "            "
   ]
  },
  {
   "cell_type": "code",
   "execution_count": null,
   "metadata": {},
   "outputs": [],
   "source": [
    "check_password('123')"
   ]
  },
  {
   "cell_type": "code",
   "execution_count": null,
   "metadata": {},
   "outputs": [],
   "source": [
    "s =[('Tom',19,80),('John',20,90),('Jony',17,91),('Jony',17,93),('Json',21,85)]\n",
    "print(s)"
   ]
  },
  {
   "cell_type": "code",
   "execution_count": null,
   "metadata": {},
   "outputs": [],
   "source": [
    "from operator import itemgetter, attrgetter\n",
    "\n",
    "sorted(s, key = itemgetter(0,1,2))"
   ]
  },
  {
   "cell_type": "code",
   "execution_count": null,
   "metadata": {},
   "outputs": [],
   "source": [
    "#20\n",
    "def square(n):\n",
    "    print('Entered generator')\n",
    "    i =0\n",
    "    while i <= n:\n",
    "        print(\"I am inside while loop: \" + str(i))\n",
    "        sq = i * i\n",
    "        i += 1\n",
    "        yield sq"
   ]
  },
  {
   "cell_type": "code",
   "execution_count": null,
   "metadata": {},
   "outputs": [],
   "source": [
    "for i in square(10):\n",
    "    print(i)"
   ]
  },
  {
   "cell_type": "code",
   "execution_count": null,
   "metadata": {},
   "outputs": [],
   "source": [
    "#21\n",
    "\n",
    "robot_steps = [('up',5), ('down',3),('left',3),('right',2)]\n",
    "current_location = [0,0]\n",
    "for i in robot_steps:\n",
    "    direction =  i[0]\n",
    "    steps = i[1]\n",
    "    if direction == 'up':\n",
    "        current_location[1] += steps\n",
    "    if direction == 'down':\n",
    "        current_location[1] -= steps\n",
    "    if direction == 'left':\n",
    "        current_location[0] -= steps\n",
    "    if direction == 'right':\n",
    "        current_location[0] += steps\n",
    "        \n",
    "print(tuple(current_location))\n",
    "        "
   ]
  },
  {
   "cell_type": "code",
   "execution_count": null,
   "metadata": {},
   "outputs": [],
   "source": [
    "dist = round((current_location[0]**2 + current_location[1]**2)**0.5,3)\n",
    "dist"
   ]
  },
  {
   "cell_type": "code",
   "execution_count": null,
   "metadata": {},
   "outputs": [],
   "source": [
    "s = \"Hello world\"\n",
    "s"
   ]
  },
  {
   "cell_type": "code",
   "execution_count": null,
   "metadata": {},
   "outputs": [],
   "source": [
    "t = \"\\\"\" + s + \"\\\"\" + \"! How are you?\"\n",
    "t"
   ]
  },
  {
   "cell_type": "code",
   "execution_count": null,
   "metadata": {},
   "outputs": [],
   "source": [
    "#22\n",
    "s = 'New to Python or choosing between Python 2 and Python 3? Read Python 2 or Python 3.'\n",
    "new_list = s.split()\n",
    "new_list"
   ]
  },
  {
   "cell_type": "code",
   "execution_count": null,
   "metadata": {},
   "outputs": [],
   "source": [
    "my_dict = {}\n",
    "for word in new_list:\n",
    "    if word not in my_dict:\n",
    "        my_dict[word] = 1\n",
    "    else:\n",
    "        my_dict[word] += 1\n",
    "print(my_dict)\n",
    "    "
   ]
  },
  {
   "cell_type": "code",
   "execution_count": null,
   "metadata": {},
   "outputs": [],
   "source": [
    "sorted_list = sorted(list(my_dict))"
   ]
  },
  {
   "cell_type": "code",
   "execution_count": null,
   "metadata": {},
   "outputs": [],
   "source": [
    "for word in sorted_list:\n",
    "    print(f\"{word}: {my_dict[word]}\")"
   ]
  },
  {
   "cell_type": "code",
   "execution_count": null,
   "metadata": {},
   "outputs": [],
   "source": [
    "s = \"New to Python or choosing between Python 2 and Python 3? Read Python 2 or Python 3.\"\n",
    "new_list = s.split()\n",
    "new_list\n"
   ]
  },
  {
   "cell_type": "code",
   "execution_count": null,
   "metadata": {},
   "outputs": [],
   "source": [
    "my_dict = {}\n",
    "for word in new_list:\n",
    "    if word not in my_dict:\n",
    "        my_dict[word] = 1\n",
    "    else:\n",
    "        my_dict[word] += 1\n",
    "print(my_dict)"
   ]
  },
  {
   "cell_type": "code",
   "execution_count": null,
   "metadata": {},
   "outputs": [],
   "source": [
    "sorted_list = sorted(list(my_dict))"
   ]
  },
  {
   "cell_type": "code",
   "execution_count": null,
   "metadata": {},
   "outputs": [],
   "source": [
    "for word in sorted_list:\n",
    "    print(f\"{word}: {my_dict[word]}\")"
   ]
  },
  {
   "cell_type": "code",
   "execution_count": null,
   "metadata": {},
   "outputs": [],
   "source": [
    "s = \"Hello Aydin! How are you today? How is mum. Bye Aydin today.\"\n",
    "new_list = s.split()\n",
    "new_list"
   ]
  },
  {
   "cell_type": "code",
   "execution_count": null,
   "metadata": {},
   "outputs": [],
   "source": [
    "my_dict = {}\n",
    "for word in new_list:\n",
    "    if word not in my_dict:\n",
    "        my_dict[word] = 1\n",
    "    else:\n",
    "        my_dict[word] += 1\n",
    "print(my_dict)\n",
    "sorted_list = sorted(list(my_dict))"
   ]
  },
  {
   "cell_type": "code",
   "execution_count": null,
   "metadata": {},
   "outputs": [],
   "source": [
    "for word in sorted_list:\n",
    "    print(f'{word}: {my_dict[word]}')"
   ]
  },
  {
   "cell_type": "code",
   "execution_count": null,
   "metadata": {},
   "outputs": [],
   "source": [
    "#23\n",
    "def square(n):\n",
    "    return n**2"
   ]
  },
  {
   "cell_type": "code",
   "execution_count": null,
   "metadata": {},
   "outputs": [],
   "source": [
    "#24\n",
    "print(abs.__doc__)"
   ]
  },
  {
   "cell_type": "code",
   "execution_count": null,
   "metadata": {},
   "outputs": [],
   "source": [
    "print(int.__doc__)"
   ]
  },
  {
   "cell_type": "code",
   "execution_count": null,
   "metadata": {},
   "outputs": [],
   "source": [
    "print(len.__doc__)"
   ]
  },
  {
   "cell_type": "code",
   "execution_count": null,
   "metadata": {},
   "outputs": [],
   "source": [
    "#25\n",
    "class Person:\n",
    "    nickname = 'Aydu'\n",
    "    \n",
    "    def __init__(self,name):\n",
    "        self.nickname = name"
   ]
  },
  {
   "cell_type": "code",
   "execution_count": null,
   "metadata": {},
   "outputs": [],
   "source": [
    "person = Person('Aydin')"
   ]
  },
  {
   "cell_type": "code",
   "execution_count": null,
   "metadata": {},
   "outputs": [],
   "source": [
    "person.nickname"
   ]
  },
  {
   "cell_type": "code",
   "execution_count": null,
   "metadata": {},
   "outputs": [],
   "source": [
    "Person.nickname"
   ]
  },
  {
   "cell_type": "code",
   "execution_count": null,
   "metadata": {},
   "outputs": [],
   "source": [
    "#1\n",
    "def div_mul7(start,end):\n",
    "    new_list = []\n",
    "    for i in range(start,end+1):\n",
    "        if i % 7 == 0 and i % 5 != 0:\n",
    "            new_list.append(i)\n",
    "        return ','.join(new_list)"
   ]
  },
  {
   "cell_type": "code",
   "execution_count": null,
   "metadata": {},
   "outputs": [],
   "source": [
    "div_mul7(10,20)"
   ]
  },
  {
   "cell_type": "code",
   "execution_count": null,
   "metadata": {},
   "outputs": [],
   "source": [
    "#2\n",
    "def factorial(n):\n",
    "    result = 1\n",
    "    for i in range(1,n+1):\n",
    "        result *= i\n",
    "    return result"
   ]
  },
  {
   "cell_type": "code",
   "execution_count": null,
   "metadata": {},
   "outputs": [],
   "source": [
    "factorial(4)"
   ]
  },
  {
   "cell_type": "code",
   "execution_count": null,
   "metadata": {},
   "outputs": [],
   "source": [
    "#3\n",
    "def gen_dict(n):\n",
    "    my_dict = {}\n",
    "    for i in range(1,n+1):\n",
    "         my_dict[i] = i*i\n",
    "    return my_dict"
   ]
  },
  {
   "cell_type": "code",
   "execution_count": null,
   "metadata": {},
   "outputs": [],
   "source": [
    "gen_dict(8)"
   ]
  },
  {
   "cell_type": "code",
   "execution_count": null,
   "metadata": {},
   "outputs": [],
   "source": [
    "#4\n",
    "s = '34,67,55,33,12,98'\n",
    "new_list = s.split(',')\n",
    "print(new_list)\n",
    "print(tuple(new_list))"
   ]
  },
  {
   "cell_type": "code",
   "execution_count": null,
   "metadata": {},
   "outputs": [],
   "source": [
    "#5\n",
    "# class InOutString:\n",
    "#     def __init__(self):\n",
    "#         self.result = ''\n",
    "#     def get_string(self):\n",
    "#         self.result = input(\"Enter a string: \")\n",
    "        \n",
    "#     def print_upper(self):\n",
    "#         return self.result.upper()\n",
    "    \n",
    "# if __name__ == '__main__':\n",
    "#     item = InOutString()\n",
    "#     item.get_string()\n",
    "#     print(item.print_upper)"
   ]
  },
  {
   "cell_type": "code",
   "execution_count": null,
   "metadata": {},
   "outputs": [],
   "source": [
    "#6\n",
    "import math\n",
    "C = 50\n",
    "H = 30\n",
    "d = '100,150,180'\n",
    "d_list = d.split(',')\n",
    "\n",
    "result = [str(round(math.sqrt(2 * C * int(d)/H))) for d in d_list]\n",
    "print(','.join(result))\n",
    "    "
   ]
  },
  {
   "cell_type": "code",
   "execution_count": null,
   "metadata": {},
   "outputs": [],
   "source": [
    "#7\n",
    "X = 3\n",
    "Y = 4\n",
    "x_result = []\n",
    "for i in range(1,X+1):\n",
    "    y_result = []\n",
    "    for j in range(1,Y+1):\n",
    "        y_result.append(i*j)\n",
    "    x_result.append(y_result)\n",
    "print(x_result)"
   ]
  },
  {
   "cell_type": "code",
   "execution_count": null,
   "metadata": {},
   "outputs": [],
   "source": [
    "#8\n",
    "s = \"without,hello,bag,world\"\n",
    "new_list = s.split(',')\n",
    "sorted_list = sorted(new_list)\n",
    "print(','.join(sorted_list))"
   ]
  },
  {
   "cell_type": "code",
   "execution_count": null,
   "metadata": {},
   "outputs": [],
   "source": [
    "#9\n",
    "s = 'Hello world\\nPractice makes perfect'\n",
    "new_list = s.split('\\n')\n",
    "new_list\n",
    "other_list = []\n",
    "for i in new_list:\n",
    "    other_list.append(i.upper())\n",
    "print('\\n'.join(other_list))"
   ]
  },
  {
   "cell_type": "code",
   "execution_count": null,
   "metadata": {},
   "outputs": [],
   "source": [
    "#LC\n",
    "line =  'Hello world\\nPractice makes perfect'\n",
    "print(line.split('\\n'))\n",
    "result = [x.upper() for x in line.split('\\n')]\n",
    "print('\\n'.join(result))"
   ]
  },
  {
   "cell_type": "code",
   "execution_count": null,
   "metadata": {},
   "outputs": [],
   "source": [
    "furze = {'Triangle':['Aydin', 'Izaan', 'Imran'], \n",
    "         'Circle':['Umer', 'Saim', 'Aarav'], \n",
    "         'Diamond':['Riya', 'Diana', 'Simran']}\n",
    "furze"
   ]
  },
  {
   "cell_type": "code",
   "execution_count": null,
   "metadata": {},
   "outputs": [],
   "source": [
    "for base in furze:\n",
    "    print(base)"
   ]
  },
  {
   "cell_type": "code",
   "execution_count": null,
   "metadata": {},
   "outputs": [],
   "source": [
    "for base,students in furze.items():\n",
    "    #print(base)\n",
    "    #print('-------')\n",
    "    for student in students:\n",
    "        print(f'{student}: {base}')\n",
    "    print('\\n')"
   ]
  },
  {
   "cell_type": "code",
   "execution_count": null,
   "metadata": {},
   "outputs": [],
   "source": [
    "#hacker rank\n",
    "def time_conversion(s):\n",
    "    is_am = s[-2:] == 'AM'\n",
    "    is_12 = s[:2] == '12'\n",
    "    s = s[:-2] \n",
    "    if is_am:\n",
    "        if is_12:\n",
    "            time_part_broken = s.split(':')\n",
    "            time_part_broken[0] == '00'\n",
    "            return ':'.join(time_part_broken)\n",
    "        else:\n",
    "            return s\n",
    "    else:\n",
    "        if is_12:\n",
    "            return s\n",
    "        else:\n",
    "            time_part_broken = s.split(':')\n",
    "            hour = time_part_broken[0]\n",
    "            hour = int(hour) + 12\n",
    "            time_part_broken[0] = str(hour)\n",
    "            return ':'.join(time_part_broken)\n",
    "            "
   ]
  },
  {
   "cell_type": "code",
   "execution_count": null,
   "metadata": {},
   "outputs": [],
   "source": [
    "time_conversion('00:30:06 AM')"
   ]
  },
  {
   "cell_type": "code",
   "execution_count": null,
   "metadata": {},
   "outputs": [],
   "source": [
    "time_conversion('07:30:06 PM')"
   ]
  },
  {
   "cell_type": "code",
   "execution_count": null,
   "metadata": {},
   "outputs": [],
   "source": [
    "time_conversion('12:30:06 PM')"
   ]
  },
  {
   "cell_type": "code",
   "execution_count": null,
   "metadata": {},
   "outputs": [],
   "source": [
    "furze = {'Triangle':['Aydin', 'Izaan', 'Imran'], \n",
    "         'Circle':['Umer', 'Saim', 'Aarav'], \n",
    "         'Diamond':['Riya', 'Diana', 'Simran']}\n",
    "furze"
   ]
  },
  {
   "cell_type": "code",
   "execution_count": null,
   "metadata": {},
   "outputs": [],
   "source": [
    "for base,students in furze.items():\n",
    "    for student in students:\n",
    "        print(f\"{student}: {base}\")\n",
    "    print('\\n')"
   ]
  },
  {
   "cell_type": "code",
   "execution_count": null,
   "metadata": {},
   "outputs": [],
   "source": [
    "X = 3\n",
    "Y = 4\n",
    "x_result = []\n",
    "for i in range(1,X+1):\n",
    "    y_result =[]\n",
    "    for j in range(1,Y+1):\n",
    "        y_result.append(i*j)\n",
    "    x_result.append(y_result)\n",
    "print(x_result)    "
   ]
  },
  {
   "cell_type": "code",
   "execution_count": null,
   "metadata": {},
   "outputs": [],
   "source": [
    "#10\n",
    "s = 'hello world and practice makes perfect and hello world again'\n",
    "new_list = s.split()\n",
    "new_list\n",
    "my_set = set(new_list)\n",
    "#my_set\n",
    "l = list(my_set)\n",
    "l\n",
    "sorted_l = sorted(l)\n",
    "sorted_l\n",
    "print(','.join(sorted_l))\n",
    "# sorted_list = sorted(new_list)\n",
    "# sorted_list\n",
    "# l = list(my_set)\n",
    "# l"
   ]
  },
  {
   "cell_type": "code",
   "execution_count": null,
   "metadata": {},
   "outputs": [],
   "source": [
    "#11\n",
    "s = '0100,0011,1010,1001'\n",
    "l = s.split(',')\n",
    "print(l)\n",
    "other_l = []\n",
    "for i in l:\n",
    "    if int(i) % 5 == 0:\n",
    "        other_l.append(str(i))\n",
    "print(','.join(other_l))\n",
    "    "
   ]
  },
  {
   "cell_type": "code",
   "execution_count": null,
   "metadata": {},
   "outputs": [],
   "source": [
    "#Lc\n",
    "s = '0100,0011,1010,1001'\n",
    "l = s.split(',')\n",
    "print(l)\n",
    "result = [x for x in l if int(x) % 5 == 0]\n",
    "','.join(result)"
   ]
  },
  {
   "cell_type": "code",
   "execution_count": null,
   "metadata": {},
   "outputs": [],
   "source": [
    "#12\n",
    "new_list = []\n",
    "for i in range(2000,3001):\n",
    "    s = str(i)\n",
    "    if int(s[0]) % 2 == 0 and int(s[1]) % 2 == 0 and int(s[2]) % 2 == 0 and int(s[3]) % 2 == 0:\n",
    "        new_list.append(s)\n",
    "print(','.join(new_list))"
   ]
  },
  {
   "cell_type": "code",
   "execution_count": null,
   "metadata": {},
   "outputs": [],
   "source": [
    "#11 other way\n",
    "def odd_even(n):\n",
    "    s = str(n)\n",
    "    for i in s:\n",
    "        if int(i) % 2 != 0:\n",
    "            return False\n",
    "    return True"
   ]
  },
  {
   "cell_type": "code",
   "execution_count": null,
   "metadata": {},
   "outputs": [],
   "source": [
    "def common_odd_even(start,end):\n",
    "    result = []\n",
    "    for i in range(start,end+1):\n",
    "        if odd_even(i):\n",
    "            result.append(str(i))\n",
    "    return ','.join(result)"
   ]
  },
  {
   "cell_type": "code",
   "execution_count": null,
   "metadata": {},
   "outputs": [],
   "source": [
    "common_odd_even(10,100)"
   ]
  },
  {
   "cell_type": "code",
   "execution_count": null,
   "metadata": {},
   "outputs": [],
   "source": [
    "#13\n",
    "s = 'hello world! 123'\n",
    "count_letters=0\n",
    "count_numbers = 0\n",
    "for i in s:\n",
    "    if i.isalpha():\n",
    "        count_letters += 1\n",
    "    if i.isdigit():\n",
    "        count_numbers += 1\n",
    "print(f\"LETTERS:{count_letters}\\nDIGITS:{count_numbers}\")\n"
   ]
  },
  {
   "cell_type": "code",
   "execution_count": null,
   "metadata": {},
   "outputs": [],
   "source": [
    "#14\n",
    "s = 'Hello world!'\n",
    "result = {'upper': 0,'lower': 0}\n",
    "for i in s:\n",
    "    if i.isupper():\n",
    "        result['upper'] += 1\n",
    "    if i.islower():\n",
    "        result['lower'] += 1\n",
    "print(f\"UPPER: {result['upper']}\\nLOWER: {result['lower']}\")"
   ]
  },
  {
   "cell_type": "code",
   "execution_count": null,
   "metadata": {},
   "outputs": [],
   "source": [
    "#15\n",
    "n = 9\n",
    "n1 = n + (n*10)\n",
    "n2 = n1 + (n*100)\n",
    "n3 = n2 + (n*1000)\n",
    "print(n+n1+n2+n3)"
   ]
  },
  {
   "cell_type": "code",
   "execution_count": null,
   "metadata": {},
   "outputs": [],
   "source": [
    "#16\n",
    "s = '1,2,3,4,5,6,7,8,9'\n",
    "l =s.split(',')\n",
    "result = [str(int(x)**2) for x in s.split(',') if int(x) % 2 == 0]\n",
    "','.join(result)"
   ]
  },
  {
   "cell_type": "code",
   "execution_count": null,
   "metadata": {},
   "outputs": [],
   "source": [
    "#17\n",
    "s = 'D 100,W 50,D 200, D  300, d 10, w 20'\n",
    "l = s.split(',')\n",
    "l\n",
    "# my_list = [('D', 300),('D' 300),('W' 200),('D' 100)]\n",
    "# balance = 0\n",
    "# for tup in my_list:\n",
    "#     if tup[0].upper() == \"D\":\n",
    "#         balance += int(tup[1])\n",
    "#     if tup[0].upper() == 'W':\n",
    "#         balance += int(tup[1])\n",
    "# print(balance)\n"
   ]
  },
  {
   "cell_type": "code",
   "execution_count": null,
   "metadata": {},
   "outputs": [],
   "source": [
    "other_list = []\n",
    "for i in l:\n",
    "    other_list.append(tuple(i.split()))\n",
    "#print(other_list)\n",
    "balance = 0\n",
    "for i in other_list:\n",
    "    if i[0].lower() == 'd':\n",
    "        balance += int(i[1])\n",
    "    if i[0].lower() == 'w':\n",
    "        balance -= int(i[1])\n",
    "print(balance)\n",
    "        "
   ]
  },
  {
   "cell_type": "code",
   "execution_count": null,
   "metadata": {},
   "outputs": [],
   "source": [
    "def bank_account(mystring):\n",
    "    new_list = mystring.split(',')\n",
    "    other_list = []\n",
    "    for i in new_list:\n",
    "        other_list.append(tuple(i.split()))\n",
    "    \n",
    "    balance = 0\n",
    "    for index,tup in enumerate(other_list):\n",
    "        if len(tup) < 2:\n",
    "            raise Exception(f\"Invalid entry found: {tup}, Entry number:{index + 1}\")\n",
    "        if tup[0].lower() == 'd':\n",
    "            balance += int(tup[1])\n",
    "        elif tup[0].lower() == 'w':\n",
    "            balance -= int(tup[1])\n",
    "        else:\n",
    "            raise Exception(f\"Undefined value found: {tup[0]}, Entry number: {index + 1}\")\n",
    "    return balance      "
   ]
  },
  {
   "cell_type": "code",
   "execution_count": null,
   "metadata": {},
   "outputs": [],
   "source": [
    " bank_account('D 300, D 300, W 200, D 100, D')"
   ]
  },
  {
   "cell_type": "code",
   "execution_count": null,
   "metadata": {},
   "outputs": [],
   "source": [
    "#18\n",
    "def get_criteria(s):\n",
    "    d = {\n",
    "        'letter between [a-z]' : False,\n",
    "        'number between [0-9]' : False,\n",
    "        'letter between [A-Z]' : False,\n",
    "        'character from [$#@]' : False,\n",
    "        'Minimum length' : False,\n",
    "        'Maximum length'  : False\n",
    "    }\n",
    "    for i in s:\n",
    "        if i.isalpha() and i.islower():\n",
    "            d['letter between [a-z]'] = True\n",
    "        if i.isdigit():\n",
    "            d['number between [0-9]'] = True\n",
    "        if i.isalpha() and i.isupper():\n",
    "            d['letter between [A-Z]'] = True\n",
    "        if i in '$#@':\n",
    "            d['character from [$#@]'] = True\n",
    "        if len(s) > 6:\n",
    "            d['Minimum length'] = True\n",
    "        if len(s) <= 12:\n",
    "            d['Maximum length'] = True\n",
    "    return d\n"
   ]
  },
  {
   "cell_type": "code",
   "execution_count": null,
   "metadata": {},
   "outputs": [],
   "source": [
    "def get_password(s):\n",
    "    criteria = get_criteria(s)\n",
    "    unmatched_criteria = []\n",
    "    for key in criteria:\n",
    "        if criteria[key] == False:\n",
    "            unmatched_criteria.append(key)\n",
    "    if len(unmatched_criteria) == 0:\n",
    "        print('Good Password')\n",
    "    else:\n",
    "        print('Bad Password- Reason: ')\n",
    "        print('\\n'.join(unmatched_criteria))"
   ]
  },
  {
   "cell_type": "code",
   "execution_count": null,
   "metadata": {},
   "outputs": [],
   "source": [
    "get_password('123')"
   ]
  },
  {
   "cell_type": "code",
   "execution_count": null,
   "metadata": {},
   "outputs": [],
   "source": [
    "get_password('sab123V@bnmrte')"
   ]
  },
  {
   "cell_type": "code",
   "execution_count": null,
   "metadata": {},
   "outputs": [],
   "source": [
    "#19\n",
    "t = [('Tom',19,80),('John',20,90),('Jony',17,91),('Jony',17,93),('Json',21,85)]\n",
    "print(t)"
   ]
  },
  {
   "cell_type": "code",
   "execution_count": null,
   "metadata": {},
   "outputs": [],
   "source": [
    "from operator import itemgetter,attrgetter\n",
    "sorted(t,key = itemgetter(0,1,2))"
   ]
  },
  {
   "cell_type": "code",
   "execution_count": null,
   "metadata": {},
   "outputs": [],
   "source": [
    "#20\n",
    "def yield7(n):\n",
    "    i = 1\n",
    "    while i < n:\n",
    "        if i % 7:\n",
    "            i += 1\n",
    "            yield i"
   ]
  },
  {
   "cell_type": "code",
   "execution_count": null,
   "metadata": {},
   "outputs": [],
   "source": [
    "for i in yield7(10):\n",
    "    print(i)"
   ]
  },
  {
   "cell_type": "code",
   "execution_count": null,
   "metadata": {},
   "outputs": [],
   "source": [
    "def find_square(n):\n",
    "    i = 1\n",
    "    while i < n:\n",
    "        print(f\"I am inside while loop: \" + str(i))\n",
    "        sq = i*i\n",
    "        i += 1\n",
    "        yield sq"
   ]
  },
  {
   "cell_type": "code",
   "execution_count": null,
   "metadata": {},
   "outputs": [],
   "source": [
    "for i in find_square(10):\n",
    "    print(i)"
   ]
  },
  {
   "cell_type": "code",
   "execution_count": null,
   "metadata": {},
   "outputs": [],
   "source": [
    "s = 'u 5, d 3, l 3, r 2'\n",
    "new_list = s.split(',')\n",
    "print(new_list)"
   ]
  },
  {
   "cell_type": "code",
   "execution_count": 29,
   "metadata": {},
   "outputs": [
    {
     "data": {
      "text/plain": [
       "'u 5, d 3, l 3, r 2'"
      ]
     },
     "execution_count": 29,
     "metadata": {},
     "output_type": "execute_result"
    }
   ],
   "source": [
    "s = 'u 5, d 3, l 3, r 2'\n",
    "s"
   ]
  },
  {
   "cell_type": "code",
   "execution_count": 30,
   "metadata": {},
   "outputs": [],
   "source": [
    "new_list = s.split(',')"
   ]
  },
  {
   "cell_type": "code",
   "execution_count": 31,
   "metadata": {},
   "outputs": [
    {
     "data": {
      "text/plain": [
       "['u 5', ' d 3', ' l 3', ' r 2']"
      ]
     },
     "execution_count": 31,
     "metadata": {},
     "output_type": "execute_result"
    }
   ],
   "source": [
    "new_list"
   ]
  },
  {
   "cell_type": "code",
   "execution_count": 32,
   "metadata": {},
   "outputs": [
    {
     "name": "stdout",
     "output_type": "stream",
     "text": [
      "[('u', '5'), ('d', '3'), ('l', '3'), ('r', '2')]\n"
     ]
    }
   ],
   "source": [
    "other_list = []\n",
    "for i in new_list:\n",
    "    other_list.append(tuple(i.split()))\n",
    "print(other_list)    "
   ]
  },
  {
   "cell_type": "code",
   "execution_count": 36,
   "metadata": {},
   "outputs": [
    {
     "name": "stdout",
     "output_type": "stream",
     "text": [
      "[-1, 2]\n"
     ]
    },
    {
     "data": {
      "text/plain": [
       "2.236"
      ]
     },
     "execution_count": 36,
     "metadata": {},
     "output_type": "execute_result"
    }
   ],
   "source": [
    "#21\n",
    "current_position = [0,0]\n",
    "for tup in other_list:\n",
    "    if tup[0] == 'u':\n",
    "        current_position[1] += int(tup[1])\n",
    "    if tup[0] == 'd':\n",
    "        current_position[1] -= int(tup[1])\n",
    "    if tup[0] == 'l':\n",
    "        current_position[0] -= int(tup[1])\n",
    "    if tup[0] == 'r':\n",
    "        current_position[0] += int(tup[1]) \n",
    "        \n",
    "print(current_position)\n",
    "dist = round(((current_position[0] ** 2) + (current_position[1] ** 2))**0.5,3)\n",
    "dist"
   ]
  },
  {
   "cell_type": "code",
   "execution_count": 40,
   "metadata": {},
   "outputs": [
    {
     "ename": "SyntaxError",
     "evalue": "invalid syntax (<ipython-input-40-9f9216fcbd96>, line 6)",
     "output_type": "error",
     "traceback": [
      "\u001b[1;36m  File \u001b[1;32m\"<ipython-input-40-9f9216fcbd96>\"\u001b[1;36m, line \u001b[1;32m6\u001b[0m\n\u001b[1;33m    for word new_list:\u001b[0m\n\u001b[1;37m                    ^\u001b[0m\n\u001b[1;31mSyntaxError\u001b[0m\u001b[1;31m:\u001b[0m invalid syntax\n"
     ]
    }
   ],
   "source": [
    "#22\n",
    "s = 'New to Python or choosing between Python 2 and Python 3? Read Python 2 or Python 3.'\n",
    "new_list = s.split()\n",
    "new_list\n",
    "my_dict = {}\n",
    "for word new_list:\n",
    "    if word not in my_dict:\n",
    "        my_dict[word] = 1\n",
    "    else:\n",
    "        my_dict[word] += 1\n",
    "print(my_dict)\n"
   ]
  },
  {
   "cell_type": "code",
   "execution_count": null,
   "metadata": {},
   "outputs": [],
   "source": []
  }
 ],
 "metadata": {
  "kernelspec": {
   "display_name": "Python 3",
   "language": "python",
   "name": "python3"
  },
  "language_info": {
   "codemirror_mode": {
    "name": "ipython",
    "version": 3
   },
   "file_extension": ".py",
   "mimetype": "text/x-python",
   "name": "python",
   "nbconvert_exporter": "python",
   "pygments_lexer": "ipython3",
   "version": "3.7.1"
  }
 },
 "nbformat": 4,
 "nbformat_minor": 2
}
