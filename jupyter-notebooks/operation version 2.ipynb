{
 "cells": [
  {
   "cell_type": "code",
   "execution_count": 1,
   "metadata": {},
   "outputs": [],
   "source": [
    "def get_user_input():\n",
    "    result = input('Choose your operation: ')\n",
    "    return result"
   ]
  },
  {
   "cell_type": "code",
   "execution_count": 7,
   "metadata": {},
   "outputs": [],
   "source": [
    "def calculate(input):\n",
    "    if '+' in input:\n",
    "        input_list = input.split('+')\n",
    "        return float(input_list[0]) + float(input_list[1])\n",
    "    elif '-' in input:\n",
    "        input_list = input.split('-')\n",
    "        return float(input_list[0]) - float(input_list[1])\n",
    "    elif '/' in input:\n",
    "        input_list = input.split('/')\n",
    "        return float(input_list[0]) / float(input_list[1])\n",
    "    elif '*' in input:\n",
    "        input_list = input.split('*')\n",
    "        return float(input_list[0]) * float(input_list[1])\n",
    "    else:\n",
    "        return 'NONSENSE'\n",
    "        "
   ]
  },
  {
   "cell_type": "code",
   "execution_count": 8,
   "metadata": {},
   "outputs": [],
   "source": [
    "from  IPython.display import clear_output\n",
    "def play_game():\n",
    "    clear_output()\n",
    "    print('\\n\\n')\n",
    "    print('########')\n",
    "    print('########')\n",
    "    user_input = get_user_input()\n",
    "    result = calculate(user_input)\n",
    "    print('The answer is ',result)\n",
    "    print('\\n\\n')\n",
    "    print('########')\n",
    "    print('########')"
   ]
  },
  {
   "cell_type": "code",
   "execution_count": 9,
   "metadata": {},
   "outputs": [],
   "source": [
    "def replay():\n",
    "    return input('DO YOU WANT TO PLAY AGAIN? Yes or No: ').upper().startswith('Y')"
   ]
  },
  {
   "cell_type": "code",
   "execution_count": null,
   "metadata": {},
   "outputs": [
    {
     "name": "stdout",
     "output_type": "stream",
     "text": [
      "\n",
      "\n",
      "\n",
      "########\n",
      "########\n"
     ]
    }
   ],
   "source": [
    "def main():\n",
    "    game_on = True\n",
    "    while game_on:\n",
    "        play_game()\n",
    "        \n",
    "        if not replay():\n",
    "            break\n",
    "            \n",
    "main()"
   ]
  },
  {
   "cell_type": "code",
   "execution_count": null,
   "metadata": {},
   "outputs": [],
   "source": []
  }
 ],
 "metadata": {
  "kernelspec": {
   "display_name": "Python 3",
   "language": "python",
   "name": "python3"
  },
  "language_info": {
   "codemirror_mode": {
    "name": "ipython",
    "version": 3
   },
   "file_extension": ".py",
   "mimetype": "text/x-python",
   "name": "python",
   "nbconvert_exporter": "python",
   "pygments_lexer": "ipython3",
   "version": "3.7.0"
  }
 },
 "nbformat": 4,
 "nbformat_minor": 2
}
