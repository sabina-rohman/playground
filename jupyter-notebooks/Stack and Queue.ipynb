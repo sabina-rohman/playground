{
 "cells": [
  {
   "cell_type": "code",
   "execution_count": 1,
   "metadata": {},
   "outputs": [],
   "source": [
    "#Monsur problem\n",
    "class AverageCalculator:\n",
    "    def __init__(self,warmup_level):\n",
    "        self.mylist = []\n",
    "        self.warmup_level = warmup_level\n",
    "        \n",
    "    def add_number(self,num):\n",
    "        self.mylist.append(num)\n",
    "        \n",
    "    def get_average(self):\n",
    "        if not self.is_warmer():\n",
    "            raise Exception(f\"Length of list must be atleast {self.warmup_level}\")\n",
    "        else:\n",
    "            return sum(self.mylist)/len(self.mylist)\n",
    "        \n",
    "    def is_warmer(self):\n",
    "        if len(self.mylist) >= self.warmup_level:\n",
    "            return True\n",
    "        else:\n",
    "            return False"
   ]
  },
  {
   "cell_type": "code",
   "execution_count": 2,
   "metadata": {},
   "outputs": [
    {
     "data": {
      "text/plain": [
       "True"
      ]
     },
     "execution_count": 2,
     "metadata": {},
     "output_type": "execute_result"
    }
   ],
   "source": [
    "avgc = AverageCalculator(5)\n",
    "avgc.add_number(3)\n",
    "avgc.is_warmer()\n",
    "avgc.add_number(3)\n",
    "avgc.is_warmer()\n",
    "avgc.add_number(3)\n",
    "avgc.is_warmer()\n",
    "avgc.add_number(3)\n",
    "avgc.is_warmer()\n",
    "avgc.add_number(3)\n",
    "avgc.is_warmer()"
   ]
  },
  {
   "cell_type": "code",
   "execution_count": 3,
   "metadata": {},
   "outputs": [
    {
     "data": {
      "text/plain": [
       "3.0"
      ]
     },
     "execution_count": 3,
     "metadata": {},
     "output_type": "execute_result"
    }
   ],
   "source": [
    "avgc.get_average()"
   ]
  },
  {
   "cell_type": "code",
   "execution_count": 4,
   "metadata": {},
   "outputs": [
    {
     "data": {
      "text/plain": [
       "True"
      ]
     },
     "execution_count": 4,
     "metadata": {},
     "output_type": "execute_result"
    }
   ],
   "source": [
    "avgc.is_warmer()"
   ]
  },
  {
   "cell_type": "code",
   "execution_count": null,
   "metadata": {},
   "outputs": [],
   "source": [
    "import queue\n",
    "q = queue.Queue(3)\n",
    "#q.__doc__\n",
    "q.put(1)\n",
    "q.put(2)\n",
    "q.put(3)\n",
    "q.put(4)\n",
    "q.put(5)"
   ]
  },
  {
   "cell_type": "code",
   "execution_count": null,
   "metadata": {},
   "outputs": [],
   "source": [
    "q.get()"
   ]
  },
  {
   "cell_type": "code",
   "execution_count": null,
   "metadata": {},
   "outputs": [],
   "source": []
  },
  {
   "cell_type": "code",
   "execution_count": null,
   "metadata": {},
   "outputs": [],
   "source": []
  }
 ],
 "metadata": {
  "kernelspec": {
   "display_name": "Python 3",
   "language": "python",
   "name": "python3"
  },
  "language_info": {
   "codemirror_mode": {
    "name": "ipython",
    "version": 3
   },
   "file_extension": ".py",
   "mimetype": "text/x-python",
   "name": "python",
   "nbconvert_exporter": "python",
   "pygments_lexer": "ipython3",
   "version": "3.7.1"
  }
 },
 "nbformat": 4,
 "nbformat_minor": 2
}
