{
 "cells": [
  {
   "cell_type": "code",
   "execution_count": 20,
   "metadata": {},
   "outputs": [],
   "source": [
    "fruit_prices = {'apple':2.99, 'orange':3.99}\n",
    "fruit_stock = {'apple':30, 'orange':40}\n",
    "fruit_color = {'apple':'red' , 'orange':'orange'}"
   ]
  },
  {
   "cell_type": "code",
   "execution_count": 21,
   "metadata": {},
   "outputs": [],
   "source": [
    "fruit_name = 'Orange'.lower()"
   ]
  },
  {
   "cell_type": "code",
   "execution_count": 22,
   "metadata": {},
   "outputs": [],
   "source": [
    "price = fruit_prices[fruit_name]\n",
    "amount = fruit_stock[fruit_name]\n",
    "color = fruit_color[fruit_name]"
   ]
  },
  {
   "cell_type": "code",
   "execution_count": 23,
   "metadata": {},
   "outputs": [
    {
     "name": "stdout",
     "output_type": "stream",
     "text": [
      "The price of orange is 3.99 and amount is 40 and color is orange\n"
     ]
    }
   ],
   "source": [
    "try:\n",
    "    print(f\"The price of orange is {price} and amount is {amount} and color is {color}\")\n",
    "except:\n",
    "    print('There is an error')"
   ]
  },
  {
   "cell_type": "code",
   "execution_count": 24,
   "metadata": {},
   "outputs": [],
   "source": [
    "class Fruit():\n",
    "    def __init__(self,fruit_name,fruit_prices,fruit_stock,fruit_color):\n",
    "        self.fruit_name = fruit_name\n",
    "        self.fruit_prices = fruit_prices\n",
    "        self.fruit_stock = fruit_stock\n",
    "        self.fruit_color = fruit_color\n",
    "        "
   ]
  },
  {
   "cell_type": "code",
   "execution_count": 29,
   "metadata": {},
   "outputs": [],
   "source": [
    "apple = Fruit('apple',2.99,30,'red')\n",
    "orange = Fruit('orange',3.99,40,'orange')\n",
    "fruits = {'apple':apple,'orange':orange}"
   ]
  },
  {
   "cell_type": "code",
   "execution_count": 32,
   "metadata": {},
   "outputs": [
    {
     "name": "stdout",
     "output_type": "stream",
     "text": [
      "Fruit = orange, Amount = 40,Price = 3.99, Color = orange\n"
     ]
    }
   ],
   "source": [
    "fruit_instance = fruits[fruit_name]\n",
    "print(f\"Fruit = {fruit_name}, Amount = {fruit_instance.fruit_stock},Price = {fruit_instance.fruit_prices}, Color = {fruit_instance.fruit_color}\")"
   ]
  },
  {
   "cell_type": "code",
   "execution_count": null,
   "metadata": {},
   "outputs": [],
   "source": []
  }
 ],
 "metadata": {
  "kernelspec": {
   "display_name": "Python 3",
   "language": "python",
   "name": "python3"
  },
  "language_info": {
   "codemirror_mode": {
    "name": "ipython",
    "version": 3
   },
   "file_extension": ".py",
   "mimetype": "text/x-python",
   "name": "python",
   "nbconvert_exporter": "python",
   "pygments_lexer": "ipython3",
   "version": "3.7.1"
  }
 },
 "nbformat": 4,
 "nbformat_minor": 2
}
