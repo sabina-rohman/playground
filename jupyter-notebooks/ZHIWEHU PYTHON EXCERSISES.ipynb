{
 "cells": [
  {
   "cell_type": "code",
   "execution_count": 1,
   "metadata": {},
   "outputs": [],
   "source": [
    "def factorial(num):\n",
    "    if num == 0:\n",
    "        return 1\n",
    "    else:\n",
    "        return num * factorial(num -1)"
   ]
  },
  {
   "cell_type": "code",
   "execution_count": 2,
   "metadata": {},
   "outputs": [],
   "source": [
    "def factorial(n):\n",
    "    num = 1\n",
    "    while n >= 1:\n",
    "        num = num * n\n",
    "        n = n-1\n",
    "    return num"
   ]
  },
  {
   "cell_type": "code",
   "execution_count": 25,
   "metadata": {},
   "outputs": [],
   "source": [
    "#2\n",
    "def fact(n):\n",
    "    result = 1\n",
    "    for i in range(1,n+1):\n",
    "        result = result*i\n",
    "    return result"
   ]
  },
  {
   "cell_type": "code",
   "execution_count": 31,
   "metadata": {},
   "outputs": [
    {
     "data": {
      "text/plain": [
       "120"
      ]
     },
     "execution_count": 31,
     "metadata": {},
     "output_type": "execute_result"
    }
   ],
   "source": [
    "fact(5)"
   ]
  },
  {
   "cell_type": "code",
   "execution_count": 16,
   "metadata": {},
   "outputs": [],
   "source": [
    "#3\n",
    "def div_mul(start,end):\n",
    "    new_list = []\n",
    "    for i in range(start,end+1):\n",
    "        if i % 7 == 0 and i % 5 != 0:\n",
    "            new_list.append(str(i))\n",
    "    return ','.join(new_list)"
   ]
  },
  {
   "cell_type": "code",
   "execution_count": 19,
   "metadata": {},
   "outputs": [
    {
     "data": {
      "text/plain": [
       "'14'"
      ]
     },
     "execution_count": 19,
     "metadata": {},
     "output_type": "execute_result"
    }
   ],
   "source": [
    "div_mul(10,20)"
   ]
  },
  {
   "cell_type": "code",
   "execution_count": 20,
   "metadata": {},
   "outputs": [],
   "source": [
    "def div_mul_lc(start,end):\n",
    "    new_list = [str(i) for i in range(start,end+1) if i%7 == 0 and i%5 != 0]\n",
    "    return ','.join(new_list)"
   ]
  },
  {
   "cell_type": "code",
   "execution_count": 21,
   "metadata": {},
   "outputs": [
    {
     "data": {
      "text/plain": [
       "'14,21,28'"
      ]
     },
     "execution_count": 21,
     "metadata": {},
     "output_type": "execute_result"
    }
   ],
   "source": [
    "div_mul_lc(10,30)"
   ]
  },
  {
   "cell_type": "code",
   "execution_count": 22,
   "metadata": {},
   "outputs": [],
   "source": [
    "#4\n",
    "def dicty_square(n):\n",
    "    new_dict = {}\n",
    "    for i in range(1,n+1):\n",
    "        new_dict[i] = i*i\n",
    "    return new_dict"
   ]
  },
  {
   "cell_type": "code",
   "execution_count": 23,
   "metadata": {},
   "outputs": [
    {
     "data": {
      "text/plain": [
       "{1: 1, 2: 4, 3: 9, 4: 16, 5: 25, 6: 36, 7: 49, 8: 64, 9: 81, 10: 100}"
      ]
     },
     "execution_count": 23,
     "metadata": {},
     "output_type": "execute_result"
    }
   ],
   "source": [
    "dicty_square(10)"
   ]
  },
  {
   "cell_type": "code",
   "execution_count": 24,
   "metadata": {},
   "outputs": [
    {
     "data": {
      "text/plain": [
       "{1: 1, 2: 4, 3: 9, 4: 16, 5: 25, 6: 36, 7: 49, 8: 64, 9: 81, 10: 100}"
      ]
     },
     "execution_count": 24,
     "metadata": {},
     "output_type": "execute_result"
    }
   ],
   "source": [
    "{i:i*i for i in range(1,11)}"
   ]
  },
  {
   "cell_type": "code",
   "execution_count": 32,
   "metadata": {},
   "outputs": [
    {
     "data": {
      "text/plain": [
       "['34', '67', '55', '33', '12', '98']"
      ]
     },
     "execution_count": 32,
     "metadata": {},
     "output_type": "execute_result"
    }
   ],
   "source": [
    "#5\n",
    "d = '34,67,55,33,12,98'\n",
    "d.split(',')"
   ]
  },
  {
   "cell_type": "code",
   "execution_count": 30,
   "metadata": {},
   "outputs": [
    {
     "data": {
      "text/plain": [
       "('34', '67', '55', '33', '12', '98')"
      ]
     },
     "execution_count": 30,
     "metadata": {},
     "output_type": "execute_result"
    }
   ],
   "source": [
    "tuple(c)"
   ]
  },
  {
   "cell_type": "code",
   "execution_count": 6,
   "metadata": {},
   "outputs": [
    {
     "name": "stdout",
     "output_type": "stream",
     "text": [
      "18,22,24\n"
     ]
    }
   ],
   "source": [
    "#6\n",
    "import math\n",
    "d_list = [100,150,180]\n",
    "c = 50\n",
    "h = 30\n",
    "result = [str(round(math.sqrt(2* c * d/h))) for d in d_list]\n",
    "print(','.join(result))    "
   ]
  },
  {
   "cell_type": "code",
   "execution_count": 11,
   "metadata": {},
   "outputs": [
    {
     "name": "stdout",
     "output_type": "stream",
     "text": [
      "[[1, 2, 3, 4], [2, 4, 6, 8], [3, 6, 9, 12]]\n"
     ]
    }
   ],
   "source": [
    "#7 and one class problem in pycharm\n",
    "X = 3\n",
    "Y = 4\n",
    "x_result = []\n",
    "for i in range(1,X+1):\n",
    "    y_result = []\n",
    "    for j in range(1,Y+1):\n",
    "        y_result.append(i*j)\n",
    "    x_result.append(y_result)\n",
    "print(x_result)\n",
    "    "
   ]
  },
  {
   "cell_type": "code",
   "execution_count": 15,
   "metadata": {},
   "outputs": [
    {
     "name": "stdout",
     "output_type": "stream",
     "text": [
      "bag,hello,without,world\n"
     ]
    }
   ],
   "source": [
    "#8\n",
    "word_str = 'without,hello,bag,world'\n",
    "result = [x for x in word_str.split(',')]\n",
    "result.sort()\n",
    "print(','.join(result))"
   ]
  },
  {
   "cell_type": "code",
   "execution_count": 45,
   "metadata": {},
   "outputs": [
    {
     "name": "stdout",
     "output_type": "stream",
     "text": [
      "hello world\n",
      "practice makes perfect\n",
      "['hello world', 'practice makes perfect']\n",
      "HELLO WORLD\n",
      "PRACTICE MAKES PERFECT\n"
     ]
    }
   ],
   "source": [
    "#9\n",
    "line = 'hello world\\npractice makes perfect'\n",
    "print(line)\n",
    "print(line.split('\\n'))\n",
    "#lines = ['hello world','practice makes perfect']\n",
    "print('\\n'.join([x.upper() for x in line.split('\\n')]))\n"
   ]
  },
  {
   "cell_type": "code",
   "execution_count": 43,
   "metadata": {},
   "outputs": [
    {
     "data": {
      "text/plain": [
       "'again and hello makes perfect practice world'"
      ]
     },
     "execution_count": 43,
     "metadata": {},
     "output_type": "execute_result"
    }
   ],
   "source": [
    "#10\n",
    "mystring = 'hello world and practice makes perfect and hello world again'\n",
    "my_list = mystring.split()\n",
    "#print(my_list)\n",
    "my_set = set(my_list)\n",
    "#print(my_set)\n",
    "l = list(my_set)\n",
    "l.sort()\n",
    "' '.join(l)\n"
   ]
  },
  {
   "cell_type": "code",
   "execution_count": 42,
   "metadata": {},
   "outputs": [
    {
     "data": {
      "text/plain": [
       "'again and hello makes perfect practice world'"
      ]
     },
     "execution_count": 42,
     "metadata": {},
     "output_type": "execute_result"
    }
   ],
   "source": [
    "#LC\n",
    "mystring = 'hello world and practice makes perfect and hello world again'\n",
    "words = [x for x in mystring.split()]\n",
    "' '.join(sorted(list(set(words))))"
   ]
  },
  {
   "cell_type": "code",
   "execution_count": 54,
   "metadata": {},
   "outputs": [
    {
     "name": "stdout",
     "output_type": "stream",
     "text": [
      "['0100', '0011', '1010', '1001']\n",
      "0100,1010\n"
     ]
    }
   ],
   "source": [
    "#11\n",
    "input_string = '0100,0011,1010,1001'\n",
    "input_list = input_string.split(',')\n",
    "print(input_list)\n",
    "new_list = []\n",
    "for i in input_list:\n",
    "    if int(i) % 5 == 0:\n",
    "        new_list.append(i)\n",
    "print(','.join(new_list))"
   ]
  },
  {
   "cell_type": "code",
   "execution_count": 55,
   "metadata": {},
   "outputs": [
    {
     "name": "stdout",
     "output_type": "stream",
     "text": [
      "['0100', '0011', '1010', '1001']\n"
     ]
    },
    {
     "data": {
      "text/plain": [
       "'0100,1010'"
      ]
     },
     "execution_count": 55,
     "metadata": {},
     "output_type": "execute_result"
    }
   ],
   "source": [
    "#LC\n",
    "input_string = '0100,0011,1010,1001'\n",
    "input_list = input_string.split(',')\n",
    "print(input_list)\n",
    "result = [x for x in input_list if int(x) % 5 == 0]\n",
    "','.join(result)"
   ]
  },
  {
   "cell_type": "code",
   "execution_count": 59,
   "metadata": {},
   "outputs": [
    {
     "name": "stdout",
     "output_type": "stream",
     "text": [
      "2000,2002,2004,2006,2008,2020,2022,2024,2026,2028,2040,2042,2044,2046,2048,2060,2062,2064,2066,2068,2080,2082,2084,2086,2088,2200,2202,2204,2206,2208,2220,2222,2224,2226,2228,2240,2242,2244,2246,2248,2260,2262,2264,2266,2268,2280,2282,2284,2286,2288,2400,2402,2404,2406,2408,2420,2422,2424,2426,2428,2440,2442,2444,2446,2448,2460,2462,2464,2466,2468,2480,2482,2484,2486,2488,2600,2602,2604,2606,2608,2620,2622,2624,2626,2628,2640,2642,2644,2646,2648,2660,2662,2664,2666,2668,2680,2682,2684,2686,2688,2800,2802,2804,2806,2808,2820,2822,2824,2826,2828,2840,2842,2844,2846,2848,2860,2862,2864,2866,2868,2880,2882,2884,2886,2888\n"
     ]
    }
   ],
   "source": [
    "#12\n",
    "result = []\n",
    "for i in range(2000,3001):\n",
    "    s = str(i)\n",
    "    if int(s[0]) % 2 == 0 and int(s[1]) % 2 == 0 and int(s[2]) % 2 == 0 and int(s[3]) % 2 == 0:\n",
    "        result.append(s)\n",
    "print(','.join(result))"
   ]
  },
  {
   "cell_type": "code",
   "execution_count": 69,
   "metadata": {},
   "outputs": [],
   "source": [
    "#12\n",
    "def odd_even(n):\n",
    "    s = str(n)\n",
    "    for i in s:\n",
    "        if int(i) % 2 != 0:\n",
    "            return False\n",
    "    return True     \n",
    "       "
   ]
  },
  {
   "cell_type": "code",
   "execution_count": 70,
   "metadata": {},
   "outputs": [
    {
     "data": {
      "text/plain": [
       "False"
      ]
     },
     "execution_count": 70,
     "metadata": {},
     "output_type": "execute_result"
    }
   ],
   "source": [
    "odd_even(212)"
   ]
  },
  {
   "cell_type": "code",
   "execution_count": 73,
   "metadata": {},
   "outputs": [],
   "source": [
    "def com_odd_even(start,end):\n",
    "    result = []\n",
    "    for i in range(start,end+1):\n",
    "        if odd_even(i):\n",
    "            result.append(str(i))\n",
    "    return ','.join(result)"
   ]
  },
  {
   "cell_type": "code",
   "execution_count": 75,
   "metadata": {},
   "outputs": [
    {
     "data": {
      "text/plain": [
       "'20,22,24,26,28,40,42,44,46,48,60,62,64,66,68,80,82,84,86,88'"
      ]
     },
     "execution_count": 75,
     "metadata": {},
     "output_type": "execute_result"
    }
   ],
   "source": [
    "com_odd_even(10,100)"
   ]
  },
  {
   "cell_type": "code",
   "execution_count": 83,
   "metadata": {},
   "outputs": [],
   "source": [
    "#13\n",
    "def letter_digit(s):\n",
    "    count_letter = 0\n",
    "    count_digit = 0\n",
    "    \n",
    "    for i in s:\n",
    "        if i.isalpha():\n",
    "            count_letter += 1\n",
    "        elif i.isdigit():\n",
    "            count_digit += 1\n",
    "        else:\n",
    "            pass\n",
    "    return (f'LETTERS: {count_letter}\\nDIGITS: {count_digit}')"
   ]
  },
  {
   "cell_type": "code",
   "execution_count": 85,
   "metadata": {},
   "outputs": [
    {
     "name": "stdout",
     "output_type": "stream",
     "text": [
      "LETTERS: 10\n",
      "DIGITS: 3\n"
     ]
    }
   ],
   "source": [
    "print(letter_digit('hello world! 123'))"
   ]
  },
  {
   "cell_type": "code",
   "execution_count": 86,
   "metadata": {},
   "outputs": [],
   "source": [
    "#14\n",
    "def upper_lower(s):\n",
    "    my_dict = {'upper':0, 'lower': 0}\n",
    "    for i in s:\n",
    "        if i.isupper():\n",
    "            my_dict['upper'] += 1\n",
    "        elif i.islower():\n",
    "            my_dict['lower'] += 1\n",
    "        else:\n",
    "            pass\n",
    "    return my_dict"
   ]
  },
  {
   "cell_type": "code",
   "execution_count": 88,
   "metadata": {},
   "outputs": [],
   "source": [
    "new_var = upper_lower('Hello World!')"
   ]
  },
  {
   "cell_type": "code",
   "execution_count": 91,
   "metadata": {},
   "outputs": [
    {
     "name": "stdout",
     "output_type": "stream",
     "text": [
      "UPPER: 2\n",
      "LOWER: 8\n"
     ]
    }
   ],
   "source": [
    "print(f\"UPPER: {new_var['upper']}\\nLOWER: {new_var['lower']}\")"
   ]
  },
  {
   "cell_type": "code",
   "execution_count": 93,
   "metadata": {},
   "outputs": [],
   "source": [
    "#15\n",
    "def add_up(n):\n",
    "    n1 = n\n",
    "    print(n1)\n",
    "    n2 = n1 + (n*10)\n",
    "    print(n2)\n",
    "    n3 = n2 + (n*100)\n",
    "    print(n3)\n",
    "    n4 = n3 + (n*1000) \n",
    "    print(n4)\n",
    "    \n",
    "    return n1+n2+n3+n4    "
   ]
  },
  {
   "cell_type": "code",
   "execution_count": 95,
   "metadata": {},
   "outputs": [
    {
     "name": "stdout",
     "output_type": "stream",
     "text": [
      "9\n",
      "99\n",
      "999\n",
      "9999\n"
     ]
    },
    {
     "data": {
      "text/plain": [
       "11106"
      ]
     },
     "execution_count": 95,
     "metadata": {},
     "output_type": "execute_result"
    }
   ],
   "source": [
    "add_up(9)"
   ]
  },
  {
   "cell_type": "code",
   "execution_count": 99,
   "metadata": {},
   "outputs": [],
   "source": [
    "#16\n",
    "\n",
    "def odd_square(s):\n",
    "    n = s.split(',')\n",
    "    new_list = []\n",
    "    for i in n:\n",
    "        if int(i) % 2 != 0:\n",
    "            new_list.append(str(int(i)**2))\n",
    "    return ','.join(new_list)       \n",
    "            \n",
    "            "
   ]
  },
  {
   "cell_type": "code",
   "execution_count": 100,
   "metadata": {},
   "outputs": [
    {
     "data": {
      "text/plain": [
       "'1,9,25,49,81'"
      ]
     },
     "execution_count": 100,
     "metadata": {},
     "output_type": "execute_result"
    }
   ],
   "source": [
    "odd_square('1,2,3,4,5,6,7,8,9')"
   ]
  },
  {
   "cell_type": "code",
   "execution_count": 102,
   "metadata": {},
   "outputs": [
    {
     "name": "stdout",
     "output_type": "stream",
     "text": [
      "1,9,25,49,81\n"
     ]
    }
   ],
   "source": [
    "#LC\n",
    "n = '1,2,3,4,5,6,7,8,9'\n",
    "result = [str(int(i)**2) for i in n.split(',') if int(i)%2 != 0]\n",
    "print(','.join(result))"
   ]
  },
  {
   "cell_type": "code",
   "execution_count": 107,
   "metadata": {},
   "outputs": [],
   "source": [
    "## even number cubed--> monsur\n",
    "def even_cube(s):\n",
    "    n = s.split(',')\n",
    "    new_list = []\n",
    "    for i in n:\n",
    "        if int(i) % 2 == 0:\n",
    "            new_list.append(str(int(i)**3))\n",
    "    return ','.join(new_list)"
   ]
  },
  {
   "cell_type": "code",
   "execution_count": 108,
   "metadata": {},
   "outputs": [
    {
     "data": {
      "text/plain": [
       "'8,64,216,512'"
      ]
     },
     "execution_count": 108,
     "metadata": {},
     "output_type": "execute_result"
    }
   ],
   "source": [
    "even_cube('1,2,3,4,5,6,7,8,9')"
   ]
  },
  {
   "cell_type": "code",
   "execution_count": 110,
   "metadata": {},
   "outputs": [
    {
     "name": "stdout",
     "output_type": "stream",
     "text": [
      "8,64,216,512\n"
     ]
    }
   ],
   "source": [
    "n = '1,2,3,4,5,6,7,8,9'\n",
    "result = [str(int(i)**3) for i in n.split(',') if int(i) % 2 == 0]\n",
    "print(','.join(result))"
   ]
  },
  {
   "cell_type": "code",
   "execution_count": 111,
   "metadata": {},
   "outputs": [
    {
     "name": "stdout",
     "output_type": "stream",
     "text": [
      "['D 100', 'W 50', 'D 200', ' D  300', ' d 10', ' w 20']\n"
     ]
    }
   ],
   "source": [
    "acc = \"D 100,W 50,D 200, D  300, d 10, w 20\"\n",
    "new_list = acc.split(',')\n",
    "print(new_list)"
   ]
  },
  {
   "cell_type": "code",
   "execution_count": 118,
   "metadata": {},
   "outputs": [
    {
     "name": "stdout",
     "output_type": "stream",
     "text": [
      "[('D', '100'), ('W', '50'), ('D', '200'), ('D', '300'), ('d', '10'), ('w', '20')]\n"
     ]
    }
   ],
   "source": [
    "other_list = []\n",
    "for i in new_list:\n",
    "    other_list.append(tuple(i.split())) \n",
    "print(other_list)"
   ]
  },
  {
   "cell_type": "code",
   "execution_count": 119,
   "metadata": {},
   "outputs": [
    {
     "name": "stdout",
     "output_type": "stream",
     "text": [
      "540\n"
     ]
    }
   ],
   "source": [
    "sum = 0\n",
    "for i in other_list:\n",
    "    if i[0].lower() == 'd':\n",
    "        sum += int(i[1])\n",
    "    elif i[0].lower() == 'w':\n",
    "        sum -= int(i[1])\n",
    "print(sum)"
   ]
  },
  {
   "cell_type": "code",
   "execution_count": 137,
   "metadata": {},
   "outputs": [],
   "source": [
    "#17\n",
    "def bank_account(mystring):\n",
    "    new_list = mystring.split(',')\n",
    "    other_list = []\n",
    "    #this for loop splits data into tuple\n",
    "    for i in new_list:\n",
    "        other_list.append(tuple(i.split()))\n",
    "        \n",
    "    #this loop calculates running sum total using other list\n",
    "    balance = 0\n",
    "    for index,tup in enumerate(other_list):\n",
    "        if len(tup) != 2:\n",
    "            raise Exception(f'Invalid entry found: {tup}, entry number:{index + 1}')\n",
    "        if tup[0].lower() == 'd':\n",
    "            balance += int(tup[1])\n",
    "        elif tup[0].lower() == 'w':\n",
    "            balance -= int(tup[1])\n",
    "        else:\n",
    "            raise Exception(f\"Undefined value found: {tup[0]} in entry number: {index + 1}\")\n",
    "    return balance\n",
    "        "
   ]
  },
  {
   "cell_type": "code",
   "execution_count": 138,
   "metadata": {},
   "outputs": [
    {
     "ename": "Exception",
     "evalue": "Undefined value found: X in entry number: 2",
     "output_type": "error",
     "traceback": [
      "\u001b[1;31m---------------------------------------------------------------------------\u001b[0m",
      "\u001b[1;31mException\u001b[0m                                 Traceback (most recent call last)",
      "\u001b[1;32m<ipython-input-138-fb0735c9e8dd>\u001b[0m in \u001b[0;36m<module>\u001b[1;34m\u001b[0m\n\u001b[1;32m----> 1\u001b[1;33m \u001b[0mbank_account\u001b[0m\u001b[1;33m(\u001b[0m\u001b[1;34m'D 300, X 300, W 200, D 100, D'\u001b[0m\u001b[1;33m)\u001b[0m\u001b[1;33m\u001b[0m\u001b[1;33m\u001b[0m\u001b[0m\n\u001b[0m",
      "\u001b[1;32m<ipython-input-137-567f6a9d11a9>\u001b[0m in \u001b[0;36mbank_account\u001b[1;34m(mystring)\u001b[0m\n\u001b[0;32m     17\u001b[0m             \u001b[0mbalance\u001b[0m \u001b[1;33m-=\u001b[0m \u001b[0mint\u001b[0m\u001b[1;33m(\u001b[0m\u001b[0mtup\u001b[0m\u001b[1;33m[\u001b[0m\u001b[1;36m1\u001b[0m\u001b[1;33m]\u001b[0m\u001b[1;33m)\u001b[0m\u001b[1;33m\u001b[0m\u001b[1;33m\u001b[0m\u001b[0m\n\u001b[0;32m     18\u001b[0m         \u001b[1;32melse\u001b[0m\u001b[1;33m:\u001b[0m\u001b[1;33m\u001b[0m\u001b[1;33m\u001b[0m\u001b[0m\n\u001b[1;32m---> 19\u001b[1;33m             \u001b[1;32mraise\u001b[0m \u001b[0mException\u001b[0m\u001b[1;33m(\u001b[0m\u001b[1;34mf\"Undefined value found: {tup[0]} in entry number: {index + 1}\"\u001b[0m\u001b[1;33m)\u001b[0m\u001b[1;33m\u001b[0m\u001b[1;33m\u001b[0m\u001b[0m\n\u001b[0m\u001b[0;32m     20\u001b[0m     \u001b[1;32mreturn\u001b[0m \u001b[0mbalance\u001b[0m\u001b[1;33m\u001b[0m\u001b[1;33m\u001b[0m\u001b[0m\n\u001b[0;32m     21\u001b[0m \u001b[1;33m\u001b[0m\u001b[0m\n",
      "\u001b[1;31mException\u001b[0m: Undefined value found: X in entry number: 2"
     ]
    }
   ],
   "source": [
    "bank_account('D 300, X 300, W 200, D 100, D')"
   ]
  },
  {
   "cell_type": "code",
   "execution_count": 127,
   "metadata": {},
   "outputs": [
    {
     "name": "stdout",
     "output_type": "stream",
     "text": [
      "['D']\n"
     ]
    }
   ],
   "source": [
    "s = 'D'\n",
    "print(s.split())"
   ]
  },
  {
   "cell_type": "code",
   "execution_count": 142,
   "metadata": {},
   "outputs": [],
   "source": [
    "def get_criteria(s):\n",
    "    d = {\n",
    "            'letter between [a-z]' : False,\n",
    "            'number between [0-9]' : False,\n",
    "        }\n",
    "    \n",
    "    for i in s:\n",
    "        if i.isalpha() and i.islower():\n",
    "            d['letter between [a-z]'] = True\n",
    "        if i.isdigit():\n",
    "            d['number between [0-9]'] = True\n",
    "    return d\n",
    "\n",
    "def check_password(s):\n",
    "    #get the criteria dictionary\n",
    "    criteria = get_criteria(s)\n",
    "    #filter out all unmatched_criteria from the criteria dictionary\n",
    "    unmatched_criteria = []\n",
    "    for key in criteria:\n",
    "        if criteria[key] == False:\n",
    "            unmatched_criteria.append(key)\n",
    "    #print the output"
   ]
  },
  {
   "cell_type": "code",
   "execution_count": 143,
   "metadata": {},
   "outputs": [
    {
     "data": {
      "text/plain": [
       "{'letter between [a-z]': True, 'number between [0-9]': False}"
      ]
     },
     "execution_count": 143,
     "metadata": {},
     "output_type": "execute_result"
    }
   ],
   "source": [
    "password('sabina')"
   ]
  },
  {
   "cell_type": "code",
   "execution_count": 144,
   "metadata": {},
   "outputs": [
    {
     "data": {
      "text/plain": [
       "{'letter between [a-z]': True, 'number between [0-9]': True}"
      ]
     },
     "execution_count": 144,
     "metadata": {},
     "output_type": "execute_result"
    }
   ],
   "source": [
    "password('sab123')"
   ]
  },
  {
   "cell_type": "code",
   "execution_count": null,
   "metadata": {},
   "outputs": [],
   "source": []
  }
 ],
 "metadata": {
  "kernelspec": {
   "display_name": "Python 3",
   "language": "python",
   "name": "python3"
  },
  "language_info": {
   "codemirror_mode": {
    "name": "ipython",
    "version": 3
   },
   "file_extension": ".py",
   "mimetype": "text/x-python",
   "name": "python",
   "nbconvert_exporter": "python",
   "pygments_lexer": "ipython3",
   "version": "3.7.1"
  }
 },
 "nbformat": 4,
 "nbformat_minor": 2
}
