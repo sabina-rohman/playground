{
 "cells": [
  {
   "cell_type": "code",
   "execution_count": 1,
   "metadata": {},
   "outputs": [],
   "source": [
    "def factorial(num):\n",
    "    if num == 0:\n",
    "        return 1\n",
    "    else:\n",
    "        return num * factorial(num -1)"
   ]
  },
  {
   "cell_type": "code",
   "execution_count": 2,
   "metadata": {},
   "outputs": [],
   "source": [
    "def factorial(n):\n",
    "    num = 1\n",
    "    while n >= 1:\n",
    "        num = num * n\n",
    "        n = n-1\n",
    "    return num"
   ]
  },
  {
   "cell_type": "code",
   "execution_count": 25,
   "metadata": {},
   "outputs": [],
   "source": [
    "#2\n",
    "def fact(n):\n",
    "    result = 1\n",
    "    for i in range(1,n+1):\n",
    "        result = result*i\n",
    "    return result"
   ]
  },
  {
   "cell_type": "code",
   "execution_count": 31,
   "metadata": {},
   "outputs": [
    {
     "data": {
      "text/plain": [
       "120"
      ]
     },
     "execution_count": 31,
     "metadata": {},
     "output_type": "execute_result"
    }
   ],
   "source": [
    "fact(5)"
   ]
  },
  {
   "cell_type": "code",
   "execution_count": 16,
   "metadata": {},
   "outputs": [],
   "source": [
    "#3\n",
    "def div_mul(start,end):\n",
    "    new_list = []\n",
    "    for i in range(start,end+1):\n",
    "        if i % 7 == 0 and i % 5 != 0:\n",
    "            new_list.append(str(i))\n",
    "    return ','.join(new_list)"
   ]
  },
  {
   "cell_type": "code",
   "execution_count": 19,
   "metadata": {},
   "outputs": [
    {
     "data": {
      "text/plain": [
       "'14'"
      ]
     },
     "execution_count": 19,
     "metadata": {},
     "output_type": "execute_result"
    }
   ],
   "source": [
    "div_mul(10,20)"
   ]
  },
  {
   "cell_type": "code",
   "execution_count": 20,
   "metadata": {},
   "outputs": [],
   "source": [
    "def div_mul_lc(start,end):\n",
    "    new_list = [str(i) for i in range(start,end+1) if i%7 == 0 and i%5 != 0]\n",
    "    return ','.join(new_list)"
   ]
  },
  {
   "cell_type": "code",
   "execution_count": 21,
   "metadata": {},
   "outputs": [
    {
     "data": {
      "text/plain": [
       "'14,21,28'"
      ]
     },
     "execution_count": 21,
     "metadata": {},
     "output_type": "execute_result"
    }
   ],
   "source": [
    "div_mul_lc(10,30)"
   ]
  },
  {
   "cell_type": "code",
   "execution_count": 22,
   "metadata": {},
   "outputs": [],
   "source": [
    "#4\n",
    "def dicty_square(n):\n",
    "    new_dict = {}\n",
    "    for i in range(1,n+1):\n",
    "        new_dict[i] = i*i\n",
    "    return new_dict"
   ]
  },
  {
   "cell_type": "code",
   "execution_count": 23,
   "metadata": {},
   "outputs": [
    {
     "data": {
      "text/plain": [
       "{1: 1, 2: 4, 3: 9, 4: 16, 5: 25, 6: 36, 7: 49, 8: 64, 9: 81, 10: 100}"
      ]
     },
     "execution_count": 23,
     "metadata": {},
     "output_type": "execute_result"
    }
   ],
   "source": [
    "dicty_square(10)"
   ]
  },
  {
   "cell_type": "code",
   "execution_count": 24,
   "metadata": {},
   "outputs": [
    {
     "data": {
      "text/plain": [
       "{1: 1, 2: 4, 3: 9, 4: 16, 5: 25, 6: 36, 7: 49, 8: 64, 9: 81, 10: 100}"
      ]
     },
     "execution_count": 24,
     "metadata": {},
     "output_type": "execute_result"
    }
   ],
   "source": [
    "{i:i*i for i in range(1,11)}"
   ]
  },
  {
   "cell_type": "code",
   "execution_count": 32,
   "metadata": {},
   "outputs": [
    {
     "data": {
      "text/plain": [
       "['34', '67', '55', '33', '12', '98']"
      ]
     },
     "execution_count": 32,
     "metadata": {},
     "output_type": "execute_result"
    }
   ],
   "source": [
    "#5\n",
    "d = '34,67,55,33,12,98'\n",
    "d.split(',')"
   ]
  },
  {
   "cell_type": "code",
   "execution_count": 30,
   "metadata": {},
   "outputs": [
    {
     "data": {
      "text/plain": [
       "('34', '67', '55', '33', '12', '98')"
      ]
     },
     "execution_count": 30,
     "metadata": {},
     "output_type": "execute_result"
    }
   ],
   "source": [
    "tuple(c)"
   ]
  },
  {
   "cell_type": "code",
   "execution_count": 6,
   "metadata": {},
   "outputs": [
    {
     "name": "stdout",
     "output_type": "stream",
     "text": [
      "18,22,24\n"
     ]
    }
   ],
   "source": [
    "#6\n",
    "import math\n",
    "d_list = [100,150,180]\n",
    "c = 50\n",
    "h = 30\n",
    "result = [str(round(math.sqrt(2* c * d/h))) for d in d_list]\n",
    "print(','.join(result))    "
   ]
  },
  {
   "cell_type": "code",
   "execution_count": 11,
   "metadata": {},
   "outputs": [
    {
     "name": "stdout",
     "output_type": "stream",
     "text": [
      "[[1, 2, 3, 4], [2, 4, 6, 8], [3, 6, 9, 12]]\n"
     ]
    }
   ],
   "source": [
    "#7 and one class problem in pycharm\n",
    "X = 3\n",
    "Y = 4\n",
    "x_result = []\n",
    "for i in range(1,X+1):\n",
    "    y_result = []\n",
    "    for j in range(1,Y+1):\n",
    "        y_result.append(i*j)\n",
    "    x_result.append(y_result)\n",
    "print(x_result)\n",
    "    "
   ]
  },
  {
   "cell_type": "code",
   "execution_count": 15,
   "metadata": {},
   "outputs": [
    {
     "name": "stdout",
     "output_type": "stream",
     "text": [
      "bag,hello,without,world\n"
     ]
    }
   ],
   "source": [
    "#8\n",
    "word_str = 'without,hello,bag,world'\n",
    "result = [x for x in word_str.split(',')]\n",
    "result.sort()\n",
    "print(','.join(result))"
   ]
  },
  {
   "cell_type": "code",
   "execution_count": 45,
   "metadata": {},
   "outputs": [
    {
     "name": "stdout",
     "output_type": "stream",
     "text": [
      "hello world\n",
      "practice makes perfect\n",
      "['hello world', 'practice makes perfect']\n",
      "HELLO WORLD\n",
      "PRACTICE MAKES PERFECT\n"
     ]
    }
   ],
   "source": [
    "#9\n",
    "line = 'hello world\\npractice makes perfect'\n",
    "print(line)\n",
    "print(line.split('\\n'))\n",
    "#lines = ['hello world','practice makes perfect']\n",
    "print('\\n'.join([x.upper() for x in line.split('\\n')]))\n"
   ]
  },
  {
   "cell_type": "code",
   "execution_count": 43,
   "metadata": {},
   "outputs": [
    {
     "data": {
      "text/plain": [
       "'again and hello makes perfect practice world'"
      ]
     },
     "execution_count": 43,
     "metadata": {},
     "output_type": "execute_result"
    }
   ],
   "source": [
    "#10\n",
    "mystring = 'hello world and practice makes perfect and hello world again'\n",
    "my_list = mystring.split()\n",
    "#print(my_list)\n",
    "my_set = set(my_list)\n",
    "#print(my_set)\n",
    "l = list(my_set)\n",
    "l.sort()\n",
    "' '.join(l)\n"
   ]
  },
  {
   "cell_type": "code",
   "execution_count": 42,
   "metadata": {},
   "outputs": [
    {
     "data": {
      "text/plain": [
       "'again and hello makes perfect practice world'"
      ]
     },
     "execution_count": 42,
     "metadata": {},
     "output_type": "execute_result"
    }
   ],
   "source": [
    "#LC\n",
    "mystring = 'hello world and practice makes perfect and hello world again'\n",
    "words = [x for x in mystring.split()]\n",
    "' '.join(sorted(list(set(words))))"
   ]
  },
  {
   "cell_type": "code",
   "execution_count": 54,
   "metadata": {},
   "outputs": [
    {
     "name": "stdout",
     "output_type": "stream",
     "text": [
      "['0100', '0011', '1010', '1001']\n",
      "0100,1010\n"
     ]
    }
   ],
   "source": [
    "#11\n",
    "input_string = '0100,0011,1010,1001'\n",
    "input_list = input_string.split(',')\n",
    "print(input_list)\n",
    "new_list = []\n",
    "for i in input_list:\n",
    "    if int(i) % 5 == 0:\n",
    "        new_list.append(i)\n",
    "print(','.join(new_list))"
   ]
  },
  {
   "cell_type": "code",
   "execution_count": 55,
   "metadata": {},
   "outputs": [
    {
     "name": "stdout",
     "output_type": "stream",
     "text": [
      "['0100', '0011', '1010', '1001']\n"
     ]
    },
    {
     "data": {
      "text/plain": [
       "'0100,1010'"
      ]
     },
     "execution_count": 55,
     "metadata": {},
     "output_type": "execute_result"
    }
   ],
   "source": [
    "#LC\n",
    "input_string = '0100,0011,1010,1001'\n",
    "input_list = input_string.split(',')\n",
    "print(input_list)\n",
    "result = [x for x in input_list if int(x) % 5 == 0]\n",
    "','.join(result)"
   ]
  },
  {
   "cell_type": "code",
   "execution_count": 59,
   "metadata": {},
   "outputs": [
    {
     "name": "stdout",
     "output_type": "stream",
     "text": [
      "2000,2002,2004,2006,2008,2020,2022,2024,2026,2028,2040,2042,2044,2046,2048,2060,2062,2064,2066,2068,2080,2082,2084,2086,2088,2200,2202,2204,2206,2208,2220,2222,2224,2226,2228,2240,2242,2244,2246,2248,2260,2262,2264,2266,2268,2280,2282,2284,2286,2288,2400,2402,2404,2406,2408,2420,2422,2424,2426,2428,2440,2442,2444,2446,2448,2460,2462,2464,2466,2468,2480,2482,2484,2486,2488,2600,2602,2604,2606,2608,2620,2622,2624,2626,2628,2640,2642,2644,2646,2648,2660,2662,2664,2666,2668,2680,2682,2684,2686,2688,2800,2802,2804,2806,2808,2820,2822,2824,2826,2828,2840,2842,2844,2846,2848,2860,2862,2864,2866,2868,2880,2882,2884,2886,2888\n"
     ]
    }
   ],
   "source": [
    "#12\n",
    "result = []\n",
    "for i in range(2000,3001):\n",
    "    s = str(i)\n",
    "    if int(s[0]) % 2 == 0 and int(s[1]) % 2 == 0 and int(s[2]) % 2 == 0 and int(s[3]) % 2 == 0:\n",
    "        result.append(s)\n",
    "print(','.join(result))"
   ]
  },
  {
   "cell_type": "code",
   "execution_count": 69,
   "metadata": {},
   "outputs": [],
   "source": [
    "#12\n",
    "def odd_even(n):\n",
    "    s = str(n)\n",
    "    for i in s:\n",
    "        if int(i) % 2 != 0:\n",
    "            return False\n",
    "    return True     \n",
    "       "
   ]
  },
  {
   "cell_type": "code",
   "execution_count": 70,
   "metadata": {},
   "outputs": [
    {
     "data": {
      "text/plain": [
       "False"
      ]
     },
     "execution_count": 70,
     "metadata": {},
     "output_type": "execute_result"
    }
   ],
   "source": [
    "odd_even(212)"
   ]
  },
  {
   "cell_type": "code",
   "execution_count": 73,
   "metadata": {},
   "outputs": [],
   "source": [
    "def com_odd_even(start,end):\n",
    "    result = []\n",
    "    for i in range(start,end+1):\n",
    "        if odd_even(i):\n",
    "            result.append(str(i))\n",
    "    return ','.join(result)"
   ]
  },
  {
   "cell_type": "code",
   "execution_count": 75,
   "metadata": {},
   "outputs": [
    {
     "data": {
      "text/plain": [
       "'20,22,24,26,28,40,42,44,46,48,60,62,64,66,68,80,82,84,86,88'"
      ]
     },
     "execution_count": 75,
     "metadata": {},
     "output_type": "execute_result"
    }
   ],
   "source": [
    "com_odd_even(10,100)"
   ]
  },
  {
   "cell_type": "code",
   "execution_count": 83,
   "metadata": {},
   "outputs": [],
   "source": [
    "#13\n",
    "def letter_digit(s):\n",
    "    count_letter = 0\n",
    "    count_digit = 0\n",
    "    \n",
    "    for i in s:\n",
    "        if i.isalpha():\n",
    "            count_letter += 1\n",
    "        elif i.isdigit():\n",
    "            count_digit += 1\n",
    "        else:\n",
    "            pass\n",
    "    return (f'LETTERS: {count_letter}\\nDIGITS: {count_digit}')"
   ]
  },
  {
   "cell_type": "code",
   "execution_count": 85,
   "metadata": {},
   "outputs": [
    {
     "name": "stdout",
     "output_type": "stream",
     "text": [
      "LETTERS: 10\n",
      "DIGITS: 3\n"
     ]
    }
   ],
   "source": [
    "print(letter_digit('hello world! 123'))"
   ]
  },
  {
   "cell_type": "code",
   "execution_count": 86,
   "metadata": {},
   "outputs": [],
   "source": [
    "#14\n",
    "def upper_lower(s):\n",
    "    my_dict = {'upper':0, 'lower': 0}\n",
    "    for i in s:\n",
    "        if i.isupper():\n",
    "            my_dict['upper'] += 1\n",
    "        elif i.islower():\n",
    "            my_dict['lower'] += 1\n",
    "        else:\n",
    "            pass\n",
    "    return my_dict"
   ]
  },
  {
   "cell_type": "code",
   "execution_count": 88,
   "metadata": {},
   "outputs": [],
   "source": [
    "new_var = upper_lower('Hello World!')"
   ]
  },
  {
   "cell_type": "code",
   "execution_count": 91,
   "metadata": {},
   "outputs": [
    {
     "name": "stdout",
     "output_type": "stream",
     "text": [
      "UPPER: 2\n",
      "LOWER: 8\n"
     ]
    }
   ],
   "source": [
    "print(f\"UPPER: {new_var['upper']}\\nLOWER: {new_var['lower']}\")"
   ]
  },
  {
   "cell_type": "code",
   "execution_count": 93,
   "metadata": {},
   "outputs": [],
   "source": [
    "#15\n",
    "def add_up(n):\n",
    "    n1 = n\n",
    "    print(n1)\n",
    "    n2 = n1 + (n*10)\n",
    "    print(n2)\n",
    "    n3 = n2 + (n*100)\n",
    "    print(n3)\n",
    "    n4 = n3 + (n*1000) \n",
    "    print(n4)\n",
    "    \n",
    "    return n1+n2+n3+n4    "
   ]
  },
  {
   "cell_type": "code",
   "execution_count": 95,
   "metadata": {},
   "outputs": [
    {
     "name": "stdout",
     "output_type": "stream",
     "text": [
      "9\n",
      "99\n",
      "999\n",
      "9999\n"
     ]
    },
    {
     "data": {
      "text/plain": [
       "11106"
      ]
     },
     "execution_count": 95,
     "metadata": {},
     "output_type": "execute_result"
    }
   ],
   "source": [
    "add_up(9)"
   ]
  },
  {
   "cell_type": "code",
   "execution_count": 99,
   "metadata": {},
   "outputs": [],
   "source": [
    "#16\n",
    "\n",
    "def odd_square(s):\n",
    "    n = s.split(',')\n",
    "    new_list = []\n",
    "    for i in n:\n",
    "        if int(i) % 2 != 0:\n",
    "            new_list.append(str(int(i)**2))\n",
    "    return ','.join(new_list)       \n",
    "            \n",
    "            "
   ]
  },
  {
   "cell_type": "code",
   "execution_count": 100,
   "metadata": {},
   "outputs": [
    {
     "data": {
      "text/plain": [
       "'1,9,25,49,81'"
      ]
     },
     "execution_count": 100,
     "metadata": {},
     "output_type": "execute_result"
    }
   ],
   "source": [
    "odd_square('1,2,3,4,5,6,7,8,9')"
   ]
  },
  {
   "cell_type": "code",
   "execution_count": 102,
   "metadata": {},
   "outputs": [
    {
     "name": "stdout",
     "output_type": "stream",
     "text": [
      "1,9,25,49,81\n"
     ]
    }
   ],
   "source": [
    "#LC\n",
    "n = '1,2,3,4,5,6,7,8,9'\n",
    "result = [str(int(i)**2) for i in n.split(',') if int(i)%2 != 0]\n",
    "print(','.join(result))"
   ]
  },
  {
   "cell_type": "code",
   "execution_count": 107,
   "metadata": {},
   "outputs": [],
   "source": [
    "## even number cubed--> monsur\n",
    "def even_cube(s):\n",
    "    n = s.split(',')\n",
    "    new_list = []\n",
    "    for i in n:\n",
    "        if int(i) % 2 == 0:\n",
    "            new_list.append(str(int(i)**3))\n",
    "    return ','.join(new_list)"
   ]
  },
  {
   "cell_type": "code",
   "execution_count": 108,
   "metadata": {},
   "outputs": [
    {
     "data": {
      "text/plain": [
       "'8,64,216,512'"
      ]
     },
     "execution_count": 108,
     "metadata": {},
     "output_type": "execute_result"
    }
   ],
   "source": [
    "even_cube('1,2,3,4,5,6,7,8,9')"
   ]
  },
  {
   "cell_type": "code",
   "execution_count": 110,
   "metadata": {},
   "outputs": [
    {
     "name": "stdout",
     "output_type": "stream",
     "text": [
      "8,64,216,512\n"
     ]
    }
   ],
   "source": [
    "n = '1,2,3,4,5,6,7,8,9'\n",
    "result = [str(int(i)**3) for i in n.split(',') if int(i) % 2 == 0]\n",
    "print(','.join(result))"
   ]
  },
  {
   "cell_type": "code",
   "execution_count": 111,
   "metadata": {},
   "outputs": [
    {
     "name": "stdout",
     "output_type": "stream",
     "text": [
      "['D 100', 'W 50', 'D 200', ' D  300', ' d 10', ' w 20']\n"
     ]
    }
   ],
   "source": [
    "acc = \"D 100,W 50,D 200, D  300, d 10, w 20\"\n",
    "new_list = acc.split(',')\n",
    "print(new_list)"
   ]
  },
  {
   "cell_type": "code",
   "execution_count": 118,
   "metadata": {},
   "outputs": [
    {
     "name": "stdout",
     "output_type": "stream",
     "text": [
      "[('D', '100'), ('W', '50'), ('D', '200'), ('D', '300'), ('d', '10'), ('w', '20')]\n"
     ]
    }
   ],
   "source": [
    "other_list = []\n",
    "for i in new_list:\n",
    "    other_list.append(tuple(i.split())) \n",
    "print(other_list)"
   ]
  },
  {
   "cell_type": "code",
   "execution_count": 119,
   "metadata": {},
   "outputs": [
    {
     "name": "stdout",
     "output_type": "stream",
     "text": [
      "540\n"
     ]
    }
   ],
   "source": [
    "sum = 0\n",
    "for i in other_list:\n",
    "    if i[0].lower() == 'd':\n",
    "        sum += int(i[1])\n",
    "    elif i[0].lower() == 'w':\n",
    "        sum -= int(i[1])\n",
    "print(sum)"
   ]
  },
  {
   "cell_type": "code",
   "execution_count": 137,
   "metadata": {},
   "outputs": [],
   "source": [
    "#17\n",
    "def bank_account(mystring):\n",
    "    new_list = mystring.split(',')\n",
    "    other_list = []\n",
    "    #this for loop splits data into tuple\n",
    "    for i in new_list:\n",
    "        other_list.append(tuple(i.split()))\n",
    "        \n",
    "    #this loop calculates running sum total using other list\n",
    "    balance = 0\n",
    "    for index,tup in enumerate(other_list):\n",
    "        if len(tup) != 2:\n",
    "            raise Exception(f'Invalid entry found: {tup}, entry number:{index + 1}')\n",
    "        if tup[0].lower() == 'd':\n",
    "            balance += int(tup[1])\n",
    "        elif tup[0].lower() == 'w':\n",
    "            balance -= int(tup[1])\n",
    "        else:\n",
    "            raise Exception(f\"Undefined value found: {tup[0]} in entry number: {index + 1}\")\n",
    "    return balance\n",
    "        "
   ]
  },
  {
   "cell_type": "code",
   "execution_count": 138,
   "metadata": {},
   "outputs": [
    {
     "ename": "Exception",
     "evalue": "Undefined value found: X in entry number: 2",
     "output_type": "error",
     "traceback": [
      "\u001b[1;31m---------------------------------------------------------------------------\u001b[0m",
      "\u001b[1;31mException\u001b[0m                                 Traceback (most recent call last)",
      "\u001b[1;32m<ipython-input-138-fb0735c9e8dd>\u001b[0m in \u001b[0;36m<module>\u001b[1;34m\u001b[0m\n\u001b[1;32m----> 1\u001b[1;33m \u001b[0mbank_account\u001b[0m\u001b[1;33m(\u001b[0m\u001b[1;34m'D 300, X 300, W 200, D 100, D'\u001b[0m\u001b[1;33m)\u001b[0m\u001b[1;33m\u001b[0m\u001b[1;33m\u001b[0m\u001b[0m\n\u001b[0m",
      "\u001b[1;32m<ipython-input-137-567f6a9d11a9>\u001b[0m in \u001b[0;36mbank_account\u001b[1;34m(mystring)\u001b[0m\n\u001b[0;32m     17\u001b[0m             \u001b[0mbalance\u001b[0m \u001b[1;33m-=\u001b[0m \u001b[0mint\u001b[0m\u001b[1;33m(\u001b[0m\u001b[0mtup\u001b[0m\u001b[1;33m[\u001b[0m\u001b[1;36m1\u001b[0m\u001b[1;33m]\u001b[0m\u001b[1;33m)\u001b[0m\u001b[1;33m\u001b[0m\u001b[1;33m\u001b[0m\u001b[0m\n\u001b[0;32m     18\u001b[0m         \u001b[1;32melse\u001b[0m\u001b[1;33m:\u001b[0m\u001b[1;33m\u001b[0m\u001b[1;33m\u001b[0m\u001b[0m\n\u001b[1;32m---> 19\u001b[1;33m             \u001b[1;32mraise\u001b[0m \u001b[0mException\u001b[0m\u001b[1;33m(\u001b[0m\u001b[1;34mf\"Undefined value found: {tup[0]} in entry number: {index + 1}\"\u001b[0m\u001b[1;33m)\u001b[0m\u001b[1;33m\u001b[0m\u001b[1;33m\u001b[0m\u001b[0m\n\u001b[0m\u001b[0;32m     20\u001b[0m     \u001b[1;32mreturn\u001b[0m \u001b[0mbalance\u001b[0m\u001b[1;33m\u001b[0m\u001b[1;33m\u001b[0m\u001b[0m\n\u001b[0;32m     21\u001b[0m \u001b[1;33m\u001b[0m\u001b[0m\n",
      "\u001b[1;31mException\u001b[0m: Undefined value found: X in entry number: 2"
     ]
    }
   ],
   "source": [
    "bank_account('D 300, X 300, W 200, D 100, D')"
   ]
  },
  {
   "cell_type": "code",
   "execution_count": 127,
   "metadata": {},
   "outputs": [
    {
     "name": "stdout",
     "output_type": "stream",
     "text": [
      "['D']\n"
     ]
    }
   ],
   "source": [
    "s = 'D'\n",
    "print(s.split())"
   ]
  },
  {
   "cell_type": "code",
   "execution_count": 163,
   "metadata": {},
   "outputs": [],
   "source": [
    "#18\n",
    "def get_criteria(s):\n",
    "    d = {\n",
    "            'letter between [a-z]' : False,\n",
    "            'number between [0-9]' : False,\n",
    "            'letter between [A-Z]' : False,\n",
    "            'character from [$#@]' : False,\n",
    "            'minimum length'    : False,\n",
    "            'maximum length'    : False\n",
    "        }\n",
    "    \n",
    "    for i in s:\n",
    "        if i.isalpha() and i.islower():\n",
    "            d['letter between [a-z]'] = True\n",
    "        if i.isdigit():\n",
    "            d['number between [0-9]'] = True\n",
    "        if i.isalpha() and i.isupper():\n",
    "            d['letter between [A-Z]'] = True\n",
    "        if i in '$#@':\n",
    "            d['character from [$#@]'] = True\n",
    "        if len(s) >= 6:\n",
    "            d['minimum length'] = True\n",
    "        if len(s) <= 12:\n",
    "            d['maximum length'] = True\n",
    "            \n",
    "    return d\n",
    "\n",
    "def check_password(s):\n",
    "    #get the criteria dictionary\n",
    "    criteria = get_criteria(s)\n",
    "    #filter out all unmatched_criteria from the criteria dictionary\n",
    "    unmatched_criteria = []\n",
    "    for key in criteria:\n",
    "        if criteria[key] == False:\n",
    "            unmatched_criteria.append(key)\n",
    "    #print the output\n",
    "    if len(unmatched_criteria) == 0:\n",
    "        print('Good password')\n",
    "    else:\n",
    "        print('Bad password: reason : ')\n",
    "        print('\\n'.join(unmatched_criteria))"
   ]
  },
  {
   "cell_type": "code",
   "execution_count": 164,
   "metadata": {},
   "outputs": [
    {
     "name": "stdout",
     "output_type": "stream",
     "text": [
      "Bad password: reason : \n",
      "letter between [a-z]\n",
      "letter between [A-Z]\n",
      "character from [$#@]\n",
      "minimum length\n"
     ]
    }
   ],
   "source": [
    "check_password('123')"
   ]
  },
  {
   "cell_type": "code",
   "execution_count": 166,
   "metadata": {},
   "outputs": [
    {
     "name": "stdout",
     "output_type": "stream",
     "text": [
      "Bad password: reason : \n",
      "letter between [A-Z]\n",
      "character from [$#@]\n"
     ]
    }
   ],
   "source": [
    "check_password('sab123')"
   ]
  },
  {
   "cell_type": "code",
   "execution_count": 167,
   "metadata": {},
   "outputs": [
    {
     "name": "stdout",
     "output_type": "stream",
     "text": [
      "Good password\n"
     ]
    }
   ],
   "source": [
    "check_password('sab123V@')"
   ]
  },
  {
   "cell_type": "code",
   "execution_count": 168,
   "metadata": {},
   "outputs": [
    {
     "name": "stdout",
     "output_type": "stream",
     "text": [
      "Bad password: reason : \n",
      "maximum length\n"
     ]
    }
   ],
   "source": [
    "check_password('sab123V@bnmrte')"
   ]
  },
  {
   "cell_type": "code",
   "execution_count": 169,
   "metadata": {},
   "outputs": [
    {
     "name": "stdout",
     "output_type": "stream",
     "text": [
      "Bad password: reason : \n",
      "letter between [a-z]\n",
      "number between [0-9]\n",
      "letter between [A-Z]\n",
      "character from [$#@]\n",
      "minimum length\n"
     ]
    }
   ],
   "source": [
    "check_password(' ')"
   ]
  },
  {
   "cell_type": "code",
   "execution_count": 1,
   "metadata": {},
   "outputs": [
    {
     "name": "stdout",
     "output_type": "stream",
     "text": [
      "[('Tom', 19, 80), ('John', 20, 90), ('Jony', 17, 91), ('Jony', 17, 93), ('Json', 21, 85)]\n"
     ]
    }
   ],
   "source": [
    "#19 Level 3\n",
    "t = [('Tom',19,80),('John',20,90),('Jony',17,91),('Jony',17,93),('Json',21,85)]\n",
    "print(t)"
   ]
  },
  {
   "cell_type": "code",
   "execution_count": 5,
   "metadata": {},
   "outputs": [
    {
     "data": {
      "text/plain": [
       "[('Tom', 19, 80),\n",
       " ('Json', 21, 85),\n",
       " ('John', 20, 90),\n",
       " ('Jony', 17, 91),\n",
       " ('Jony', 17, 93)]"
      ]
     },
     "execution_count": 5,
     "metadata": {},
     "output_type": "execute_result"
    }
   ],
   "source": [
    "from operator import itemgetter, attrgetter\n",
    "\n",
    "sorted(t, key = itemgetter(2,1,0))"
   ]
  },
  {
   "cell_type": "code",
   "execution_count": 10,
   "metadata": {},
   "outputs": [
    {
     "name": "stdout",
     "output_type": "stream",
     "text": [
      "Entered generator\n",
      "I am inside while loop: 1\n",
      "1\n",
      "I am inside while loop: 2\n",
      "4\n",
      "I am inside while loop: 3\n",
      "9\n",
      "I am inside while loop: 4\n",
      "16\n",
      "I am inside while loop: 5\n",
      "25\n",
      "I am inside while loop: 6\n",
      "36\n",
      "I am inside while loop: 7\n",
      "49\n",
      "I am inside while loop: 8\n",
      "64\n",
      "I am inside while loop: 9\n",
      "81\n",
      "I am inside while loop: 10\n",
      "100\n"
     ]
    }
   ],
   "source": [
    "#20\n",
    "def square(n):\n",
    "    print('Entered generator')\n",
    "    i = 1\n",
    "    while i <= n:\n",
    "        print(\"I am inside while loop: \" + str(i))\n",
    "        sq = i*i\n",
    "        i = i + 1\n",
    "        yield sq\n",
    "        \n",
    "for i in square(10):\n",
    "    print(i)\n",
    "    "
   ]
  },
  {
   "cell_type": "code",
   "execution_count": 13,
   "metadata": {},
   "outputs": [],
   "source": [
    "def square_return(n):\n",
    "    print('Entered generator')\n",
    "    i = 1\n",
    "    while i <= n:\n",
    "        print(\"I am inside while loop: \" + str(i))\n",
    "        sq = i*i\n",
    "        i = i + 1\n",
    "        yield sq"
   ]
  },
  {
   "cell_type": "code",
   "execution_count": 15,
   "metadata": {},
   "outputs": [
    {
     "name": "stdout",
     "output_type": "stream",
     "text": [
      "Entered generator\n",
      "I am inside while loop: 1\n",
      "I am inside while loop: 2\n",
      "I am inside while loop: 3\n",
      "I am inside while loop: 4\n",
      "I am inside while loop: 5\n",
      "I am inside while loop: 6\n",
      "I am inside while loop: 7\n",
      "I am inside while loop: 8\n",
      "I am inside while loop: 9\n",
      "I am inside while loop: 10\n"
     ]
    },
    {
     "data": {
      "text/plain": [
       "[1, 4, 9, 16, 25, 36, 49, 64, 81, 100]"
      ]
     },
     "execution_count": 15,
     "metadata": {},
     "output_type": "execute_result"
    }
   ],
   "source": [
    "list(square_return(10))"
   ]
  },
  {
   "cell_type": "code",
   "execution_count": 22,
   "metadata": {},
   "outputs": [],
   "source": [
    "#20 gen_comp- can use for loop but have to yield\n",
    "def gen7(n):\n",
    "    gen_comp = (i for i in range(1,n+1) if i % 7 == 0)\n",
    "    return gen_comp\n",
    "       \n",
    "        "
   ]
  },
  {
   "cell_type": "code",
   "execution_count": 23,
   "metadata": {},
   "outputs": [
    {
     "data": {
      "text/plain": [
       "[7, 14, 21, 28, 35, 42, 49, 56, 63, 70, 77, 84, 91, 98]"
      ]
     },
     "execution_count": 23,
     "metadata": {},
     "output_type": "execute_result"
    }
   ],
   "source": [
    "list(gen7(100))"
   ]
  },
  {
   "cell_type": "code",
   "execution_count": 37,
   "metadata": {},
   "outputs": [
    {
     "name": "stdout",
     "output_type": "stream",
     "text": [
      "(-1, 2)\n"
     ]
    },
    {
     "data": {
      "text/plain": [
       "2.236"
      ]
     },
     "execution_count": 37,
     "metadata": {},
     "output_type": "execute_result"
    }
   ],
   "source": [
    "#21\n",
    "\n",
    "robot_steps = [('u', 5), ('d', 3), ('l',3), ('r', 2)]\n",
    "current_position = [0,0]\n",
    "for i in robot_steps:\n",
    "    direction = i[0]\n",
    "    steps = i[1]\n",
    "    if direction == 'u':\n",
    "        current_position[1] += steps\n",
    "    if direction == 'd':\n",
    "        current_position[1] -= steps\n",
    "    if direction == 'l':\n",
    "        current_position[0] -= steps\n",
    "    if direction == 'r':\n",
    "        current_position[0] += steps\n",
    "        \n",
    "print(tuple(current_position))\n",
    " # dist = ((x2 - x1) **2 + (y2 - y1) **2)** 0.5\n",
    "    #x1 = 0 and y1 = 0\n",
    "dist = round(((current_position[0])**2 + (current_position[1])**2)**0.5,3)\n",
    "dist\n",
    "        "
   ]
  },
  {
   "cell_type": "code",
   "execution_count": 47,
   "metadata": {},
   "outputs": [
    {
     "name": "stdout",
     "output_type": "stream",
     "text": [
      "\"Hello World\"! How are you?\n"
     ]
    }
   ],
   "source": [
    "s =\"Hello World\"\n",
    "s\n",
    "t = \"\\\"\" + s +\"\\\"\" + \"! How are you?\"\n",
    "print(t)"
   ]
  },
  {
   "cell_type": "code",
   "execution_count": 48,
   "metadata": {},
   "outputs": [],
   "source": [
    "s = \"New to Python or choosing between Python 2 and Python 3? Read Python 2 or Python 3.\""
   ]
  },
  {
   "cell_type": "code",
   "execution_count": 50,
   "metadata": {},
   "outputs": [
    {
     "name": "stdout",
     "output_type": "stream",
     "text": [
      "{'New': 1, 'to': 1, 'Python': 5, 'or': 2, 'choosing': 1, 'between': 1, '2': 2, 'and': 1, '3?': 1, 'Read': 1, '3.': 1}\n"
     ]
    }
   ],
   "source": [
    "#22\n",
    "new_list = s.split()\n",
    "new_list\n",
    "my_dict = {}\n",
    "for word in new_list:\n",
    "    if word not in my_dict:\n",
    "        my_dict[word] = 1\n",
    "    else:\n",
    "        my_dict[word] += 1\n",
    "print(my_dict)"
   ]
  },
  {
   "cell_type": "code",
   "execution_count": 52,
   "metadata": {},
   "outputs": [],
   "source": [
    "sorted_words = sorted(list(my_dict))"
   ]
  },
  {
   "cell_type": "code",
   "execution_count": 53,
   "metadata": {},
   "outputs": [
    {
     "name": "stdout",
     "output_type": "stream",
     "text": [
      "2: 2\n",
      "3.: 1\n",
      "3?: 1\n",
      "New: 1\n",
      "Python: 5\n",
      "Read: 1\n",
      "and: 1\n",
      "between: 1\n",
      "choosing: 1\n",
      "or: 2\n",
      "to: 1\n"
     ]
    }
   ],
   "source": [
    "for word in sorted_words:\n",
    "    print(f\"{word}: {my_dict[word]}\")"
   ]
  },
  {
   "cell_type": "code",
   "execution_count": 67,
   "metadata": {},
   "outputs": [],
   "source": [
    "#23\n",
    "def square(n):\n",
    "    \"\"\"\n",
    "     Returns square of the number\n",
    "    \"\"\"\n",
    "    return n**2"
   ]
  },
  {
   "cell_type": "code",
   "execution_count": 63,
   "metadata": {},
   "outputs": [
    {
     "data": {
      "text/plain": [
       "16"
      ]
     },
     "execution_count": 63,
     "metadata": {},
     "output_type": "execute_result"
    }
   ],
   "source": [
    "square(4)"
   ]
  },
  {
   "cell_type": "code",
   "execution_count": 64,
   "metadata": {},
   "outputs": [
    {
     "name": "stdout",
     "output_type": "stream",
     "text": [
      "Return the absolute value of the argument.\n"
     ]
    }
   ],
   "source": [
    "#24\n",
    "print(abs.__doc__)"
   ]
  },
  {
   "cell_type": "code",
   "execution_count": 65,
   "metadata": {},
   "outputs": [
    {
     "name": "stdout",
     "output_type": "stream",
     "text": [
      "Return the number of items in a container.\n",
      "Forward raw_input to frontends\n",
      "\n",
      "        Raises\n",
      "        ------\n",
      "        StdinNotImplentedError if active frontend doesn't support stdin.\n",
      "        \n",
      "int([x]) -> integer\n",
      "int(x, base=10) -> integer\n",
      "\n",
      "Convert a number or string to an integer, or return 0 if no arguments\n",
      "are given.  If x is a number, return x.__int__().  For floating point\n",
      "numbers, this truncates towards zero.\n",
      "\n",
      "If x is not a number or if base is given, then x must be a string,\n",
      "bytes, or bytearray instance representing an integer literal in the\n",
      "given base.  The literal can be preceded by '+' or '-' and be surrounded\n",
      "by whitespace.  The base defaults to 10.  Valid bases are 0 and 2-36.\n",
      "Base 0 means to interpret the base from the string as an integer literal.\n",
      ">>> int('0b100', base=0)\n",
      "4\n"
     ]
    }
   ],
   "source": [
    "print(len.__doc__)\n",
    "print(input.__doc__)\n",
    "print(int.__doc__)"
   ]
  },
  {
   "cell_type": "code",
   "execution_count": 68,
   "metadata": {},
   "outputs": [
    {
     "name": "stdout",
     "output_type": "stream",
     "text": [
      "\n",
      "     Returns square of the number\n",
      "    \n"
     ]
    }
   ],
   "source": [
    "print(square.__doc__)"
   ]
  },
  {
   "cell_type": "code",
   "execution_count": 73,
   "metadata": {},
   "outputs": [],
   "source": [
    "#25\n",
    "class Dog:\n",
    "    pet_name = \"Kutta\"\n",
    "    \n",
    "    def __init__(self,name):\n",
    "        #self.pet_name = name\n",
    "        pass"
   ]
  },
  {
   "cell_type": "code",
   "execution_count": 74,
   "metadata": {},
   "outputs": [],
   "source": [
    "dog_name = Dog(\"Modi\")"
   ]
  },
  {
   "cell_type": "code",
   "execution_count": 75,
   "metadata": {},
   "outputs": [
    {
     "data": {
      "text/plain": [
       "'Kutta'"
      ]
     },
     "execution_count": 75,
     "metadata": {},
     "output_type": "execute_result"
    }
   ],
   "source": [
    "dog_name.pet_name"
   ]
  },
  {
   "cell_type": "code",
   "execution_count": 76,
   "metadata": {},
   "outputs": [
    {
     "data": {
      "text/plain": [
       "'Kutta'"
      ]
     },
     "execution_count": 76,
     "metadata": {},
     "output_type": "execute_result"
    }
   ],
   "source": [
    "Dog.pet_name"
   ]
  },
  {
   "cell_type": "code",
   "execution_count": 84,
   "metadata": {},
   "outputs": [],
   "source": [
    "#26\n",
    "def sum_of_numbers(n1,n2):\n",
    "    \"\"\"\n",
    "    Sum always takes list and sums up numbers\n",
    "    \"\"\"\n",
    "    return sum([n1,n2])"
   ]
  },
  {
   "cell_type": "code",
   "execution_count": 85,
   "metadata": {},
   "outputs": [
    {
     "data": {
      "text/plain": [
       "9"
      ]
     },
     "execution_count": 85,
     "metadata": {},
     "output_type": "execute_result"
    }
   ],
   "source": [
    "sum_of_numbers(4,5)"
   ]
  },
  {
   "cell_type": "code",
   "execution_count": 86,
   "metadata": {},
   "outputs": [
    {
     "name": "stdout",
     "output_type": "stream",
     "text": [
      "\n",
      "    Sum always takes list and sums up numbers\n",
      "    \n"
     ]
    }
   ],
   "source": [
    "print(sum_of_numbers.__doc__)"
   ]
  },
  {
   "cell_type": "code",
   "execution_count": 87,
   "metadata": {},
   "outputs": [
    {
     "name": "stdout",
     "output_type": "stream",
     "text": [
      "Return the sum of a 'start' value (default: 0) plus an iterable of numbers\n",
      "\n",
      "When the iterable is empty, return the start value.\n",
      "This function is intended specifically for use with numeric values and may\n",
      "reject non-numeric types.\n"
     ]
    }
   ],
   "source": [
    "print(sum.__doc__)"
   ]
  },
  {
   "cell_type": "code",
   "execution_count": 88,
   "metadata": {},
   "outputs": [],
   "source": [
    "#27\n",
    "def int_str(n):\n",
    "    s = str(n)\n",
    "    print(s)"
   ]
  },
  {
   "cell_type": "code",
   "execution_count": 89,
   "metadata": {},
   "outputs": [
    {
     "name": "stdout",
     "output_type": "stream",
     "text": [
      "4\n"
     ]
    }
   ],
   "source": [
    "int_str(4)"
   ]
  },
  {
   "cell_type": "code",
   "execution_count": 90,
   "metadata": {},
   "outputs": [],
   "source": [
    "#28\n",
    "def print_value(n1,n2):\n",
    "    print(int(n1) + int(n2))"
   ]
  },
  {
   "cell_type": "code",
   "execution_count": 91,
   "metadata": {},
   "outputs": [
    {
     "name": "stdout",
     "output_type": "stream",
     "text": [
      "15\n"
     ]
    }
   ],
   "source": [
    "print_value(\"10\",\"5\")"
   ]
  },
  {
   "cell_type": "code",
   "execution_count": 92,
   "metadata": {},
   "outputs": [],
   "source": [
    "#29\n",
    "def print_string(s1,s2):\n",
    "    print(s1 + s2)"
   ]
  },
  {
   "cell_type": "code",
   "execution_count": 93,
   "metadata": {},
   "outputs": [
    {
     "name": "stdout",
     "output_type": "stream",
     "text": [
      "34\n"
     ]
    }
   ],
   "source": [
    "print_string(\"3\",\"4\")"
   ]
  },
  {
   "cell_type": "code",
   "execution_count": 94,
   "metadata": {},
   "outputs": [],
   "source": [
    "#30\n",
    "def print_max(s1,s2):\n",
    "    if len(s1) > len(s2):\n",
    "        print(s1)\n",
    "    elif len(s2) > len(s1):\n",
    "        print(s2)\n",
    "    elif len(s1) == len(s2):\n",
    "        print(s1)\n",
    "        print(s2)"
   ]
  },
  {
   "cell_type": "code",
   "execution_count": 95,
   "metadata": {},
   "outputs": [
    {
     "name": "stdout",
     "output_type": "stream",
     "text": [
      "Monsur\n"
     ]
    }
   ],
   "source": [
    "print_max(\"Monsur\",\"Aydin\")"
   ]
  },
  {
   "cell_type": "code",
   "execution_count": 96,
   "metadata": {},
   "outputs": [
    {
     "name": "stdout",
     "output_type": "stream",
     "text": [
      "Monsur\n",
      "Sabina\n"
     ]
    }
   ],
   "source": [
    "print_max(\"Monsur\",\"Sabina\")"
   ]
  },
  {
   "cell_type": "code",
   "execution_count": 97,
   "metadata": {},
   "outputs": [
    {
     "name": "stdout",
     "output_type": "stream",
     "text": [
      "Barbhuiya\n"
     ]
    }
   ],
   "source": [
    "print_max(\"Mazumdar\",\"Barbhuiya\")"
   ]
  },
  {
   "cell_type": "code",
   "execution_count": 98,
   "metadata": {},
   "outputs": [],
   "source": [
    "#31\n",
    "def odd_even(n):\n",
    "    if n % 2 == 0:\n",
    "        return \"It is an even number\"\n",
    "    else:\n",
    "        return \"It is an odd number\""
   ]
  },
  {
   "cell_type": "code",
   "execution_count": 99,
   "metadata": {},
   "outputs": [
    {
     "data": {
      "text/plain": [
       "'It is an odd number'"
      ]
     },
     "execution_count": 99,
     "metadata": {},
     "output_type": "execute_result"
    }
   ],
   "source": [
    "odd_even(3)"
   ]
  },
  {
   "cell_type": "code",
   "execution_count": 100,
   "metadata": {},
   "outputs": [
    {
     "data": {
      "text/plain": [
       "'It is an even number'"
      ]
     },
     "execution_count": 100,
     "metadata": {},
     "output_type": "execute_result"
    }
   ],
   "source": [
    "odd_even(78)"
   ]
  },
  {
   "cell_type": "code",
   "execution_count": 101,
   "metadata": {},
   "outputs": [],
   "source": [
    "#32\n",
    "def dict_square(start,end):\n",
    "    d = {}\n",
    "    for i in range(start,end+1):\n",
    "        d[i] = i**2\n",
    "    return d"
   ]
  },
  {
   "cell_type": "code",
   "execution_count": 102,
   "metadata": {},
   "outputs": [
    {
     "data": {
      "text/plain": [
       "{1: 1, 2: 4, 3: 9}"
      ]
     },
     "execution_count": 102,
     "metadata": {},
     "output_type": "execute_result"
    }
   ],
   "source": [
    "dict_square(1,3)"
   ]
  },
  {
   "cell_type": "code",
   "execution_count": 103,
   "metadata": {},
   "outputs": [],
   "source": [
    "#33\n",
    "def dicty_square21(start,end):\n",
    "    d = {}\n",
    "    for i in range(start,end+1):\n",
    "        d[i] = i**2\n",
    "    return d"
   ]
  },
  {
   "cell_type": "code",
   "execution_count": 104,
   "metadata": {},
   "outputs": [
    {
     "data": {
      "text/plain": [
       "{1: 1,\n",
       " 2: 4,\n",
       " 3: 9,\n",
       " 4: 16,\n",
       " 5: 25,\n",
       " 6: 36,\n",
       " 7: 49,\n",
       " 8: 64,\n",
       " 9: 81,\n",
       " 10: 100,\n",
       " 11: 121,\n",
       " 12: 144,\n",
       " 13: 169,\n",
       " 14: 196,\n",
       " 15: 225,\n",
       " 16: 256,\n",
       " 17: 289,\n",
       " 18: 324,\n",
       " 19: 361,\n",
       " 20: 400}"
      ]
     },
     "execution_count": 104,
     "metadata": {},
     "output_type": "execute_result"
    }
   ],
   "source": [
    "dicty_square21(1,20)"
   ]
  },
  {
   "cell_type": "code",
   "execution_count": 109,
   "metadata": {},
   "outputs": [
    {
     "name": "stdout",
     "output_type": "stream",
     "text": [
      "Key: 1, Value: 1\n",
      "Key: 2, Value: 4\n",
      "Key: 3, Value: 9\n",
      "Key: 4, Value: 16\n",
      "Key: 5, Value: 25\n",
      "Key: 6, Value: 36\n",
      "Key: 7, Value: 49\n",
      "Key: 8, Value: 64\n",
      "Key: 9, Value: 81\n",
      "Key: 10, Value: 100\n"
     ]
    }
   ],
   "source": [
    "#34\n",
    "d = dicty_square21(1,10)\n",
    "for k,v in d.items():\n",
    "    print(f\"Key: {k}, Value: {v}\")\n",
    "    "
   ]
  },
  {
   "cell_type": "code",
   "execution_count": 110,
   "metadata": {},
   "outputs": [
    {
     "name": "stdout",
     "output_type": "stream",
     "text": [
      "1\n",
      "4\n",
      "9\n",
      "16\n",
      "25\n",
      "36\n",
      "49\n",
      "64\n",
      "81\n",
      "100\n"
     ]
    }
   ],
   "source": [
    "for i in d.values():\n",
    "    print(i)"
   ]
  },
  {
   "cell_type": "code",
   "execution_count": 120,
   "metadata": {},
   "outputs": [],
   "source": [
    "#35\n",
    "def dict_key(start,end):\n",
    "    d = {}\n",
    "    for i in range(start,end+1):\n",
    "        d[i] = i**2\n",
    "    print('Dictionary:')\n",
    "    print(d)\n",
    "    print('\\nKEYS')\n",
    "    for k,v in d.items():\n",
    "        print(k)"
   ]
  },
  {
   "cell_type": "code",
   "execution_count": 121,
   "metadata": {},
   "outputs": [
    {
     "name": "stdout",
     "output_type": "stream",
     "text": [
      "Dictionary:\n",
      "{1: 1, 2: 4, 3: 9, 4: 16, 5: 25, 6: 36, 7: 49, 8: 64, 9: 81, 10: 100, 11: 121, 12: 144, 13: 169, 14: 196, 15: 225, 16: 256, 17: 289, 18: 324, 19: 361, 20: 400}\n",
      "\n",
      "KEYS\n",
      "1\n",
      "2\n",
      "3\n",
      "4\n",
      "5\n",
      "6\n",
      "7\n",
      "8\n",
      "9\n",
      "10\n",
      "11\n",
      "12\n",
      "13\n",
      "14\n",
      "15\n",
      "16\n",
      "17\n",
      "18\n",
      "19\n",
      "20\n"
     ]
    }
   ],
   "source": [
    "dict_key(1,20)"
   ]
  },
  {
   "cell_type": "code",
   "execution_count": 126,
   "metadata": {},
   "outputs": [],
   "source": [
    "#36\n",
    "def list_square(n):\n",
    "    result = [x**2 for x in range(1,n+1)]\n",
    "    return result"
   ]
  },
  {
   "cell_type": "code",
   "execution_count": 127,
   "metadata": {},
   "outputs": [
    {
     "data": {
      "text/plain": [
       "[1,\n",
       " 4,\n",
       " 9,\n",
       " 16,\n",
       " 25,\n",
       " 36,\n",
       " 49,\n",
       " 64,\n",
       " 81,\n",
       " 100,\n",
       " 121,\n",
       " 144,\n",
       " 169,\n",
       " 196,\n",
       " 225,\n",
       " 256,\n",
       " 289,\n",
       " 324,\n",
       " 361,\n",
       " 400]"
      ]
     },
     "execution_count": 127,
     "metadata": {},
     "output_type": "execute_result"
    }
   ],
   "source": [
    "list_square(20)"
   ]
  },
  {
   "cell_type": "code",
   "execution_count": 137,
   "metadata": {},
   "outputs": [],
   "source": [
    "#37\n",
    "def list_square(n):\n",
    "    result = [x**2 for x in range(1,n+1)]\n",
    "    print(result)\n",
    "    #for i in result[:5]:\n",
    "    [print(i) for i in result[:5]]"
   ]
  },
  {
   "cell_type": "code",
   "execution_count": 138,
   "metadata": {},
   "outputs": [
    {
     "name": "stdout",
     "output_type": "stream",
     "text": [
      "[1, 4, 9, 16, 25, 36, 49, 64, 81, 100]\n",
      "1\n",
      "4\n",
      "9\n",
      "16\n",
      "25\n"
     ]
    }
   ],
   "source": [
    "list_square(10)"
   ]
  },
  {
   "cell_type": "code",
   "execution_count": 141,
   "metadata": {},
   "outputs": [],
   "source": [
    "#38\n",
    "def list_square_last_five(n):\n",
    "    new_list = [x**2 for x in range(1,n+1)]\n",
    "    print(new_list)\n",
    "    print(new_list[-5:])"
   ]
  },
  {
   "cell_type": "code",
   "execution_count": 142,
   "metadata": {},
   "outputs": [
    {
     "name": "stdout",
     "output_type": "stream",
     "text": [
      "[1, 4, 9, 16, 25, 36, 49, 64, 81, 100]\n",
      "[36, 49, 64, 81, 100]\n"
     ]
    }
   ],
   "source": [
    "list_square_last_five(10)"
   ]
  },
  {
   "cell_type": "code",
   "execution_count": 147,
   "metadata": {},
   "outputs": [],
   "source": [
    "#39\n",
    "def list_square_except_five(n):\n",
    "    new_list = [x**2 for x in range(1,n+1)]\n",
    "    print(new_list)\n",
    "    print(new_list[5:])"
   ]
  },
  {
   "cell_type": "code",
   "execution_count": 148,
   "metadata": {},
   "outputs": [
    {
     "name": "stdout",
     "output_type": "stream",
     "text": [
      "[1, 4, 9, 16, 25, 36, 49, 64, 81, 100]\n",
      "[36, 49, 64, 81, 100]\n"
     ]
    }
   ],
   "source": [
    "list_square_except_five(10)"
   ]
  },
  {
   "cell_type": "code",
   "execution_count": 149,
   "metadata": {},
   "outputs": [],
   "source": [
    "#40\n",
    "def gen_tup(n):\n",
    "    new_list = []\n",
    "    for i in range(1,n+1):\n",
    "        new_list.append(i**2)\n",
    "    return tuple(new_list)"
   ]
  },
  {
   "cell_type": "code",
   "execution_count": 150,
   "metadata": {},
   "outputs": [
    {
     "data": {
      "text/plain": [
       "(1, 4, 9, 16, 25, 36, 49, 64, 81, 100)"
      ]
     },
     "execution_count": 150,
     "metadata": {},
     "output_type": "execute_result"
    }
   ],
   "source": [
    "gen_tup(10)"
   ]
  },
  {
   "cell_type": "code",
   "execution_count": 155,
   "metadata": {},
   "outputs": [],
   "source": [
    "#LC\n",
    "def gen_lc_tup(n):\n",
    "    return tuple([x**2 for x in range(1,n+1)])"
   ]
  },
  {
   "cell_type": "code",
   "execution_count": 156,
   "metadata": {},
   "outputs": [
    {
     "data": {
      "text/plain": [
       "(1, 4, 9, 16, 25, 36, 49, 64, 81, 100)"
      ]
     },
     "execution_count": 156,
     "metadata": {},
     "output_type": "execute_result"
    }
   ],
   "source": [
    "gen_lc_tup(10)"
   ]
  },
  {
   "cell_type": "code",
   "execution_count": 168,
   "metadata": {},
   "outputs": [],
   "source": [
    "#41\n",
    "def half_tup(t):\n",
    "    #'/' gives floating point and '//' gives int\n",
    "    t_half = len(t)//2\n",
    "    print(t[0:t_half])\n",
    "    print(t[t_half:])"
   ]
  },
  {
   "cell_type": "code",
   "execution_count": 170,
   "metadata": {},
   "outputs": [
    {
     "name": "stdout",
     "output_type": "stream",
     "text": [
      "(1, 2, 3, 4, 5)\n",
      "(6, 7, 8, 9, 10)\n"
     ]
    }
   ],
   "source": [
    "t =  (1,2,3,4,5,6,7,8,9,10)\n",
    "half_tup(t)"
   ]
  },
  {
   "cell_type": "code",
   "execution_count": 171,
   "metadata": {},
   "outputs": [],
   "source": [
    "#42\n",
    "def tup_list(t):\n",
    "    new_list = []\n",
    "    for i in t:\n",
    "        if i % 2 == 0:\n",
    "            new_list.append(i)\n",
    "    return tuple(new_list)"
   ]
  },
  {
   "cell_type": "code",
   "execution_count": 172,
   "metadata": {},
   "outputs": [
    {
     "data": {
      "text/plain": [
       "(2, 4, 6, 8, 10)"
      ]
     },
     "execution_count": 172,
     "metadata": {},
     "output_type": "execute_result"
    }
   ],
   "source": [
    "t = (1,2,3,4,5,6,7,8,9,10)\n",
    "tup_list(t)"
   ]
  },
  {
   "cell_type": "code",
   "execution_count": 173,
   "metadata": {},
   "outputs": [],
   "source": [
    "#43\n",
    "def say_yes(input):\n",
    "    if input == 'yes' or input == 'YES' or input == 'Yes':\n",
    "        print('Yes')\n",
    "    else:\n",
    "        print('No')"
   ]
  },
  {
   "cell_type": "code",
   "execution_count": 174,
   "metadata": {},
   "outputs": [
    {
     "name": "stdout",
     "output_type": "stream",
     "text": [
      "Yes\n"
     ]
    }
   ],
   "source": [
    "say_yes('Yes')"
   ]
  },
  {
   "cell_type": "code",
   "execution_count": 175,
   "metadata": {},
   "outputs": [
    {
     "name": "stdout",
     "output_type": "stream",
     "text": [
      "No\n"
     ]
    }
   ],
   "source": [
    "say_yes('Yeah')"
   ]
  },
  {
   "cell_type": "code",
   "execution_count": 177,
   "metadata": {},
   "outputs": [
    {
     "name": "stdout",
     "output_type": "stream",
     "text": [
      "[2, 4, 6, 8, 10]\n"
     ]
    }
   ],
   "source": [
    "#44\n",
    "my_list =  [1,2,3,4,5,6,7,8,9,10]\n",
    "even_numbers = filter(lambda x: x%2 ==0, my_list)\n",
    "print(list(even_numbers))\n"
   ]
  },
  {
   "cell_type": "code",
   "execution_count": 178,
   "metadata": {},
   "outputs": [
    {
     "name": "stdout",
     "output_type": "stream",
     "text": [
      "[1, 4, 9, 16, 25, 36, 49, 64, 81, 100]\n"
     ]
    }
   ],
   "source": [
    "#45\n",
    "my_list =  [1,2,3,4,5,6,7,8,9,10]\n",
    "square = map(lambda x: x**2,my_list)\n",
    "print(list(square))"
   ]
  },
  {
   "cell_type": "code",
   "execution_count": 181,
   "metadata": {},
   "outputs": [
    {
     "name": "stdout",
     "output_type": "stream",
     "text": [
      "[4, 16, 36, 64, 100]\n"
     ]
    }
   ],
   "source": [
    "#46\n",
    "my_list =  [1,2,3,4,5,6,7,8,9,10]\n",
    "square = map(lambda x: x**2, my_list)\n",
    "even_numbers = filter(lambda x: x%2 == 0,square)\n",
    "print(list(even_numbers))"
   ]
  },
  {
   "cell_type": "code",
   "execution_count": 2,
   "metadata": {},
   "outputs": [
    {
     "name": "stdout",
     "output_type": "stream",
     "text": [
      "[2, 4, 6, 8, 10, 12, 14, 16, 18, 20]\n"
     ]
    }
   ],
   "source": [
    "#47\n",
    "l = range(1,21)\n",
    "filtered_items = filter(lambda x : x %2 == 0,l)\n",
    "print(list(filtered_items))"
   ]
  },
  {
   "cell_type": "code",
   "execution_count": 4,
   "metadata": {},
   "outputs": [
    {
     "name": "stdout",
     "output_type": "stream",
     "text": [
      "[1, 4, 9, 16, 25, 36, 49, 64, 81, 100, 121, 144, 169, 196, 225, 256, 289, 324, 361, 400]\n"
     ]
    }
   ],
   "source": [
    "#48\n",
    "squared_numbers = map(lambda x : x **2, range(1,21))\n",
    "print(list(squared_numbers))"
   ]
  },
  {
   "cell_type": "code",
   "execution_count": 27,
   "metadata": {},
   "outputs": [],
   "source": [
    "#49\n",
    "class American:\n",
    "    ticket = 0\n",
    "    def __init__(self,citizen_name):\n",
    "        self.citizen_name = citizen_name\n",
    "        \n",
    "    @staticmethod\n",
    "    def printNationality():\n",
    "        #print(self.citizen_name)\n",
    "        print(\"America\")\n",
    "        print(American.ticket)\n",
    "        American.ticket += 1"
   ]
  },
  {
   "cell_type": "code",
   "execution_count": 28,
   "metadata": {},
   "outputs": [
    {
     "name": "stdout",
     "output_type": "stream",
     "text": [
      "America\n",
      "0\n"
     ]
    }
   ],
   "source": [
    "trumph = American('Donald')\n",
    "trumph.printNationality()"
   ]
  },
  {
   "cell_type": "code",
   "execution_count": 47,
   "metadata": {},
   "outputs": [],
   "source": [
    "#50\n",
    "class American:\n",
    "    def __init__(self,passport_no):\n",
    "        self.passport_no = passport_no\n",
    "        \n",
    "    def get_passport_no(self):\n",
    "        return passport_no\n",
    "    \n",
    "    def __str__(self):\n",
    "        return f\"I am American. My passport number is :{self.passport_no}\"\n",
    "\n",
    "class Newyorker(American):\n",
    "    def __init__(self,passport_no,door_no):\n",
    "        American.__init__(self,passport_no)\n",
    "        self.door_no = door_no\n",
    "        \n",
    "    def __str__(self):\n",
    "        return f\"I am Newyorker.My passport number is: {self.passport_no}. My door number is: {self.door_no}\"\n",
    "        "
   ]
  },
  {
   "cell_type": "code",
   "execution_count": 48,
   "metadata": {},
   "outputs": [
    {
     "name": "stdout",
     "output_type": "stream",
     "text": [
      "I am American. My passport number is :34\n"
     ]
    }
   ],
   "source": [
    "an_american = American('34')\n",
    "print(an_american)\n"
   ]
  },
  {
   "cell_type": "code",
   "execution_count": 49,
   "metadata": {},
   "outputs": [
    {
     "name": "stdout",
     "output_type": "stream",
     "text": [
      "I am Newyorker.My passport number is: 435465. My door number is: 26\n"
     ]
    }
   ],
   "source": [
    "will_smith = Newyorker('435465','26')\n",
    "print(will_smith)"
   ]
  },
  {
   "cell_type": "code",
   "execution_count": 52,
   "metadata": {},
   "outputs": [],
   "source": [
    "#51\n",
    "class Circle:\n",
    "    pi = 3.14\n",
    "    def __init__(self,radius):\n",
    "        self.radius = radius\n",
    "        \n",
    "    def area_circle(self):\n",
    "        return Circle.pi * self.radius * self.radius"
   ]
  },
  {
   "cell_type": "code",
   "execution_count": 53,
   "metadata": {},
   "outputs": [
    {
     "data": {
      "text/plain": [
       "3"
      ]
     },
     "execution_count": 53,
     "metadata": {},
     "output_type": "execute_result"
    }
   ],
   "source": [
    "circle = Circle(3)\n",
    "circle.radius"
   ]
  },
  {
   "cell_type": "code",
   "execution_count": 54,
   "metadata": {},
   "outputs": [
    {
     "data": {
      "text/plain": [
       "28.259999999999998"
      ]
     },
     "execution_count": 54,
     "metadata": {},
     "output_type": "execute_result"
    }
   ],
   "source": [
    "circle.area_circle()"
   ]
  },
  {
   "cell_type": "code",
   "execution_count": 55,
   "metadata": {},
   "outputs": [],
   "source": [
    "#52\n",
    "class Rectangle:\n",
    "    def __init__(self,length,width):\n",
    "        self.length = length\n",
    "        self.width = width\n",
    "    \n",
    "    def area(self):\n",
    "        return self.length * self.width"
   ]
  },
  {
   "cell_type": "code",
   "execution_count": 57,
   "metadata": {},
   "outputs": [
    {
     "data": {
      "text/plain": [
       "30"
      ]
     },
     "execution_count": 57,
     "metadata": {},
     "output_type": "execute_result"
    }
   ],
   "source": [
    "my_rect = Rectangle(3,10)\n",
    "my_rect.get_area()"
   ]
  },
  {
   "cell_type": "code",
   "execution_count": 66,
   "metadata": {},
   "outputs": [],
   "source": [
    "#53\n",
    "class Shape:\n",
    "    def area(self):\n",
    "        return 0\n",
    "    \n",
    "class Rectangle(Shape):\n",
    "    def __init__(self,length,width):\n",
    "        Shape.__init__(self)\n",
    "        self.length = length\n",
    "        self.width = width\n",
    "        \n",
    "    def area(self):\n",
    "        return self.length * self.width\n",
    "    \n",
    "class Square(Rectangle):\n",
    "    def __init__(self,length):\n",
    "        Rectangle.__init__(self,length,length)\n",
    "        \n",
    "    "
   ]
  },
  {
   "cell_type": "code",
   "execution_count": 67,
   "metadata": {},
   "outputs": [
    {
     "data": {
      "text/plain": [
       "0"
      ]
     },
     "execution_count": 67,
     "metadata": {},
     "output_type": "execute_result"
    }
   ],
   "source": [
    "s = Shape()\n",
    "s.area()"
   ]
  },
  {
   "cell_type": "code",
   "execution_count": 70,
   "metadata": {},
   "outputs": [
    {
     "data": {
      "text/plain": [
       "49"
      ]
     },
     "execution_count": 70,
     "metadata": {},
     "output_type": "execute_result"
    }
   ],
   "source": [
    "sq = Square(7)\n",
    "sq.area()"
   ]
  },
  {
   "cell_type": "code",
   "execution_count": 69,
   "metadata": {},
   "outputs": [
    {
     "data": {
      "text/plain": [
       "40"
      ]
     },
     "execution_count": 69,
     "metadata": {},
     "output_type": "execute_result"
    }
   ],
   "source": [
    "r = Rectangle(4,10)\n",
    "r.area()"
   ]
  },
  {
   "cell_type": "code",
   "execution_count": 71,
   "metadata": {},
   "outputs": [],
   "source": [
    "#54\n",
    "def my_error():\n",
    "    raise RuntimeError('End Game')"
   ]
  },
  {
   "cell_type": "code",
   "execution_count": 72,
   "metadata": {},
   "outputs": [
    {
     "ename": "RuntimeError",
     "evalue": "End Game",
     "output_type": "error",
     "traceback": [
      "\u001b[1;31m---------------------------------------------------------------------------\u001b[0m",
      "\u001b[1;31mRuntimeError\u001b[0m                              Traceback (most recent call last)",
      "\u001b[1;32m<ipython-input-72-ac3b7b7260a4>\u001b[0m in \u001b[0;36m<module>\u001b[1;34m\u001b[0m\n\u001b[1;32m----> 1\u001b[1;33m \u001b[0mmy_error\u001b[0m\u001b[1;33m(\u001b[0m\u001b[1;33m)\u001b[0m\u001b[1;33m\u001b[0m\u001b[1;33m\u001b[0m\u001b[0m\n\u001b[0m",
      "\u001b[1;32m<ipython-input-71-1e4064def490>\u001b[0m in \u001b[0;36mmy_error\u001b[1;34m()\u001b[0m\n\u001b[0;32m      1\u001b[0m \u001b[1;31m#54\u001b[0m\u001b[1;33m\u001b[0m\u001b[1;33m\u001b[0m\u001b[1;33m\u001b[0m\u001b[0m\n\u001b[0;32m      2\u001b[0m \u001b[1;32mdef\u001b[0m \u001b[0mmy_error\u001b[0m\u001b[1;33m(\u001b[0m\u001b[1;33m)\u001b[0m\u001b[1;33m:\u001b[0m\u001b[1;33m\u001b[0m\u001b[1;33m\u001b[0m\u001b[0m\n\u001b[1;32m----> 3\u001b[1;33m     \u001b[1;32mraise\u001b[0m \u001b[0mRuntimeError\u001b[0m\u001b[1;33m(\u001b[0m\u001b[1;34m'End Game'\u001b[0m\u001b[1;33m)\u001b[0m\u001b[1;33m\u001b[0m\u001b[1;33m\u001b[0m\u001b[0m\n\u001b[0m",
      "\u001b[1;31mRuntimeError\u001b[0m: End Game"
     ]
    }
   ],
   "source": [
    "my_error()"
   ]
  },
  {
   "cell_type": "code",
   "execution_count": 73,
   "metadata": {},
   "outputs": [
    {
     "name": "stdout",
     "output_type": "stream",
     "text": [
      "Unspecified run-time error.\n"
     ]
    }
   ],
   "source": [
    "print(RuntimeError.__doc__)"
   ]
  },
  {
   "cell_type": "code",
   "execution_count": 80,
   "metadata": {},
   "outputs": [
    {
     "name": "stdout",
     "output_type": "stream",
     "text": [
      "The other exception list assignment index out of range\n",
      "All is well\n"
     ]
    }
   ],
   "source": [
    "#55\n",
    "def throws():\n",
    "        l = []\n",
    "        l[1] = 10\n",
    "\n",
    "try:\n",
    "    throws()\n",
    "except ZeroDivisionError as ex:\n",
    "    print(ex)\n",
    "except Exception as ex:\n",
    "    print(f\"The other exception \" + str(ex))\n",
    "finally:\n",
    "    print(\"All is well\")"
   ]
  },
  {
   "cell_type": "code",
   "execution_count": 127,
   "metadata": {},
   "outputs": [],
   "source": [
    "#56\n",
    "class MyError(Exception):\n",
    "    pass\n",
    "#     def __init__(self,msg):\n",
    "#         #Exception.__init__(self,msg)\n",
    "#         #self.msg1 = msg\n",
    "#         pass\n",
    "        \n",
    "        "
   ]
  },
  {
   "cell_type": "code",
   "execution_count": 128,
   "metadata": {},
   "outputs": [],
   "source": [
    "error = MyError(\"Blah\")"
   ]
  },
  {
   "cell_type": "code",
   "execution_count": 129,
   "metadata": {},
   "outputs": [
    {
     "name": "stdout",
     "output_type": "stream",
     "text": [
      "Blah\n"
     ]
    }
   ],
   "source": [
    "print(error)"
   ]
  },
  {
   "cell_type": "code",
   "execution_count": 126,
   "metadata": {},
   "outputs": [
    {
     "name": "stdout",
     "output_type": "stream",
     "text": [
      "I created the error\n",
      "All is well\n"
     ]
    }
   ],
   "source": [
    "def my_throws():\n",
    "        raise MyError(\"I created the error\")\n",
    "\n",
    "try:\n",
    "    my_throws()\n",
    "except MyError as ex:\n",
    "    print(ex)\n",
    "except Exception as ex:\n",
    "    print(f\"The other exception \" + str(ex))\n",
    "finally:\n",
    "    print(\"All is well\")"
   ]
  },
  {
   "cell_type": "code",
   "execution_count": 170,
   "metadata": {},
   "outputs": [],
   "source": [
    "#57\n",
    "def email_to_name(email):\n",
    "    new_list = email.split('@')\n",
    "    print(new_list)\n",
    "    name_part= new_list[0].split('.')\n",
    "    print(name_part)\n",
    "    company_part = new_list[1].split('.')\n",
    "    print(company_part)\n",
    "    \n",
    "    print(' '.join(name_part).title())\n",
    "    print(company_part[0].capitalize())\n",
    "#     print(f\"Name of User: {' '.join(name_part).title()}\")\n",
    "#     x = new_list[1].split('.')\n",
    "#     print(f\"\"x[0])"
   ]
  },
  {
   "cell_type": "code",
   "execution_count": 171,
   "metadata": {},
   "outputs": [
    {
     "name": "stdout",
     "output_type": "stream",
     "text": [
      "['john.smith', 'gmail.com']\n",
      "['john', 'smith']\n",
      "['gmail', 'com']\n",
      "John Smith\n",
      "Gmail\n"
     ]
    }
   ],
   "source": [
    "email_to_name('john.smith@gmail.com')"
   ]
  },
  {
   "cell_type": "code",
   "execution_count": 175,
   "metadata": {},
   "outputs": [
    {
     "name": "stdout",
     "output_type": "stream",
     "text": [
      "['2', '3']\n"
     ]
    }
   ],
   "source": [
    "#58\n",
    "s = '2 cats and 3 dogs.'\n",
    "new_list = s.split()\n",
    "new_list\n",
    "other_list = []\n",
    "for i in new_list:\n",
    "    if i.isdigit():\n",
    "        other_list.append(i)\n",
    "print(other_list)\n",
    "        \n"
   ]
  },
  {
   "cell_type": "code",
   "execution_count": 176,
   "metadata": {},
   "outputs": [
    {
     "data": {
      "text/plain": [
       "['2', '3']"
      ]
     },
     "execution_count": 176,
     "metadata": {},
     "output_type": "execute_result"
    }
   ],
   "source": [
    "#Lc\n",
    "[x for x in s.split() if x.isdigit()]"
   ]
  },
  {
   "cell_type": "code",
   "execution_count": null,
   "metadata": {},
   "outputs": [],
   "source": []
  }
 ],
 "metadata": {
  "kernelspec": {
   "display_name": "Python 3",
   "language": "python",
   "name": "python3"
  },
  "language_info": {
   "codemirror_mode": {
    "name": "ipython",
    "version": 3
   },
   "file_extension": ".py",
   "mimetype": "text/x-python",
   "name": "python",
   "nbconvert_exporter": "python",
   "pygments_lexer": "ipython3",
   "version": "3.7.1"
  }
 },
 "nbformat": 4,
 "nbformat_minor": 2
}
