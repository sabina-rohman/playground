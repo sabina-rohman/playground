{
 "cells": [
  {
   "cell_type": "code",
   "execution_count": 5,
   "metadata": {},
   "outputs": [],
   "source": [
    "#1\n",
    "def div57(start,end):\n",
    "    new_list = []\n",
    "    for i in range(start,end+1):\n",
    "        if i % 5 == 0 and i % 7 == 0:\n",
    "            new_list.append(str(i))\n",
    "    return ','.join(new_list)"
   ]
  },
  {
   "cell_type": "code",
   "execution_count": 6,
   "metadata": {},
   "outputs": [
    {
     "data": {
      "text/plain": [
       "'2030,2065,2100,2135,2170,2205,2240,2275,2310,2345,2380,2415,2450,2485,2520,2555,2590,2625,2660,2695,2730,2765,2800,2835,2870,2905,2940,2975'"
      ]
     },
     "execution_count": 6,
     "metadata": {},
     "output_type": "execute_result"
    }
   ],
   "source": [
    "div57(2000,3000)"
   ]
  },
  {
   "cell_type": "code",
   "execution_count": 7,
   "metadata": {},
   "outputs": [],
   "source": [
    "#2\n",
    "def get_factorial(n):\n",
    "    result = 1\n",
    "    for i in range(1,n+1):\n",
    "        result *= i\n",
    "    return result"
   ]
  },
  {
   "cell_type": "code",
   "execution_count": 12,
   "metadata": {},
   "outputs": [
    {
     "data": {
      "text/plain": [
       "120"
      ]
     },
     "execution_count": 12,
     "metadata": {},
     "output_type": "execute_result"
    }
   ],
   "source": [
    "get_factorial(5)"
   ]
  },
  {
   "cell_type": "code",
   "execution_count": 13,
   "metadata": {},
   "outputs": [
    {
     "name": "stdout",
     "output_type": "stream",
     "text": [
      "2030,2065,2100,2135,2170,2205,2240,2275,2310,2345,2380,2415,2450,2485,2520,2555,2590,2625,2660,2695,2730,2765,2800,2835,2870,2905,2940,2975\n"
     ]
    }
   ],
   "source": [
    "#LC\n",
    "result = [str(x) for x in range(2000,3001) if x % 5 == 0 and x % 7 == 0]\n",
    "print(','.join(result))"
   ]
  },
  {
   "cell_type": "code",
   "execution_count": 9,
   "metadata": {},
   "outputs": [],
   "source": [
    "#3\n",
    "def dicty(n):\n",
    "    my_dict = {}\n",
    "    for i in range(1,n+1):\n",
    "        my_dict[i] = i*i\n",
    "    return my_dict"
   ]
  },
  {
   "cell_type": "code",
   "execution_count": 11,
   "metadata": {},
   "outputs": [
    {
     "data": {
      "text/plain": [
       "{1: 1, 2: 4, 3: 9, 4: 16, 5: 25, 6: 36}"
      ]
     },
     "execution_count": 11,
     "metadata": {},
     "output_type": "execute_result"
    }
   ],
   "source": [
    "dicty(6)"
   ]
  },
  {
   "cell_type": "code",
   "execution_count": 14,
   "metadata": {},
   "outputs": [
    {
     "data": {
      "text/plain": [
       "['34', '67', '55', '33', '12', '98']"
      ]
     },
     "execution_count": 14,
     "metadata": {},
     "output_type": "execute_result"
    }
   ],
   "source": [
    "#4\n",
    "s = \"34,67,55,33,12,98\"\n",
    "new_list = s.split(',')\n",
    "new_list"
   ]
  },
  {
   "cell_type": "code",
   "execution_count": 15,
   "metadata": {},
   "outputs": [
    {
     "data": {
      "text/plain": [
       "('34', '67', '55', '33', '12', '98')"
      ]
     },
     "execution_count": 15,
     "metadata": {},
     "output_type": "execute_result"
    }
   ],
   "source": [
    "my_tup = tuple(new_list)\n",
    "my_tup"
   ]
  },
  {
   "cell_type": "code",
   "execution_count": 16,
   "metadata": {},
   "outputs": [],
   "source": [
    "#5\n",
    "class InOutString:\n",
    "    def __init__(self,s):\n",
    "        self.s = s\n",
    "        \n",
    "    def get_string(self):\n",
    "        return self.s\n",
    "    \n",
    "    def to_upper(self):\n",
    "        print(self.s.upper())"
   ]
  },
  {
   "cell_type": "code",
   "execution_count": 17,
   "metadata": {},
   "outputs": [
    {
     "data": {
      "text/plain": [
       "'sabina'"
      ]
     },
     "execution_count": 17,
     "metadata": {},
     "output_type": "execute_result"
    }
   ],
   "source": [
    "st = InOutString(\"sabina\")\n",
    "st.get_string()"
   ]
  },
  {
   "cell_type": "code",
   "execution_count": 18,
   "metadata": {},
   "outputs": [
    {
     "name": "stdout",
     "output_type": "stream",
     "text": [
      "SABINA\n"
     ]
    }
   ],
   "source": [
    "st.to_upper()"
   ]
  },
  {
   "cell_type": "code",
   "execution_count": 21,
   "metadata": {},
   "outputs": [
    {
     "data": {
      "text/plain": [
       "'18,22,24'"
      ]
     },
     "execution_count": 21,
     "metadata": {},
     "output_type": "execute_result"
    }
   ],
   "source": [
    "#6\n",
    "import math\n",
    "c = 50\n",
    "h = 30\n",
    "d_list = [100,150,180]\n",
    "result = [str(round(math.sqrt((2 * c * d)/h))) for d in d_list]\n",
    "','.join(result)"
   ]
  },
  {
   "cell_type": "code",
   "execution_count": 25,
   "metadata": {},
   "outputs": [
    {
     "data": {
      "text/plain": [
       "'18,22,24'"
      ]
     },
     "execution_count": 25,
     "metadata": {},
     "output_type": "execute_result"
    }
   ],
   "source": [
    "import math\n",
    "c = 50\n",
    "h = 30\n",
    "d = \"100,150,180\"\n",
    "d_list = d.split(',')\n",
    "d_list\n",
    "result = [str(round(math.sqrt((2*c*int(d)/h)))) for d in d_list]\n",
    "','.join(result)"
   ]
  },
  {
   "cell_type": "code",
   "execution_count": 26,
   "metadata": {},
   "outputs": [
    {
     "name": "stdout",
     "output_type": "stream",
     "text": [
      "[[1, 2, 3, 4, 5], [2, 4, 6, 8, 10], [3, 6, 9, 12, 15]]\n"
     ]
    }
   ],
   "source": [
    "#7\n",
    "X = 3\n",
    "Y = 5\n",
    "x_result = []\n",
    "for i in range(1,X+1):\n",
    "    y_result = []\n",
    "    for j in range(1,Y+1):\n",
    "        y_result.append(i*j)\n",
    "    x_result.append(y_result)\n",
    "print(x_result)\n"
   ]
  },
  {
   "cell_type": "code",
   "execution_count": 31,
   "metadata": {},
   "outputs": [
    {
     "data": {
      "text/plain": [
       "'bag,hello,without,world'"
      ]
     },
     "execution_count": 31,
     "metadata": {},
     "output_type": "execute_result"
    }
   ],
   "source": [
    "#8\n",
    "s = \"without,hello,bag,world\"\n",
    "new_list = s.split(',')\n",
    "new_list\n",
    "new_list.sort()\n",
    "','.join(new_list)"
   ]
  },
  {
   "cell_type": "code",
   "execution_count": 33,
   "metadata": {},
   "outputs": [
    {
     "name": "stdout",
     "output_type": "stream",
     "text": [
      "[[1, 2, 3, 4, 5, 6, 7], [2, 4, 6, 8, 10, 12, 14], [3, 6, 9, 12, 15, 18, 21], [4, 8, 12, 16, 20, 24, 28], [5, 10, 15, 20, 25, 30, 35], [6, 12, 18, 24, 30, 36, 42]]\n"
     ]
    }
   ],
   "source": [
    "#7 repeated\n",
    "X = 6\n",
    "Y = 7\n",
    "x_result = []\n",
    "for i in range(1,X+1):\n",
    "    y_result = []\n",
    "    for j in range(1,Y+1):\n",
    "        y_result.append(i*j)\n",
    "    x_result.append(y_result)\n",
    "print(x_result)"
   ]
  },
  {
   "cell_type": "code",
   "execution_count": 40,
   "metadata": {},
   "outputs": [
    {
     "name": "stdout",
     "output_type": "stream",
     "text": [
      "HELLO WORLD\n",
      "PRACTICE MAKES PERFECT\n"
     ]
    }
   ],
   "source": [
    "#9\n",
    "s = \"Hello world\\nPractice makes perfect\"\n",
    "\n",
    "t = [x.upper() for x in s.split('\\n')]\n",
    "print('\\n'.join(t))"
   ]
  },
  {
   "cell_type": "code",
   "execution_count": 45,
   "metadata": {},
   "outputs": [],
   "source": [
    "#10\n",
    "s = \"hello world and practice makes perfect and hello world again\"\n",
    "new_list = s.split()\n",
    "new_list\n",
    "my_set = set(new_list)\n",
    "l = list(my_set)"
   ]
  },
  {
   "cell_type": "code",
   "execution_count": 46,
   "metadata": {},
   "outputs": [
    {
     "data": {
      "text/plain": [
       "['perfect', 'makes', 'practice', 'hello', 'again', 'world', 'and']"
      ]
     },
     "execution_count": 46,
     "metadata": {},
     "output_type": "execute_result"
    }
   ],
   "source": [
    "l"
   ]
  },
  {
   "cell_type": "code",
   "execution_count": 47,
   "metadata": {},
   "outputs": [],
   "source": [
    "l.sort()"
   ]
  },
  {
   "cell_type": "code",
   "execution_count": 48,
   "metadata": {},
   "outputs": [
    {
     "data": {
      "text/plain": [
       "['again', 'and', 'hello', 'makes', 'perfect', 'practice', 'world']"
      ]
     },
     "execution_count": 48,
     "metadata": {},
     "output_type": "execute_result"
    }
   ],
   "source": [
    "l"
   ]
  },
  {
   "cell_type": "code",
   "execution_count": 49,
   "metadata": {},
   "outputs": [
    {
     "data": {
      "text/plain": [
       "'again and hello makes perfect practice world'"
      ]
     },
     "execution_count": 49,
     "metadata": {},
     "output_type": "execute_result"
    }
   ],
   "source": [
    "' '.join(l)"
   ]
  },
  {
   "cell_type": "code",
   "execution_count": 53,
   "metadata": {},
   "outputs": [
    {
     "data": {
      "text/plain": [
       "'0100,1010'"
      ]
     },
     "execution_count": 53,
     "metadata": {},
     "output_type": "execute_result"
    }
   ],
   "source": [
    "#11\n",
    "s = \"0100,0011,1010,1001\"\n",
    "result = [str(x) for x in s.split(',') if int(x) % 5 == 0]\n",
    "','.join(result)"
   ]
  },
  {
   "cell_type": "code",
   "execution_count": 60,
   "metadata": {},
   "outputs": [],
   "source": [
    "#12\n",
    "def check_even(n):\n",
    "    s = str(n)\n",
    "    for i in s:\n",
    "        if n % 2 != 0:\n",
    "            return False\n",
    "    return True"
   ]
  },
  {
   "cell_type": "code",
   "execution_count": 65,
   "metadata": {},
   "outputs": [],
   "source": [
    "def check_each_digit(start,end):\n",
    "    result = []\n",
    "    for i in range(start,end+1):\n",
    "        if check_even(i):\n",
    "            result.append(str(i))\n",
    "    return ','.join(result)\n",
    "    "
   ]
  },
  {
   "cell_type": "code",
   "execution_count": 66,
   "metadata": {},
   "outputs": [
    {
     "data": {
      "text/plain": [
       "'100,102,104,106,108,110,112,114,116,118,120,122,124,126,128,130,132,134,136,138,140,142,144,146,148,150,152,154,156,158,160,162,164,166,168,170,172,174,176,178,180,182,184,186,188,190,192,194,196,198,200'"
      ]
     },
     "execution_count": 66,
     "metadata": {},
     "output_type": "execute_result"
    }
   ],
   "source": [
    "check_each_digit(100,200)"
   ]
  },
  {
   "cell_type": "code",
   "execution_count": 69,
   "metadata": {},
   "outputs": [
    {
     "name": "stdout",
     "output_type": "stream",
     "text": [
      "2000,2002,2004,2006,2008,2020,2022,2024,2026,2028,2040,2042,2044,2046,2048,2060,2062,2064,2066,2068,2080,2082,2084,2086,2088,2200,2202,2204,2206,2208,2220,2222,2224,2226,2228,2240,2242,2244,2246,2248,2260,2262,2264,2266,2268,2280,2282,2284,2286,2288,2400,2402,2404,2406,2408,2420,2422,2424,2426,2428,2440,2442,2444,2446,2448,2460,2462,2464,2466,2468,2480,2482,2484,2486,2488,2600,2602,2604,2606,2608,2620,2622,2624,2626,2628,2640,2642,2644,2646,2648,2660,2662,2664,2666,2668,2680,2682,2684,2686,2688,2800,2802,2804,2806,2808,2820,2822,2824,2826,2828,2840,2842,2844,2846,2848,2860,2862,2864,2866,2868,2880,2882,2884,2886,2888\n"
     ]
    }
   ],
   "source": [
    "#12\n",
    "#another way\n",
    "result = []\n",
    "for i in range(2000,3001):\n",
    "    s = str(i)\n",
    "    if int(s[0]) % 2 == 0 and int(s[1]) % 2 == 0 and int(s[2]) % 2 == 0 and int(s[3]) % 2 == 0:\n",
    "        result.append(s)\n",
    "print(','.join(result))"
   ]
  },
  {
   "cell_type": "code",
   "execution_count": 71,
   "metadata": {},
   "outputs": [],
   "source": [
    "def check_even(n):\n",
    "    s = str(n)\n",
    "    for i in s:\n",
    "        if int(i) % 2 != 0:\n",
    "            return False\n",
    "    return True"
   ]
  },
  {
   "cell_type": "code",
   "execution_count": 75,
   "metadata": {},
   "outputs": [],
   "source": [
    "def check_each_number(start,end):\n",
    "    result = []\n",
    "    for i in range(start,end+1):\n",
    "        if check_even(i):\n",
    "            result.append(str(i))\n",
    "    return ','.join(result)\n",
    "            "
   ]
  },
  {
   "cell_type": "code",
   "execution_count": 77,
   "metadata": {},
   "outputs": [
    {
     "data": {
      "text/plain": [
       "'20,22,24,26,28,40,42,44,46,48,60,62,64,66,68,80,82,84,86,88'"
      ]
     },
     "execution_count": 77,
     "metadata": {},
     "output_type": "execute_result"
    }
   ],
   "source": [
    "check_each_number(10,100)"
   ]
  },
  {
   "cell_type": "code",
   "execution_count": 78,
   "metadata": {},
   "outputs": [],
   "source": [
    "def check_even(n):\n",
    "    s = str(n)\n",
    "    for i in s:\n",
    "        if int(i) % 2 != 0:\n",
    "            return False\n",
    "    return True"
   ]
  },
  {
   "cell_type": "code",
   "execution_count": 83,
   "metadata": {},
   "outputs": [],
   "source": [
    "def check_each_number(start,end):\n",
    "    result = []\n",
    "    for i in range(start,end+1):\n",
    "        if check_even(i):\n",
    "            result.append(str(i))\n",
    "    return ','.join(result)"
   ]
  },
  {
   "cell_type": "code",
   "execution_count": 84,
   "metadata": {},
   "outputs": [
    {
     "data": {
      "text/plain": [
       "'20,22,24,26,28,40,42,44,46,48,60,62,64,66,68,80,82,84,86,88'"
      ]
     },
     "execution_count": 84,
     "metadata": {},
     "output_type": "execute_result"
    }
   ],
   "source": [
    "check_each_number(10,100)"
   ]
  },
  {
   "cell_type": "code",
   "execution_count": 99,
   "metadata": {},
   "outputs": [],
   "source": [
    "#13\n",
    "def count_digits(s):\n",
    "    count_digit = 0\n",
    "    count_letter = 0\n",
    "    for i in s:\n",
    "        if i.isdigit():\n",
    "            count_digit += 1\n",
    "        if i.isalpha():\n",
    "            count_letter +=1\n",
    "        else:\n",
    "            pass\n",
    "    return (f\"LETTERS: {count_letter}\\nDIGITS: {count_digit}\")"
   ]
  },
  {
   "cell_type": "code",
   "execution_count": 100,
   "metadata": {},
   "outputs": [
    {
     "data": {
      "text/plain": [
       "'LETTERS: 10\\nDIGITS: 3'"
      ]
     },
     "execution_count": 100,
     "metadata": {},
     "output_type": "execute_result"
    }
   ],
   "source": [
    "s = \"hello world! 123\"\n",
    "count_digits(s)"
   ]
  },
  {
   "cell_type": "code",
   "execution_count": 103,
   "metadata": {},
   "outputs": [],
   "source": [
    "#14\n",
    "def upper_lower(s):\n",
    "    d = {'upper': 0, 'lower': 0}\n",
    "    for i in s:\n",
    "        if i.isupper():\n",
    "            d['upper'] += 1\n",
    "        elif i.islower():\n",
    "            d['lower'] += 1\n",
    "        else:\n",
    "            pass\n",
    "    return d"
   ]
  },
  {
   "cell_type": "code",
   "execution_count": 106,
   "metadata": {},
   "outputs": [],
   "source": [
    "x = upper_lower(\"Hello world!\")"
   ]
  },
  {
   "cell_type": "code",
   "execution_count": 108,
   "metadata": {},
   "outputs": [
    {
     "name": "stdout",
     "output_type": "stream",
     "text": [
      "UPPER: 1\n",
      "LOWER: 9\n"
     ]
    }
   ],
   "source": [
    "print(f\"UPPER: {x['upper']}\\nLOWER: {x['lower']}\")"
   ]
  },
  {
   "cell_type": "code",
   "execution_count": 109,
   "metadata": {},
   "outputs": [
    {
     "name": "stdout",
     "output_type": "stream",
     "text": [
      "11106\n"
     ]
    }
   ],
   "source": [
    "#15\n",
    "n = 9\n",
    "n1 = (n*10) + n\n",
    "n2 = (n*100) + n1\n",
    "n3 = (n*1000) + n2\n",
    "print(n+n1+n2+n3)"
   ]
  },
  {
   "cell_type": "code",
   "execution_count": 112,
   "metadata": {},
   "outputs": [
    {
     "name": "stdout",
     "output_type": "stream",
     "text": [
      "1,9,25,49,81\n"
     ]
    }
   ],
   "source": [
    "#16\n",
    "s = \"1,2,3,4,5,6,7,8,9\"\n",
    "result = [str(int(i) ** 2) for i in s.split(',') if int(i) % 2 != 0]\n",
    "print(','.join(result))"
   ]
  },
  {
   "cell_type": "code",
   "execution_count": 118,
   "metadata": {},
   "outputs": [],
   "source": [
    "#17\n",
    "def bank_account(s):\n",
    "    new_list = s.split(',')\n",
    "    other_list = []\n",
    "    for i in new_list:\n",
    "        other_list.append(tuple(i.split()))\n",
    "    #print(other_list)\n",
    "    \n",
    "    balance = 0\n",
    "    for index,tup in enumerate(other_list):\n",
    "        if len(tup) !=2:\n",
    "            raise Exception(f\"Invalid entry found: {tup}, entry number: {index+1}\")\n",
    "        if tup[0].lower() == 'd':\n",
    "            balance += int(tup[1])\n",
    "        elif tup[0].lower() == 'w':\n",
    "            balance += int(tup[1])\n",
    "        else:\n",
    "            raise Exception(f\"Undefined value found: {tup[0]} in entry number: {index+1}\")\n",
    "    return balance                     "
   ]
  },
  {
   "cell_type": "code",
   "execution_count": 121,
   "metadata": {},
   "outputs": [
    {
     "ename": "Exception",
     "evalue": "Undefined value found: x in entry number: 7",
     "output_type": "error",
     "traceback": [
      "\u001b[1;31m---------------------------------------------------------------------------\u001b[0m",
      "\u001b[1;31mException\u001b[0m                                 Traceback (most recent call last)",
      "\u001b[1;32m<ipython-input-121-6a2e08e8f76f>\u001b[0m in \u001b[0;36m<module>\u001b[1;34m\u001b[0m\n\u001b[0;32m      1\u001b[0m \u001b[0ms\u001b[0m \u001b[1;33m=\u001b[0m \u001b[1;34m\"D 100,W 50,D 200, D  300, d 10, w 20, x 30\"\u001b[0m\u001b[1;33m\u001b[0m\u001b[1;33m\u001b[0m\u001b[0m\n\u001b[1;32m----> 2\u001b[1;33m \u001b[0mbank_account\u001b[0m\u001b[1;33m(\u001b[0m\u001b[0ms\u001b[0m\u001b[1;33m)\u001b[0m\u001b[1;33m\u001b[0m\u001b[1;33m\u001b[0m\u001b[0m\n\u001b[0m",
      "\u001b[1;32m<ipython-input-118-3211c3b7e55f>\u001b[0m in \u001b[0;36mbank_account\u001b[1;34m(s)\u001b[0m\n\u001b[0;32m     15\u001b[0m             \u001b[0mbalance\u001b[0m \u001b[1;33m+=\u001b[0m \u001b[0mint\u001b[0m\u001b[1;33m(\u001b[0m\u001b[0mtup\u001b[0m\u001b[1;33m[\u001b[0m\u001b[1;36m1\u001b[0m\u001b[1;33m]\u001b[0m\u001b[1;33m)\u001b[0m\u001b[1;33m\u001b[0m\u001b[1;33m\u001b[0m\u001b[0m\n\u001b[0;32m     16\u001b[0m         \u001b[1;32melse\u001b[0m\u001b[1;33m:\u001b[0m\u001b[1;33m\u001b[0m\u001b[1;33m\u001b[0m\u001b[0m\n\u001b[1;32m---> 17\u001b[1;33m             \u001b[1;32mraise\u001b[0m \u001b[0mException\u001b[0m\u001b[1;33m(\u001b[0m\u001b[1;34mf\"Undefined value found: {tup[0]} in entry number: {index+1}\"\u001b[0m\u001b[1;33m)\u001b[0m\u001b[1;33m\u001b[0m\u001b[1;33m\u001b[0m\u001b[0m\n\u001b[0m\u001b[0;32m     18\u001b[0m     \u001b[1;32mreturn\u001b[0m \u001b[0mbalance\u001b[0m\u001b[1;33m\u001b[0m\u001b[1;33m\u001b[0m\u001b[0m\n",
      "\u001b[1;31mException\u001b[0m: Undefined value found: x in entry number: 7"
     ]
    }
   ],
   "source": [
    "s = \"D 100,W 50,D 200, D  300, d 10, w 20, x 30\"\n",
    "bank_account(s)"
   ]
  },
  {
   "cell_type": "code",
   "execution_count": 122,
   "metadata": {},
   "outputs": [],
   "source": [
    "def bank_account(s):\n",
    "    new_list = s.split(',')\n",
    "    other_list = []\n",
    "    for i in new_list:\n",
    "        other_list.append(tuple(i.split()))\n",
    "    balance = 0\n",
    "    for index,tup in enumerate(other_list):\n",
    "        if len(tup) != 2:\n",
    "            raise Exception(f\"Invalid entry found: {tup} in entry number: {index+1}\")\n",
    "        if tup[0].lower() == 'd':\n",
    "            balance += int(tup[1])\n",
    "        elif tup[0].lower() == 'w':\n",
    "            balance += int(tup[1])\n",
    "        else:\n",
    "            raise Exception(f\"Undefined value found: {tup} in entry number: {index+1}\")\n",
    "    return balance       "
   ]
  },
  {
   "cell_type": "code",
   "execution_count": 124,
   "metadata": {},
   "outputs": [
    {
     "data": {
      "text/plain": [
       "680"
      ]
     },
     "execution_count": 124,
     "metadata": {},
     "output_type": "execute_result"
    }
   ],
   "source": [
    "s = \"D 100,W 50,D 200, D  300, d 10, w 20\"\n",
    "bank_account(s)"
   ]
  },
  {
   "cell_type": "code",
   "execution_count": 125,
   "metadata": {},
   "outputs": [],
   "source": [
    "def get_criteria(s):\n",
    "    d = {\n",
    "        'letter between [a-z]': False,\n",
    "        'number between [0-9]': False,\n",
    "        'letter between [A-Z]': False,\n",
    "        'character from [$#@]': False,\n",
    "        'min length': 6,\n",
    "        'max length': 12\n",
    "    }\n",
    "    \n",
    "    for i in s:\n",
    "        if i.isalpha() and i.islower():\n",
    "            d['letter between [a-z]'] = True\n",
    "        if i.isdigit():\n",
    "            d['number between [0-9]'] = True\n",
    "        if i.isalpha() and i.isupper():\n",
    "            d['letter between [A-Z]'] =True\n",
    "        if i in '$#@':\n",
    "            d['character from [$#@]'] = True\n",
    "        if len(s) >= 6:\n",
    "            d['min length'] = True\n",
    "        if len(s) <=12:\n",
    "            d['max length'] = True\n",
    "    return d\n",
    "\n",
    "def get_password(s):\n",
    "    criteria = get_criteria(s)\n",
    "    \n",
    "    unmatched_criteria = []\n",
    "    for i in criteria:\n",
    "        if criteria[i] == False:\n",
    "            unmatched_criteria.append(i)\n",
    "            \n",
    "    if len(unmatched_criteria) == 0:\n",
    "        print(\"Good Password\")\n",
    "            \n",
    "    else:\n",
    "        print(\"Bad password- reason: \")\n",
    "        print('\\n'.join(unmatched_criteria))\n"
   ]
  },
  {
   "cell_type": "code",
   "execution_count": 126,
   "metadata": {},
   "outputs": [],
   "source": [
    "from enum import Enum\n",
    "class Animal(Enum):\n",
    "    dog = 1\n",
    "    cat = 2\n",
    "    duck = 3\n",
    "    chicken = 4\n",
    "    "
   ]
  },
  {
   "cell_type": "code",
   "execution_count": 132,
   "metadata": {},
   "outputs": [
    {
     "name": "stdout",
     "output_type": "stream",
     "text": [
      "Animal.dog\n"
     ]
    }
   ],
   "source": [
    "print(Animal.dog)"
   ]
  },
  {
   "cell_type": "code",
   "execution_count": 131,
   "metadata": {},
   "outputs": [
    {
     "ename": "ImportError",
     "evalue": "cannot import name 'enum' from 'enum' (C:\\ProgramData\\Anaconda3\\lib\\enum.py)",
     "output_type": "error",
     "traceback": [
      "\u001b[1;31m---------------------------------------------------------------------------\u001b[0m",
      "\u001b[1;31mImportError\u001b[0m                               Traceback (most recent call last)",
      "\u001b[1;32m<ipython-input-131-1d99c77ea04b>\u001b[0m in \u001b[0;36m<module>\u001b[1;34m\u001b[0m\n\u001b[1;32m----> 1\u001b[1;33m \u001b[1;32mfrom\u001b[0m \u001b[0menum\u001b[0m \u001b[1;32mimport\u001b[0m \u001b[0menum\u001b[0m\u001b[1;33m\u001b[0m\u001b[1;33m\u001b[0m\u001b[0m\n\u001b[0m\u001b[0;32m      2\u001b[0m \u001b[0mNumbers\u001b[0m \u001b[1;33m=\u001b[0m \u001b[0menum\u001b[0m\u001b[1;33m(\u001b[0m\u001b[1;34m'ZERO'\u001b[0m\u001b[1;33m,\u001b[0m \u001b[1;34m'ONE'\u001b[0m\u001b[1;33m,\u001b[0m \u001b[1;34m'TWO'\u001b[0m\u001b[1;33m)\u001b[0m\u001b[1;33m\u001b[0m\u001b[1;33m\u001b[0m\u001b[0m\n\u001b[0;32m      3\u001b[0m \u001b[0mNumbers\u001b[0m\u001b[1;33m.\u001b[0m\u001b[0mZERO\u001b[0m\u001b[1;33m\u001b[0m\u001b[1;33m\u001b[0m\u001b[0m\n",
      "\u001b[1;31mImportError\u001b[0m: cannot import name 'enum' from 'enum' (C:\\ProgramData\\Anaconda3\\lib\\enum.py)"
     ]
    }
   ],
   "source": [
    "from enum import enum\n",
    "Numbers = enum('ZERO', 'ONE', 'TWO')\n",
    "Numbers.ZERO"
   ]
  },
  {
   "cell_type": "code",
   "execution_count": 134,
   "metadata": {},
   "outputs": [
    {
     "data": {
      "text/plain": [
       "1"
      ]
     },
     "execution_count": 134,
     "metadata": {},
     "output_type": "execute_result"
    }
   ],
   "source": [
    "Animal.dog.value"
   ]
  },
  {
   "cell_type": "code",
   "execution_count": 135,
   "metadata": {},
   "outputs": [
    {
     "name": "stdout",
     "output_type": "stream",
     "text": [
      "[[1, 2, 3, 4, 5], [2, 4, 6, 8, 10], [3, 6, 9, 12, 15]]\n"
     ]
    }
   ],
   "source": [
    "X = 3\n",
    "Y = 5\n",
    "x_result = []\n",
    "for i in range(1,X+1):\n",
    "    y_result = []\n",
    "    for j in range(1,Y+1):\n",
    "        y_result.append(i*j)\n",
    "    x_result.append(y_result)\n",
    "print(x_result)"
   ]
  },
  {
   "cell_type": "code",
   "execution_count": 138,
   "metadata": {},
   "outputs": [
    {
     "name": "stdout",
     "output_type": "stream",
     "text": [
      "HELLO WORLD\n",
      "PRACTICE MAKES PERFECT\n"
     ]
    }
   ],
   "source": [
    "s = \"Hello world\\nPractice makes perfect\"\n",
    "new_list = s.split(\"\\n\")\n",
    "new_list\n",
    "other_list = []\n",
    "for i in new_list:\n",
    "    other_list.append(i.upper())\n",
    "print('\\n'.join(other_list))"
   ]
  },
  {
   "cell_type": "code",
   "execution_count": 141,
   "metadata": {},
   "outputs": [
    {
     "data": {
      "text/plain": [
       "['again', 'and', 'hello', 'makes', 'perfect', 'practice', 'world']"
      ]
     },
     "execution_count": 141,
     "metadata": {},
     "output_type": "execute_result"
    }
   ],
   "source": [
    "s = \"hello world and practice makes perfect and hello world again\"\n",
    "new_list = s.split()\n",
    "my_set = set(new_list)\n",
    "my_list = list(my_set)\n",
    "my_list.sort()\n",
    "my_list"
   ]
  },
  {
   "cell_type": "code",
   "execution_count": 142,
   "metadata": {},
   "outputs": [],
   "source": [
    "def div_5(s):\n",
    "    l = s.split(',')\n",
    "    other_list = []\n",
    "    for i in l:\n",
    "        if int(i) % 5 == 0:\n",
    "            other_list.append(str(i))\n",
    "    return ','.join(other_list)"
   ]
  },
  {
   "cell_type": "code",
   "execution_count": 143,
   "metadata": {},
   "outputs": [
    {
     "data": {
      "text/plain": [
       "'0100,1010'"
      ]
     },
     "execution_count": 143,
     "metadata": {},
     "output_type": "execute_result"
    }
   ],
   "source": [
    "div_5('0100,0011,1010,1001')"
   ]
  },
  {
   "cell_type": "code",
   "execution_count": 149,
   "metadata": {},
   "outputs": [],
   "source": [
    "def get_even(n):\n",
    "    s = str(n)\n",
    "    for i in s:\n",
    "        if int(i) % 2 != 0:\n",
    "            return False\n",
    "    return True"
   ]
  },
  {
   "cell_type": "code",
   "execution_count": 150,
   "metadata": {},
   "outputs": [],
   "source": [
    "def each_even(start,end):\n",
    "    s = str(n)\n",
    "    other_list = []\n",
    "    for i in range(start,end+1):\n",
    "        if get_even(i):\n",
    "            other_list.append(str(i))\n",
    "    return ','.join(other_list)"
   ]
  },
  {
   "cell_type": "code",
   "execution_count": 151,
   "metadata": {},
   "outputs": [
    {
     "data": {
      "text/plain": [
       "'20,22,24,26,28,40,42,44,46,48,60,62,64,66,68,80,82,84,86,88'"
      ]
     },
     "execution_count": 151,
     "metadata": {},
     "output_type": "execute_result"
    }
   ],
   "source": [
    " each_even(10,100)"
   ]
  },
  {
   "cell_type": "code",
   "execution_count": 153,
   "metadata": {},
   "outputs": [
    {
     "name": "stdout",
     "output_type": "stream",
     "text": [
      "2000,2002,2004,2006,2008,2020,2022,2024,2026,2028,2040,2042,2044,2046,2048,2060,2062,2064,2066,2068,2080,2082,2084,2086,2088,2200,2202,2204,2206,2208,2220,2222,2224,2226,2228,2240,2242,2244,2246,2248,2260,2262,2264,2266,2268,2280,2282,2284,2286,2288,2400,2402,2404,2406,2408,2420,2422,2424,2426,2428,2440,2442,2444,2446,2448,2460,2462,2464,2466,2468,2480,2482,2484,2486,2488,2600,2602,2604,2606,2608,2620,2622,2624,2626,2628,2640,2642,2644,2646,2648,2660,2662,2664,2666,2668,2680,2682,2684,2686,2688,2800,2802,2804,2806,2808,2820,2822,2824,2826,2828,2840,2842,2844,2846,2848,2860,2862,2864,2866,2868,2880,2882,2884,2886,2888\n"
     ]
    }
   ],
   "source": [
    "result = []\n",
    "for i in range(2000,3001):\n",
    "    s = str(i)\n",
    "    if int(s[0]) % 2 == 0 and int(s[1]) % 2 == 0 and int(s[2]) % 2 == 0 and int(s[3]) % 2 == 0:\n",
    "        result.append(s)\n",
    "print(','.join(result))"
   ]
  },
  {
   "cell_type": "code",
   "execution_count": 158,
   "metadata": {},
   "outputs": [
    {
     "data": {
      "text/plain": [
       "'1,9,25,49,81'"
      ]
     },
     "execution_count": 158,
     "metadata": {},
     "output_type": "execute_result"
    }
   ],
   "source": [
    "s = \"1,2,3,4,5,6,7,8,9\"\n",
    "result = [str(int(x)**2) for x in s.split(',') if int(x) % 2 != 0]\n",
    "','.join(result)"
   ]
  },
  {
   "cell_type": "code",
   "execution_count": 183,
   "metadata": {},
   "outputs": [],
   "source": [
    "def bank_account(s):\n",
    "    l = s.split(',')\n",
    "    other_list = []\n",
    "    for i in l:\n",
    "        other_list.append(tuple(i.split()))\n",
    "        \n",
    "    balance = 0\n",
    "    for index,tup in enumerate(other_list):\n",
    "        if len(tup) != 2:\n",
    "            raise Exception(f\"Invalid entry, entry number: {index +1}\")\n",
    "        if tup[0].lower() == 'd':\n",
    "            balance += int(tup[1])\n",
    "        elif tup[0].lower() == 'w':\n",
    "            balance -= int(tup[1])\n",
    "        else:\n",
    "            raise Exception(f\"Undefined value: {tup[0]}, entry number: {index+1}\")\n",
    "    return balance"
   ]
  },
  {
   "cell_type": "code",
   "execution_count": 184,
   "metadata": {},
   "outputs": [
    {
     "ename": "Exception",
     "evalue": "Undefined value: X, entry number: 5",
     "output_type": "error",
     "traceback": [
      "\u001b[1;31m---------------------------------------------------------------------------\u001b[0m",
      "\u001b[1;31mException\u001b[0m                                 Traceback (most recent call last)",
      "\u001b[1;32m<ipython-input-184-141234e7c974>\u001b[0m in \u001b[0;36m<module>\u001b[1;34m\u001b[0m\n\u001b[0;32m      1\u001b[0m \u001b[0ms\u001b[0m \u001b[1;33m=\u001b[0m \u001b[1;34m\"D 300, D 300, W 200, D 100, X 500\"\u001b[0m\u001b[1;33m\u001b[0m\u001b[1;33m\u001b[0m\u001b[0m\n\u001b[1;32m----> 2\u001b[1;33m \u001b[0mbank_account\u001b[0m\u001b[1;33m(\u001b[0m\u001b[0ms\u001b[0m\u001b[1;33m)\u001b[0m\u001b[1;33m\u001b[0m\u001b[1;33m\u001b[0m\u001b[0m\n\u001b[0m",
      "\u001b[1;32m<ipython-input-183-f62b95e9b290>\u001b[0m in \u001b[0;36mbank_account\u001b[1;34m(s)\u001b[0m\n\u001b[0;32m     14\u001b[0m             \u001b[0mbalance\u001b[0m \u001b[1;33m-=\u001b[0m \u001b[0mint\u001b[0m\u001b[1;33m(\u001b[0m\u001b[0mtup\u001b[0m\u001b[1;33m[\u001b[0m\u001b[1;36m1\u001b[0m\u001b[1;33m]\u001b[0m\u001b[1;33m)\u001b[0m\u001b[1;33m\u001b[0m\u001b[1;33m\u001b[0m\u001b[0m\n\u001b[0;32m     15\u001b[0m         \u001b[1;32melse\u001b[0m\u001b[1;33m:\u001b[0m\u001b[1;33m\u001b[0m\u001b[1;33m\u001b[0m\u001b[0m\n\u001b[1;32m---> 16\u001b[1;33m             \u001b[1;32mraise\u001b[0m \u001b[0mException\u001b[0m\u001b[1;33m(\u001b[0m\u001b[1;34mf\"Undefined value: {tup[0]}, entry number: {index+1}\"\u001b[0m\u001b[1;33m)\u001b[0m\u001b[1;33m\u001b[0m\u001b[1;33m\u001b[0m\u001b[0m\n\u001b[0m\u001b[0;32m     17\u001b[0m     \u001b[1;32mreturn\u001b[0m \u001b[0mbalance\u001b[0m\u001b[1;33m\u001b[0m\u001b[1;33m\u001b[0m\u001b[0m\n",
      "\u001b[1;31mException\u001b[0m: Undefined value: X, entry number: 5"
     ]
    }
   ],
   "source": [
    "s = \"D 300, D 300, W 200, D 100, X 500\"\n",
    "bank_account(s)"
   ]
  },
  {
   "cell_type": "code",
   "execution_count": 194,
   "metadata": {},
   "outputs": [],
   "source": [
    "def get_criteria(s):\n",
    "    d = {\n",
    "        'letter between [a-z]': False,\n",
    "        'number between [0-9]':False,\n",
    "        '1 letter between [A-Z]':False,\n",
    "        '1 character from [$#@]':False,\n",
    "        'minimum length': False,\n",
    "        'maximum length': False\n",
    "    }\n",
    "    \n",
    "    for i in s:\n",
    "        if i.isalpha() and i.islower():\n",
    "            d['letter between [a-z]'] = True\n",
    "        if i.isdigit():\n",
    "            d['number between [0-9]'] = True\n",
    "        if i.isalpha() and i.isupper():\n",
    "            d['1 letter between [A-Z]'] = True\n",
    "        if i in '$#@':\n",
    "            d['1 character from [$#@]'] = True\n",
    "        if len(s) > 6:\n",
    "            d['minimum length'] = True\n",
    "        if len(s) <= 12:\n",
    "            d['maximum length'] = True\n",
    "            \n",
    "    return d\n",
    "\n",
    "def get_password(s):\n",
    "    criteria = get_criteria(s)\n",
    "    unmatched_criteria = []\n",
    "    \n",
    "    for key in criteria:\n",
    "        if criteria[key] == False:\n",
    "            unmatched_criteria.append(key)\n",
    "            \n",
    "    if len(unmatched_criteria) == 0:\n",
    "        print('Good password')\n",
    "    else:\n",
    "        print('Bad password: reason: ')\n",
    "        print('\\n'.join(unmatched_criteria))"
   ]
  },
  {
   "cell_type": "code",
   "execution_count": 195,
   "metadata": {},
   "outputs": [
    {
     "name": "stdout",
     "output_type": "stream",
     "text": [
      "Good password\n"
     ]
    }
   ],
   "source": [
    "get_password('ABd1234@1')"
   ]
  },
  {
   "cell_type": "code",
   "execution_count": 196,
   "metadata": {},
   "outputs": [
    {
     "name": "stdout",
     "output_type": "stream",
     "text": [
      "Good password\n"
     ]
    }
   ],
   "source": [
    "get_password('a F1#,2w3E*')"
   ]
  },
  {
   "cell_type": "code",
   "execution_count": 197,
   "metadata": {},
   "outputs": [
    {
     "name": "stdout",
     "output_type": "stream",
     "text": [
      "Bad password: reason: \n",
      "letter between [a-z]\n",
      "1 letter between [A-Z]\n",
      "1 character from [$#@]\n",
      "minimum length\n"
     ]
    }
   ],
   "source": [
    "get_password('123')"
   ]
  },
  {
   "cell_type": "code",
   "execution_count": 209,
   "metadata": {},
   "outputs": [
    {
     "name": "stdout",
     "output_type": "stream",
     "text": [
      "(-1, 2)\n"
     ]
    },
    {
     "data": {
      "text/plain": [
       "2.236"
      ]
     },
     "execution_count": 209,
     "metadata": {},
     "output_type": "execute_result"
    }
   ],
   "source": [
    "robot_steps = [('u', 5), ('d', 3), ('l',3), ('r', 2)]\n",
    "current_position = [0,0]\n",
    "for i in robot_steps:\n",
    "    direction = i[0]\n",
    "    steps = i[1]\n",
    "    if direction == 'u':\n",
    "        current_position[1] += steps\n",
    "    if direction == 'd':\n",
    "        current_position[1] -= steps\n",
    "    if direction == 'l':\n",
    "        current_position[0] -= steps\n",
    "    if direction == 'r':\n",
    "        current_position[0] += steps\n",
    "print(tuple(current_position))\n",
    "dist = round(((current_position[0])**2 + (current_position[1])**2)**0.5, 3)\n",
    "dist"
   ]
  },
  {
   "cell_type": "code",
   "execution_count": 210,
   "metadata": {},
   "outputs": [
    {
     "data": {
      "text/plain": [
       "[('John', 20, 90),\n",
       " ('Jony', 17, 91),\n",
       " ('Jony', 17, 93),\n",
       " ('Json', 21, 85),\n",
       " ('Tom', 19, 80)]"
      ]
     },
     "execution_count": 210,
     "metadata": {},
     "output_type": "execute_result"
    }
   ],
   "source": [
    "from operator import itemgetter\n",
    "l = [(\"Tom\",19,80),(\"John\",20,90),(\"Jony\",17,91),(\"Jony\",17,93),(\"Json\",21,85)]\n",
    "sorted(l, key = itemgetter(0,1,2))"
   ]
  },
  {
   "cell_type": "code",
   "execution_count": 3,
   "metadata": {},
   "outputs": [
    {
     "data": {
      "text/plain": [
       "['D 300', ' D 300', ' W 200', ' D 100']"
      ]
     },
     "execution_count": 3,
     "metadata": {},
     "output_type": "execute_result"
    }
   ],
   "source": [
    "s = 'D 300, D 300, W 200, D 100'\n",
    "new_list = s.split(',')\n",
    "new_list"
   ]
  },
  {
   "cell_type": "code",
   "execution_count": 8,
   "metadata": {},
   "outputs": [],
   "source": [
    "def bank_account(s):\n",
    "    new_list = s.split(',')\n",
    "    other_list = []\n",
    "    for i in new_list:\n",
    "        other_list.append(tuple(i.split()))\n",
    "    balance = 0\n",
    "    for index,tup in enumerate(other_list):\n",
    "        if len(s) != 2:\n",
    "            raise Exception(\"Invalid entry\")\n",
    "        if tup[0].lower() == 'd':\n",
    "            balance += int(tup[1])\n",
    "        if tup[0].lower() == 'w':\n",
    "            balance -= int(tup[1])\n",
    "        else:\n",
    "            raise Exception(f\"Undefined entry: {tup[0]}, entry number: {index + 1}\")\n",
    "    return balance"
   ]
  },
  {
   "cell_type": "code",
   "execution_count": 9,
   "metadata": {},
   "outputs": [
    {
     "ename": "Exception",
     "evalue": "Invalid entry",
     "output_type": "error",
     "traceback": [
      "\u001b[1;31m---------------------------------------------------------------------------\u001b[0m",
      "\u001b[1;31mException\u001b[0m                                 Traceback (most recent call last)",
      "\u001b[1;32m<ipython-input-9-59a0fd68be29>\u001b[0m in \u001b[0;36m<module>\u001b[1;34m\u001b[0m\n\u001b[0;32m      1\u001b[0m \u001b[0ms\u001b[0m \u001b[1;33m=\u001b[0m \u001b[1;34m'D 300, D 300, W 200, D 100'\u001b[0m\u001b[1;33m\u001b[0m\u001b[1;33m\u001b[0m\u001b[0m\n\u001b[1;32m----> 2\u001b[1;33m \u001b[0mbank_account\u001b[0m\u001b[1;33m(\u001b[0m\u001b[0ms\u001b[0m\u001b[1;33m)\u001b[0m\u001b[1;33m\u001b[0m\u001b[1;33m\u001b[0m\u001b[0m\n\u001b[0m",
      "\u001b[1;32m<ipython-input-8-6a1c918b7e63>\u001b[0m in \u001b[0;36mbank_account\u001b[1;34m(s)\u001b[0m\n\u001b[0;32m      7\u001b[0m     \u001b[1;32mfor\u001b[0m \u001b[0mindex\u001b[0m\u001b[1;33m,\u001b[0m\u001b[0mtup\u001b[0m \u001b[1;32min\u001b[0m \u001b[0menumerate\u001b[0m\u001b[1;33m(\u001b[0m\u001b[0mother_list\u001b[0m\u001b[1;33m)\u001b[0m\u001b[1;33m:\u001b[0m\u001b[1;33m\u001b[0m\u001b[1;33m\u001b[0m\u001b[0m\n\u001b[0;32m      8\u001b[0m         \u001b[1;32mif\u001b[0m \u001b[0mlen\u001b[0m\u001b[1;33m(\u001b[0m\u001b[0ms\u001b[0m\u001b[1;33m)\u001b[0m \u001b[1;33m!=\u001b[0m \u001b[1;36m2\u001b[0m\u001b[1;33m:\u001b[0m\u001b[1;33m\u001b[0m\u001b[1;33m\u001b[0m\u001b[0m\n\u001b[1;32m----> 9\u001b[1;33m             \u001b[1;32mraise\u001b[0m \u001b[0mException\u001b[0m\u001b[1;33m(\u001b[0m\u001b[1;34m\"Invalid entry\"\u001b[0m\u001b[1;33m)\u001b[0m\u001b[1;33m\u001b[0m\u001b[1;33m\u001b[0m\u001b[0m\n\u001b[0m\u001b[0;32m     10\u001b[0m         \u001b[1;32mif\u001b[0m \u001b[0mtup\u001b[0m\u001b[1;33m[\u001b[0m\u001b[1;36m0\u001b[0m\u001b[1;33m]\u001b[0m\u001b[1;33m.\u001b[0m\u001b[0mlower\u001b[0m\u001b[1;33m(\u001b[0m\u001b[1;33m)\u001b[0m \u001b[1;33m==\u001b[0m \u001b[1;34m'd'\u001b[0m\u001b[1;33m:\u001b[0m\u001b[1;33m\u001b[0m\u001b[1;33m\u001b[0m\u001b[0m\n\u001b[0;32m     11\u001b[0m             \u001b[0mbalance\u001b[0m \u001b[1;33m+=\u001b[0m \u001b[0mint\u001b[0m\u001b[1;33m(\u001b[0m\u001b[0mtup\u001b[0m\u001b[1;33m[\u001b[0m\u001b[1;36m1\u001b[0m\u001b[1;33m]\u001b[0m\u001b[1;33m)\u001b[0m\u001b[1;33m\u001b[0m\u001b[1;33m\u001b[0m\u001b[0m\n",
      "\u001b[1;31mException\u001b[0m: Invalid entry"
     ]
    }
   ],
   "source": [
    "s = 'D 300, D 300, W 200, D 100'\n",
    "bank_account(s)"
   ]
  },
  {
   "cell_type": "code",
   "execution_count": 15,
   "metadata": {},
   "outputs": [],
   "source": [
    "def get_criteria(s):\n",
    "    d = {\n",
    "        'letter between [a-z]': False,\n",
    "        'number between [0-9]':False,\n",
    "        '1 letter between [A-Z]':False,\n",
    "        '1 character from [$#@]':False,\n",
    "        'minimum length': False,\n",
    "        'maximum length': False\n",
    "    }\n",
    "    \n",
    "    for i in s:\n",
    "        if i.isalpha() and i.islower():\n",
    "            d['letter between [a-z]'] = True\n",
    "        if i.isdigit():\n",
    "            d['number between [0-9]'] = True\n",
    "        if i.isalpha() and i.isupper():\n",
    "            d['1 letter between [A-Z]'] = True\n",
    "        if i in '$#@':\n",
    "            d['1 character from [$#@]'] = True\n",
    "        if len(s) > 6:\n",
    "            d['minimum length'] = True\n",
    "        if len(s) <= 12:\n",
    "            d['maximum length'] = True\n",
    "            \n",
    "    return d\n",
    "    \n",
    "def get_password(s):\n",
    "    criteria = get_criteria(s)\n",
    "    unmatched_criteria = []\n",
    "    for key in criteria:\n",
    "        if criteria[key] == False:\n",
    "            unmatched_criteria.append(key)\n",
    "            \n",
    "    if len(unmatched_criteria) == 0:\n",
    "        print('Good password!')\n",
    "    else:\n",
    "        print('Bad password')\n",
    "        print('\\n'.join(unmatched_criteria))"
   ]
  },
  {
   "cell_type": "code",
   "execution_count": 16,
   "metadata": {},
   "outputs": [
    {
     "name": "stdout",
     "output_type": "stream",
     "text": [
      "Good password!\n"
     ]
    }
   ],
   "source": [
    "get_password(\"ABd1234@1\")"
   ]
  },
  {
   "cell_type": "code",
   "execution_count": 17,
   "metadata": {},
   "outputs": [
    {
     "name": "stdout",
     "output_type": "stream",
     "text": [
      "Bad password\n",
      "1 character from [$#@]\n"
     ]
    }
   ],
   "source": [
    "get_password(\"2We3345\")"
   ]
  },
  {
   "cell_type": "code",
   "execution_count": 20,
   "metadata": {},
   "outputs": [
    {
     "name": "stdout",
     "output_type": "stream",
     "text": [
      "Bad password\n",
      "minimum length\n"
     ]
    }
   ],
   "source": [
    "get_password('a F1#')"
   ]
  },
  {
   "cell_type": "code",
   "execution_count": 25,
   "metadata": {},
   "outputs": [
    {
     "data": {
      "text/plain": [
       "[('John', 20, 90),\n",
       " ('Jony', 17, 91),\n",
       " ('Jony', 17, 93),\n",
       " ('Json', 21, 85),\n",
       " ('Tom', 19, 80)]"
      ]
     },
     "execution_count": 25,
     "metadata": {},
     "output_type": "execute_result"
    }
   ],
   "source": [
    "from operator import itemgetter\n",
    "l = [('Tom',19,80), ('John',20,90),('Jony',17,91),('Jony',17,93),('Json',21,85)]\n",
    "sorted(l, key= itemgetter(0,1,2))"
   ]
  },
  {
   "cell_type": "code",
   "execution_count": 26,
   "metadata": {},
   "outputs": [],
   "source": [
    "def gen_7(n):\n",
    "    for i in range(0,n+1):\n",
    "        if i % 7 ==0:\n",
    "            yield i\n",
    "        "
   ]
  },
  {
   "cell_type": "code",
   "execution_count": 28,
   "metadata": {},
   "outputs": [
    {
     "name": "stdout",
     "output_type": "stream",
     "text": [
      "0\n",
      "7\n"
     ]
    }
   ],
   "source": [
    "for i in gen_7(10):\n",
    "    print(i)"
   ]
  },
  {
   "cell_type": "code",
   "execution_count": 29,
   "metadata": {},
   "outputs": [],
   "source": [
    "s = 'U 5, D 3, L 3, R 2'\n",
    "l = s.split(',')"
   ]
  },
  {
   "cell_type": "code",
   "execution_count": 30,
   "metadata": {},
   "outputs": [
    {
     "data": {
      "text/plain": [
       "['U 5', ' D 3', ' L 3', ' R 2']"
      ]
     },
     "execution_count": 30,
     "metadata": {},
     "output_type": "execute_result"
    }
   ],
   "source": [
    "l"
   ]
  },
  {
   "cell_type": "code",
   "execution_count": 40,
   "metadata": {},
   "outputs": [],
   "source": [
    "\n",
    "def robot_steps(l):\n",
    "    current_position = [0,0]\n",
    "    \n",
    "    for i in l:\n",
    "        direction = i[0].lower()\n",
    "        steps = int(i[1])\n",
    "        if direction == 'u':\n",
    "            current_position[1] += steps\n",
    "        if direction == 'd':\n",
    "            current_position[1] -= steps\n",
    "        if direction == 'l':\n",
    "            current_position[0] -= steps\n",
    "        if direction == 'r':\n",
    "            current_position[0] += steps\n",
    "        else:\n",
    "            pass\n",
    "    return round(((current_position[1])**2 + (current_position[0])**2)**0.5)\n",
    "        "
   ]
  },
  {
   "cell_type": "code",
   "execution_count": 41,
   "metadata": {},
   "outputs": [
    {
     "data": {
      "text/plain": [
       "2"
      ]
     },
     "execution_count": 41,
     "metadata": {},
     "output_type": "execute_result"
    }
   ],
   "source": [
    "l = [('U', 5), ('D', 3), ('L', 3), ('R', 2)]\n",
    "robot_steps(l)"
   ]
  },
  {
   "cell_type": "code",
   "execution_count": 47,
   "metadata": {},
   "outputs": [
    {
     "name": "stdout",
     "output_type": "stream",
     "text": [
      "{'New': 1, 'to': 1, 'Python': 5, 'or': 2, 'choosing': 1, 'between': 1, '2': 2, 'and': 1, '3?': 1, 'Read': 1, '3.': 1}\n"
     ]
    }
   ],
   "source": [
    "s = 'New to Python or choosing between Python 2 and Python 3? Read Python 2 or Python 3.'\n",
    "l = s.split()\n",
    "#print(l)\n",
    "d = {}\n",
    "for i in l:\n",
    "    if i not in d:\n",
    "        d[i] = 1\n",
    "    else:\n",
    "        d[i] += 1\n",
    "print(d)"
   ]
  },
  {
   "cell_type": "code",
   "execution_count": 48,
   "metadata": {},
   "outputs": [],
   "source": [
    "sorted_list = sorted(list(d))"
   ]
  },
  {
   "cell_type": "code",
   "execution_count": 49,
   "metadata": {},
   "outputs": [
    {
     "name": "stdout",
     "output_type": "stream",
     "text": [
      "2: 2\n",
      "3.: 1\n",
      "3?: 1\n",
      "New: 1\n",
      "Python: 5\n",
      "Read: 1\n",
      "and: 1\n",
      "between: 1\n",
      "choosing: 1\n",
      "or: 2\n",
      "to: 1\n"
     ]
    }
   ],
   "source": [
    "for i in sorted_list:\n",
    "    print(f\"{i}: {d[i]}\")"
   ]
  },
  {
   "cell_type": "code",
   "execution_count": 50,
   "metadata": {},
   "outputs": [
    {
     "name": "stdout",
     "output_type": "stream",
     "text": [
      "Return the absolute value of the argument.\n"
     ]
    }
   ],
   "source": [
    "print(abs.__doc__)"
   ]
  },
  {
   "cell_type": "code",
   "execution_count": 51,
   "metadata": {},
   "outputs": [
    {
     "name": "stdout",
     "output_type": "stream",
     "text": [
      "Forward raw_input to frontends\n",
      "\n",
      "        Raises\n",
      "        ------\n",
      "        StdinNotImplentedError if active frontend doesn't support stdin.\n",
      "        \n"
     ]
    }
   ],
   "source": [
    "print(input.__doc__)"
   ]
  },
  {
   "cell_type": "code",
   "execution_count": 52,
   "metadata": {},
   "outputs": [
    {
     "name": "stdout",
     "output_type": "stream",
     "text": [
      "int([x]) -> integer\n",
      "int(x, base=10) -> integer\n",
      "\n",
      "Convert a number or string to an integer, or return 0 if no arguments\n",
      "are given.  If x is a number, return x.__int__().  For floating point\n",
      "numbers, this truncates towards zero.\n",
      "\n",
      "If x is not a number or if base is given, then x must be a string,\n",
      "bytes, or bytearray instance representing an integer literal in the\n",
      "given base.  The literal can be preceded by '+' or '-' and be surrounded\n",
      "by whitespace.  The base defaults to 10.  Valid bases are 0 and 2-36.\n",
      "Base 0 means to interpret the base from the string as an integer literal.\n",
      ">>> int('0b100', base=0)\n",
      "4\n"
     ]
    }
   ],
   "source": [
    "print(int.__doc__)"
   ]
  },
  {
   "cell_type": "code",
   "execution_count": 53,
   "metadata": {},
   "outputs": [],
   "source": [
    "class Person:\n",
    "    name=\"Person\"\n",
    "    def __init__(self,name):\n",
    "        self.name = name\n",
    "    "
   ]
  },
  {
   "cell_type": "code",
   "execution_count": 54,
   "metadata": {},
   "outputs": [],
   "source": [
    "aydin = Person('aydin')"
   ]
  },
  {
   "cell_type": "code",
   "execution_count": 55,
   "metadata": {},
   "outputs": [
    {
     "data": {
      "text/plain": [
       "'aydin'"
      ]
     },
     "execution_count": 55,
     "metadata": {},
     "output_type": "execute_result"
    }
   ],
   "source": [
    "aydin.name"
   ]
  },
  {
   "cell_type": "code",
   "execution_count": 56,
   "metadata": {},
   "outputs": [
    {
     "data": {
      "text/plain": [
       "'Person'"
      ]
     },
     "execution_count": 56,
     "metadata": {},
     "output_type": "execute_result"
    }
   ],
   "source": [
    "Person.name"
   ]
  },
  {
   "cell_type": "code",
   "execution_count": null,
   "metadata": {},
   "outputs": [],
   "source": []
  }
 ],
 "metadata": {
  "kernelspec": {
   "display_name": "Python 3",
   "language": "python",
   "name": "python3"
  },
  "language_info": {
   "codemirror_mode": {
    "name": "ipython",
    "version": 3
   },
   "file_extension": ".py",
   "mimetype": "text/x-python",
   "name": "python",
   "nbconvert_exporter": "python",
   "pygments_lexer": "ipython3",
   "version": "3.7.1"
  }
 },
 "nbformat": 4,
 "nbformat_minor": 2
}
